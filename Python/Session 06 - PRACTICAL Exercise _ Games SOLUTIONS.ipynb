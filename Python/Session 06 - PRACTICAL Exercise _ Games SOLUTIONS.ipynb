{
 "cells": [
  {
   "cell_type": "markdown",
   "metadata": {},
   "source": [
    "# Practical Exercise: Game time!\n",
    "\n",
    "### Scenario\n",
    "- You are opening a mini arcade and want to put together some fun games for your customers! :)\n",
    "\n",
    "### Objectives\n",
    "- Write some fun games that make use of your python knowledge. Practicing using:\n",
    "    - functions\n",
    "    - conditional statements\n",
    "    - loops\n",
    "    - numpy arrays\n",
    "- Learn how to generate random numbers!"
   ]
  },
  {
   "cell_type": "markdown",
   "metadata": {},
   "source": [
    "### Things to know:\n",
    "- The function `np.random.randint(a, b)` returns a random integer between `a` and `b`.\n",
    "- The function `np.random.choice(list)` returns a value randomly selected from `list`.\n",
    "- The function `input(prompt)` will ask the user for an answer to prompt and return the answer as a string.\n",
    "\n"
   ]
  },
  {
   "cell_type": "markdown",
   "metadata": {},
   "source": [
    "## Step 0: Function demo\n",
    "**Let's demo these new functions together!**"
   ]
  },
  {
   "cell_type": "code",
   "execution_count": 4,
   "metadata": {},
   "outputs": [],
   "source": [
    "# import numpy as always\n",
    "import numpy as np"
   ]
  },
  {
   "cell_type": "markdown",
   "metadata": {},
   "source": [
    "The `numpy` package includes a module to generate random numbers called `numpy.random`. There are several useful functions within the module including `np.random.randint()` and `np.random.choice()`.\n"
   ]
  },
  {
   "cell_type": "markdown",
   "metadata": {},
   "source": [
    "### `np.random.randint`\n",
    "`np.random.randint(a,b)` will return a random integer between the integers `a` and `b`. For example:"
   ]
  },
  {
   "cell_type": "code",
   "execution_count": 5,
   "metadata": {},
   "outputs": [
    {
     "name": "stdout",
     "output_type": "stream",
     "text": [
      "2\n"
     ]
    }
   ],
   "source": [
    "# print a random number between 0 and 5\n",
    "print(np.random.randint(0,5))"
   ]
  },
  {
   "cell_type": "code",
   "execution_count": 10,
   "metadata": {},
   "outputs": [
    {
     "name": "stdout",
     "output_type": "stream",
     "text": [
      "2\n"
     ]
    }
   ],
   "source": [
    "# we can store the random number in a variable too\n",
    "rand_num = np.random.randint(0,5)\n",
    "print(rand_num)"
   ]
  },
  {
   "cell_type": "markdown",
   "metadata": {},
   "source": [
    "Try running the above cells more than once to see that you get different numbers!"
   ]
  },
  {
   "cell_type": "markdown",
   "metadata": {},
   "source": [
    "***Your turn:***\n",
    "Try to generate a random number between -5 and 20."
   ]
  },
  {
   "cell_type": "code",
   "execution_count": 11,
   "metadata": {},
   "outputs": [
    {
     "data": {
      "text/plain": [
       "' your code here '"
      ]
     },
     "execution_count": 11,
     "metadata": {},
     "output_type": "execute_result"
    }
   ],
   "source": [
    "# print a random number between -5 and 20\n",
    "\n",
    "\"\"\" your code here \"\"\""
   ]
  },
  {
   "cell_type": "markdown",
   "metadata": {},
   "source": [
    "### `np.random.choice`\n",
    "`np.random.choice(list)` will return a random item from `list`. Note that this works for lists and numpy arrays!"
   ]
  },
  {
   "cell_type": "code",
   "execution_count": 12,
   "metadata": {},
   "outputs": [
    {
     "name": "stdout",
     "output_type": "stream",
     "text": [
      "1\n"
     ]
    }
   ],
   "source": [
    "# You can feed it the list (or array) directly:\n",
    "print(np.random.choice([0,1,2,3,4,5]))"
   ]
  },
  {
   "cell_type": "code",
   "execution_count": 13,
   "metadata": {},
   "outputs": [
    {
     "name": "stdout",
     "output_type": "stream",
     "text": [
      "5\n"
     ]
    }
   ],
   "source": [
    "# Or you can save it as a variable first and then feed it to the function:\n",
    "options = [0,1,2,3,4,5]\n",
    "print(np.random.choice(options))"
   ]
  },
  {
   "cell_type": "code",
   "execution_count": 14,
   "metadata": {},
   "outputs": [
    {
     "name": "stdout",
     "output_type": "stream",
     "text": [
      "1\n"
     ]
    }
   ],
   "source": [
    "# And just like with the previous function, we can also store the output as a variable:\n",
    "options = [0,1,2,3,4,5]\n",
    "random_number = np.random.choice(options)\n",
    "print(random_number)"
   ]
  },
  {
   "cell_type": "markdown",
   "metadata": {},
   "source": [
    "***Your turn:***\n",
    "Choose a random color from a list of choices."
   ]
  },
  {
   "cell_type": "code",
   "execution_count": 15,
   "metadata": {},
   "outputs": [
    {
     "data": {
      "text/plain": [
       "'your code here'"
      ]
     },
     "execution_count": 15,
     "metadata": {},
     "output_type": "execute_result"
    }
   ],
   "source": [
    "# Choose a random color from a list of colors:\n",
    "\n",
    "\"\"\"your code here\"\"\""
   ]
  },
  {
   "cell_type": "markdown",
   "metadata": {},
   "source": [
    "### `input`\n",
    "\n",
    "We'll also be using a built-in python function called `input`, which will prompt the user to enter text and store the text as a string."
   ]
  },
  {
   "cell_type": "code",
   "execution_count": 16,
   "metadata": {},
   "outputs": [
    {
     "name": "stdout",
     "output_type": "stream",
     "text": [
      "Enter a number:  5\n"
     ]
    },
    {
     "name": "stdout",
     "output_type": "stream",
     "text": [
      "5\n"
     ]
    }
   ],
   "source": [
    "# Ask the user for a number and print it:\n",
    "print(input(\"Enter a number: \"))"
   ]
  },
  {
   "cell_type": "code",
   "execution_count": 17,
   "metadata": {},
   "outputs": [
    {
     "name": "stdout",
     "output_type": "stream",
     "text": [
      "Enter a number:  5\n"
     ]
    },
    {
     "name": "stdout",
     "output_type": "stream",
     "text": [
      "5\n"
     ]
    }
   ],
   "source": [
    "# Ask the user for a number, store the answer as a variable, and print it:\n",
    "user_number = input(\"Enter a number: \")\n",
    "print(user_number)"
   ]
  },
  {
   "cell_type": "code",
   "execution_count": 18,
   "metadata": {},
   "outputs": [
    {
     "name": "stdout",
     "output_type": "stream",
     "text": [
      "Enter a number:  0\n"
     ]
    },
    {
     "name": "stdout",
     "output_type": "stream",
     "text": [
      "<class 'str'>\n"
     ]
    }
   ],
   "source": [
    "# Remember that by default, the answer is stored as a *string*:\n",
    "user_number = input(\"Enter a number: \")\n",
    "print(type(user_number))"
   ]
  },
  {
   "cell_type": "code",
   "execution_count": 19,
   "metadata": {},
   "outputs": [
    {
     "name": "stdout",
     "output_type": "stream",
     "text": [
      "Enter a number:  0\n"
     ]
    },
    {
     "name": "stdout",
     "output_type": "stream",
     "text": [
      "<class 'int'>\n"
     ]
    }
   ],
   "source": [
    "# We might want to convert it to an integer:\n",
    "user_number = int(input(\"Enter a number: \"))\n",
    "print(type(user_number))"
   ]
  },
  {
   "cell_type": "markdown",
   "metadata": {},
   "source": [
    "***Your turn:*** Ask the user for their name and print the response."
   ]
  },
  {
   "cell_type": "code",
   "execution_count": 20,
   "metadata": {},
   "outputs": [
    {
     "data": {
      "text/plain": [
       "'your code here'"
      ]
     },
     "execution_count": 20,
     "metadata": {},
     "output_type": "execute_result"
    }
   ],
   "source": [
    "# Ask the user for their name and print the response\n",
    "\"\"\"your code here\"\"\""
   ]
  },
  {
   "cell_type": "markdown",
   "metadata": {},
   "source": [
    "Great! Now we've learned some new `numpy` and `python` functions and we can use them to build some fun functions."
   ]
  },
  {
   "cell_type": "markdown",
   "metadata": {},
   "source": [
    "---"
   ]
  },
  {
   "cell_type": "markdown",
   "metadata": {},
   "source": [
    "## Step 1: What's for lunch? (*together*)"
   ]
  },
  {
   "cell_type": "markdown",
   "metadata": {},
   "source": [
    "\n",
    "Sometimes it's hard to choose what to eat for lunch and we might want a suggestion. Let's make a list of options and ask the computer to pick something for us!"
   ]
  },
  {
   "cell_type": "code",
   "execution_count": 22,
   "metadata": {},
   "outputs": [
    {
     "name": "stdout",
     "output_type": "stream",
     "text": [
      "Burger\n"
     ]
    }
   ],
   "source": [
    "# Define a list of some lunch options\n",
    "lunch_options = [\"Pizza\", \"Sushi\", \"Tacos\", \"Salad\", \"Burger\", \"Sandwich\"]\n",
    "\n",
    "# Choose one!\n",
    "print(np.random.choice(lunch_options))"
   ]
  },
  {
   "cell_type": "markdown",
   "metadata": {},
   "source": [
    "For convenience, we can make this into a function:"
   ]
  },
  {
   "cell_type": "code",
   "execution_count": 23,
   "metadata": {},
   "outputs": [],
   "source": [
    "def what_should_i_eat():\n",
    "    \"\"\"Function to suggest a random lunch option from a predefined list.\"\"\"\n",
    "\n",
    "    # Define a list of lunch options\n",
    "    lunch_options = [\"Pizza\", \"Sushi\", \"Tacos\", \"Salad\", \"Burger\", \"Sandwich\"]\n",
    "\n",
    "    # Choose a random lunch option\n",
    "    random_lunch = np.random.choice(lunch_options)\n",
    "\n",
    "    # Print the choice\n",
    "    print(f\"You should eat {random_lunch} for lunch today!\")"
   ]
  },
  {
   "cell_type": "code",
   "execution_count": 26,
   "metadata": {},
   "outputs": [
    {
     "name": "stdout",
     "output_type": "stream",
     "text": [
      "You should eat Sushi for lunch today!\n"
     ]
    }
   ],
   "source": [
    "what_should_i_eat()"
   ]
  },
  {
   "cell_type": "markdown",
   "metadata": {},
   "source": [
    "Maybe we have two categories of foods, for days we want to eat meat and days we want to be vegeterian. We can make our function a little more complicated:"
   ]
  },
  {
   "cell_type": "code",
   "execution_count": 27,
   "metadata": {},
   "outputs": [],
   "source": [
    "def what_should_i_eat_vegeterian(vegeterian = False):\n",
    "    \"\"\"Function to suggest a random lunch option from a predefined list.\n",
    "    \n",
    "    input:\n",
    "    vegeterian: bool, if True, suggests only vegetarian options\n",
    "    \"\"\"\n",
    "    if vegeterian:\n",
    "        lunch_options = [\"Cheese pizza\", \"Salad\", \"Veggie tacos\", \"Salad\", \"Veggie sandwich\"]\n",
    "    else:\n",
    "        lunch_options = [\"Pepperoni pizza\", \"Burger\", \"Sushi\", \"Meat tacos\", \"Salad\", \"Meat sandwich\"]\n",
    "\n",
    "    # Choose a random lunch option\n",
    "    random_lunch = np.random.choice(lunch_options)\n",
    "\n",
    "    # Print the choice\n",
    "    print(f\"You should eat {random_lunch} for lunch today! It's {'vegetarian' if vegeterian else 'not vegetarian'}.\")"
   ]
  },
  {
   "cell_type": "code",
   "execution_count": 28,
   "metadata": {},
   "outputs": [
    {
     "name": "stdout",
     "output_type": "stream",
     "text": [
      "You should eat Veggie sandwich for lunch today! It's vegetarian.\n"
     ]
    }
   ],
   "source": [
    "what_should_i_eat_vegeterian(vegeterian=True)"
   ]
  },
  {
   "cell_type": "markdown",
   "metadata": {},
   "source": [
    "We can also make a version that asks the user instead of requiring an arguement:"
   ]
  },
  {
   "cell_type": "code",
   "execution_count": 29,
   "metadata": {},
   "outputs": [],
   "source": [
    "def what_should_i_eat_vegeterian_user():\n",
    "    \"\"\"Function to suggest a random lunch option from a predefined list.\n",
    "    \n",
    "    input:\n",
    "    vegeterian: bool, if True, suggests only vegetarian options\n",
    "    \"\"\"\n",
    "\n",
    "    vegeterian = input(\"Do you want to eat vegeterian today? (yes or no)\")\n",
    "\n",
    "    if vegeterian == \"yes\":\n",
    "        lunch_options = [\"Cheese pizza\", \"Salad\", \"Veggie tacos\", \"Salad\", \"Veggie sandwich\"]\n",
    "    else:\n",
    "        lunch_options = [\"Pepperoni pizza\", \"Burger\", \"Sushi\", \"Meat tacos\", \"Salad\", \"Meat sandwich\"]\n",
    "\n",
    "    # Choose a random lunch option\n",
    "    random_lunch = np.random.choice(lunch_options)\n",
    "\n",
    "    # Print the choice\n",
    "    print(f\"You should eat {random_lunch} for lunch today! It's {'vegetarian' if vegeterian == 'yes' else 'not vegetarian'}.\")"
   ]
  },
  {
   "cell_type": "code",
   "execution_count": 30,
   "metadata": {},
   "outputs": [
    {
     "name": "stdout",
     "output_type": "stream",
     "text": [
      "Do you want to eat vegeterian today? (yes or no) no\n"
     ]
    },
    {
     "name": "stdout",
     "output_type": "stream",
     "text": [
      "You should eat Burger for lunch today! It's not vegetarian.\n"
     ]
    }
   ],
   "source": [
    "what_should_i_eat_vegeterian_user()"
   ]
  },
  {
   "cell_type": "markdown",
   "metadata": {},
   "source": [
    "## Step 2: Magic eight ball (*your turn*)"
   ]
  },
  {
   "cell_type": "markdown",
   "metadata": {},
   "source": [
    "\n",
    "**Task**\n",
    "\n",
    "- Construct a magic 8 ball where the computer picks a random answer to your question.\n",
    "- To do this, you'll want to write a function `magic_eight_ball()` which will prompt the user for a question and return its answer.\n",
    "\n",
    "**Hints**\n",
    "\n",
    "- Think of the steps required to make the game happen. Try writing them out in words before you write them out in code!"
   ]
  },
  {
   "cell_type": "code",
   "execution_count": 31,
   "metadata": {},
   "outputs": [],
   "source": [
    "def magic_eight_ball():\n",
    "    \n",
    "    question = input(\"What is your question for the Magic 8-Ball? \")\n",
    "\n",
    "    possible_answers = [\"No\", \"Yes\", \"Ask again later\", \"Definitely not\", \"Not today\", \"Maybe\"]\n",
    "    \n",
    "    random_answer = np.random.choice(possible_answers)\n",
    "\n",
    "    print(question)\n",
    "    print(f\"The Magic 8-Ball says: {random_answer}\")"
   ]
  },
  {
   "cell_type": "code",
   "execution_count": 32,
   "metadata": {},
   "outputs": [
    {
     "name": "stdout",
     "output_type": "stream",
     "text": [
      "What is your question for the Magic 8-Ball?  Will it rain today?\n"
     ]
    },
    {
     "name": "stdout",
     "output_type": "stream",
     "text": [
      "Will it rain today?\n",
      "The Magic 8-Ball says: No\n"
     ]
    }
   ],
   "source": [
    "magic_eight_ball()"
   ]
  },
  {
   "cell_type": "markdown",
   "metadata": {},
   "source": [
    "## Step 3: Math quiz (*together*)\n"
   ]
  },
  {
   "cell_type": "markdown",
   "metadata": {},
   "source": [
    "A game for the nerds! Let's make a function to randomly generate a little math problem and quiz us. \n",
    "\n",
    "First let's play around with our random numbers outside of the function:"
   ]
  },
  {
   "cell_type": "code",
   "execution_count": 33,
   "metadata": {},
   "outputs": [
    {
     "name": "stdout",
     "output_type": "stream",
     "text": [
      "4 + 2 = 6\n"
     ]
    }
   ],
   "source": [
    "# Generate two random numbers\n",
    "num1 = np.random.randint(1, 10)\n",
    "num2 = np.random.randint(1, 10)\n",
    "\n",
    "# Print the sum of the two numbers as an equation\n",
    "print(f\"{num1} + {num2} = {num1 + num2}\")"
   ]
  },
  {
   "cell_type": "markdown",
   "metadata": {},
   "source": [
    "Now let's make our function"
   ]
  },
  {
   "cell_type": "code",
   "execution_count": 34,
   "metadata": {},
   "outputs": [],
   "source": [
    "def math_quiz():\n",
    "    \"\"\"Function to ask a simple math question and check the answer.\"\"\"\n",
    "    \n",
    "    # Generate two random numbers\n",
    "    num1 = np.random.randint(1, 10)\n",
    "    num2 = np.random.randint(1, 10)\n",
    "    \n",
    "    # Calculate the correct answer\n",
    "    correct_answer = num1 + num2\n",
    "    \n",
    "    # Ask the user for their answer\n",
    "    user_answer = int(input(f\"What is {num1} + {num2}? \"))\n",
    "    \n",
    "    # Check if the user's answer is correct\n",
    "    if user_answer == correct_answer:\n",
    "        print(\"Correct! Well done.\")\n",
    "    else:\n",
    "        print(f\"Incorrect. The correct answer is {correct_answer}.\")\n",
    "\n"
   ]
  },
  {
   "cell_type": "code",
   "execution_count": 35,
   "metadata": {},
   "outputs": [
    {
     "name": "stdout",
     "output_type": "stream",
     "text": [
      "What is 5 + 7?  12\n"
     ]
    },
    {
     "name": "stdout",
     "output_type": "stream",
     "text": [
      "Correct! Well done.\n"
     ]
    }
   ],
   "source": [
    "math_quiz()"
   ]
  },
  {
   "cell_type": "markdown",
   "metadata": {},
   "source": [
    "Maybe we want the user to keep guessing until they get it correct. For that, we can use `while` loop, which will keep repeating the same code until a specified condition is met. For example:"
   ]
  },
  {
   "cell_type": "code",
   "execution_count": 36,
   "metadata": {},
   "outputs": [
    {
     "name": "stdout",
     "output_type": "stream",
     "text": [
      "0\n",
      "1\n",
      "2\n",
      "3\n",
      "4\n",
      "Loop finished!\n"
     ]
    }
   ],
   "source": [
    "# Keep adding 1 to i and printing it until i is equal to 5\n",
    "i = 0\n",
    "while i < 5:\n",
    "    print(i)\n",
    "    i += 1\n",
    "print(\"Loop finished!\")"
   ]
  },
  {
   "cell_type": "code",
   "execution_count": 37,
   "metadata": {},
   "outputs": [],
   "source": [
    "def math_quiz_loop():\n",
    "    \"\"\"Function to ask a simple math question and check the answer.\"\"\"\n",
    "    \n",
    "    # Generate two random numbers\n",
    "    num1 = np.random.randint(1, 10)\n",
    "    num2 = np.random.randint(1, 10)\n",
    "    \n",
    "    # Calculate the correct answer\n",
    "    correct_answer = num1 + num2\n",
    "\n",
    "    # Initialize our termination condition\n",
    "    user_correct = False\n",
    "\n",
    "    while not user_correct:\n",
    "        # Ask the user for their answer\n",
    "        user_answer = int(input(f\"What is {num1} + {num2}? \"))\n",
    "    \n",
    "        # Check if the user's answer is correct\n",
    "        user_correct = user_answer == correct_answer\n",
    "\n",
    "        if user_correct:\n",
    "            print(\"Correct! Well done.\")\n",
    "        else:\n",
    "            print(f\"Incorrect. Guess again.\")\n",
    "\n"
   ]
  },
  {
   "cell_type": "code",
   "execution_count": 38,
   "metadata": {},
   "outputs": [
    {
     "name": "stdout",
     "output_type": "stream",
     "text": [
      "What is 3 + 8?  10\n"
     ]
    },
    {
     "name": "stdout",
     "output_type": "stream",
     "text": [
      "Incorrect. Guess again.\n"
     ]
    },
    {
     "name": "stdout",
     "output_type": "stream",
     "text": [
      "What is 3 + 8?  11\n"
     ]
    },
    {
     "name": "stdout",
     "output_type": "stream",
     "text": [
      "Correct! Well done.\n"
     ]
    }
   ],
   "source": [
    "math_quiz_loop()"
   ]
  },
  {
   "cell_type": "markdown",
   "metadata": {},
   "source": [
    "## Step 4: Guessing the number! (*your turn*)"
   ]
  },
  {
   "cell_type": "markdown",
   "metadata": {},
   "source": [
    "\n",
    "**Task**\n",
    "\n",
    "- Construct a game where the computer chooses a random number, and you (the player) try to guess the number. \n",
    "- To do this, you'll want to write a function `play_number_guessing_game()` which will prompt the user to guess until they pick the right number.\n",
    "\n",
    "**Hints**\n",
    "\n",
    "- Think of the steps required to make the game happen before you start coding. \n",
    "- Try to write smaller functions that take care of different tasks.\n",
    "    - You might want to write a function `check_guess(answer, guess)` that returns `True` if the guess is correct (`answer == guess`) and False otherwise. Maybe you want to tell the player if their number is too high or too low?\n",
    "\n",
    "**Things to consider**\n",
    "- Do you want your player to keep guessing forever until they get the number or have a finite number of chances?\n",
    "- Do you want the computer to give feedback on the guesses? \n",
    "- How hard do you want the game to be? "
   ]
  },
  {
   "cell_type": "code",
   "execution_count": 39,
   "metadata": {},
   "outputs": [],
   "source": [
    "def check_guess(answer, guess):\n",
    "    \"\"\"Function to check if the user's guess is correct.\"\"\"\n",
    "\n",
    "    if guess < answer:\n",
    "        print(\"Too low!\")\n",
    "        return False\n",
    "    elif guess > answer:\n",
    "        print(\"Too high!\")\n",
    "        return False\n",
    "    else:\n",
    "        print(\"Correct!\")\n",
    "        return True\n",
    "\n",
    "def play_number_guessing_game():\n",
    "    \"\"\"Function to play a number guessing game.\"\"\"\n",
    "\n",
    "    # Generate a random number between 1 and 100\n",
    "    answer = np.random.randint(1, 100)\n",
    "\n",
    "    # Initialize variables for the game\n",
    "    guess_correct = False\n",
    "    attempts = 0\n",
    "    \n",
    "    # Keep looping until the user guesses the correct number\n",
    "    while not guess_correct:\n",
    "        # prompt the user for a guess\n",
    "        guess = int(input(\"Guess a number between 1 and 100: \"))\n",
    "\n",
    "        # Check if the guess is correct\n",
    "        guess_correct = check_guess(answer, guess)\n",
    "\n",
    "        # Increment the number of attempts\n",
    "        attempts += 1\n",
    "\n",
    "    print(f\"You guessed the number in {attempts} attempts!\")"
   ]
  },
  {
   "cell_type": "code",
   "execution_count": 40,
   "metadata": {},
   "outputs": [
    {
     "name": "stdout",
     "output_type": "stream",
     "text": [
      "Guess a number between 1 and 100:  50\n"
     ]
    },
    {
     "name": "stdout",
     "output_type": "stream",
     "text": [
      "Too low!\n"
     ]
    },
    {
     "name": "stdout",
     "output_type": "stream",
     "text": [
      "Guess a number between 1 and 100:  75\n"
     ]
    },
    {
     "name": "stdout",
     "output_type": "stream",
     "text": [
      "Too high!\n"
     ]
    },
    {
     "name": "stdout",
     "output_type": "stream",
     "text": [
      "Guess a number between 1 and 100:  65\n"
     ]
    },
    {
     "name": "stdout",
     "output_type": "stream",
     "text": [
      "Too high!\n"
     ]
    },
    {
     "name": "stdout",
     "output_type": "stream",
     "text": [
      "Guess a number between 1 and 100:  70\n"
     ]
    },
    {
     "name": "stdout",
     "output_type": "stream",
     "text": [
      "Too high!\n"
     ]
    },
    {
     "name": "stdout",
     "output_type": "stream",
     "text": [
      "Guess a number between 1 and 100:  55\n"
     ]
    },
    {
     "name": "stdout",
     "output_type": "stream",
     "text": [
      "Too high!\n"
     ]
    },
    {
     "name": "stdout",
     "output_type": "stream",
     "text": [
      "Guess a number between 1 and 100:  53\n"
     ]
    },
    {
     "name": "stdout",
     "output_type": "stream",
     "text": [
      "Correct!\n",
      "You guessed the number in 6 attempts!\n"
     ]
    }
   ],
   "source": [
    "play_number_guessing_game()"
   ]
  },
  {
   "cell_type": "markdown",
   "metadata": {},
   "source": [
    "# Bonus\n",
    "\n",
    "Here are some other things you can do that use only basic python like functions, loops, conditionals, and arrays. Feel free to give them a try from scratch, make some modifications to the provided solutions, or just play the games!"
   ]
  },
  {
   "cell_type": "markdown",
   "metadata": {},
   "source": [
    "## Step 5: Guess the word!\n",
    "\n",
    "**Task**\n",
    "- Construct a hangman-like game, where the computer thinks of a word and the user tries to guess the letters. \n",
    "- To do this, you'll want to write a function `play_word_guessing_game()` which will prompt the user to guess until they pick the right number.\n",
    "\n",
    "**Things to consider**\n",
    "- How many words do you want the computer to draw from? \n",
    "- How should the player be updated on their progress?\n",
    "- How many guess should the player have?\n",
    "- What should you do if a player guesses the same letter twice?"
   ]
  },
  {
   "cell_type": "code",
   "execution_count": 41,
   "metadata": {},
   "outputs": [],
   "source": [
    "def pick_random_word():\n",
    "    \"\"\"Function to pick a random word from a predefined list.\"\"\"\n",
    "\n",
    "    dictionary = [\"apple\", \"queen\", \"snake\", \"hypothesis\"]\n",
    "\n",
    "    word = np.random.choice(dictionary)\n",
    "    \n",
    "    return(word)\n",
    "\n",
    "def play_word_guessing_game():\n",
    "    \"\"\"Function to play a word guessing game.\"\"\"\n",
    "\n",
    "    # Pick a random word from the dictionary\n",
    "    word = pick_random_word()\n",
    "\n",
    "    # Convert the word to a numpy array for easier manipulation\n",
    "    word_array = np.array(list(word))\n",
    "\n",
    "    # Initialize the player's progress with underscores\n",
    "    player_progress = np.array([\"_\"] * len(word))\n",
    "\n",
    "    # Initialize the guessed condition\n",
    "    guessed = False\n",
    "\n",
    "    # Initialize the list of guessed letters and chances left\n",
    "    guessed_letters = []\n",
    "    chances_left = 4\n",
    "\n",
    "    # Keep asking the player for guesses until they either guess the word or run out of chances\n",
    "    while not guessed:\n",
    "        \n",
    "        # Print the current state of the player's progress\n",
    "        print(\" \".join(player_progress)) # \" \".join(list) prints the items of list separate by spaces\n",
    "\n",
    "        # Ask for a letter guess\n",
    "        guess = input(\"Guess a letter:\")\n",
    "\n",
    "        # Check if the letter has been guessed already\n",
    "        if guess in guessed_letters:\n",
    "            print(\"You already guessed that letter!\")\n",
    "\n",
    "        # Check if the letter is in the word\n",
    "        elif guess in word_array:\n",
    "            print(\"Good guess!\")\n",
    "\n",
    "            # Update the player's progress\n",
    "            player_progress[word_array == guess] = guess \n",
    "\n",
    "        # If the letter is not in the word take a chance away\n",
    "        else:\n",
    "            chances_left-=1\n",
    "            print(f\"Wrong guess! {chances_left} more chances!\")\n",
    "        \n",
    "        # update the guessed letters list\n",
    "        guessed_letters.append(guess)\n",
    "\n",
    "        # If the player is out of chances, end the game\n",
    "        if chances_left == 0:\n",
    "            print(\"You lose! The word was:\", word)\n",
    "            return\n",
    "\n",
    "        # If the player has guessed all letters, end the game\n",
    "        if \"_\" not in player_progress:\n",
    "            print (\"You guessed the word!\")\n",
    "            guessed = True\n"
   ]
  },
  {
   "cell_type": "code",
   "execution_count": 42,
   "metadata": {},
   "outputs": [
    {
     "name": "stdout",
     "output_type": "stream",
     "text": [
      "_ _ _ _ _\n"
     ]
    },
    {
     "name": "stdout",
     "output_type": "stream",
     "text": [
      "Guess a letter: a\n"
     ]
    },
    {
     "name": "stdout",
     "output_type": "stream",
     "text": [
      "Good guess!\n",
      "_ _ a _ _\n"
     ]
    },
    {
     "name": "stdout",
     "output_type": "stream",
     "text": [
      "Guess a letter: l\n"
     ]
    },
    {
     "name": "stdout",
     "output_type": "stream",
     "text": [
      "Wrong guess! 3 more chances!\n",
      "_ _ a _ _\n"
     ]
    },
    {
     "name": "stdout",
     "output_type": "stream",
     "text": [
      "Guess a letter: n\n"
     ]
    },
    {
     "name": "stdout",
     "output_type": "stream",
     "text": [
      "Good guess!\n",
      "_ n a _ _\n"
     ]
    },
    {
     "name": "stdout",
     "output_type": "stream",
     "text": [
      "Guess a letter: p\n"
     ]
    },
    {
     "name": "stdout",
     "output_type": "stream",
     "text": [
      "Wrong guess! 2 more chances!\n",
      "_ n a _ _\n"
     ]
    },
    {
     "name": "stdout",
     "output_type": "stream",
     "text": [
      "Guess a letter: s\n"
     ]
    },
    {
     "name": "stdout",
     "output_type": "stream",
     "text": [
      "Good guess!\n",
      "s n a _ _\n"
     ]
    },
    {
     "name": "stdout",
     "output_type": "stream",
     "text": [
      "Guess a letter: k\n"
     ]
    },
    {
     "name": "stdout",
     "output_type": "stream",
     "text": [
      "Good guess!\n",
      "s n a k _\n"
     ]
    },
    {
     "name": "stdout",
     "output_type": "stream",
     "text": [
      "Guess a letter: e\n"
     ]
    },
    {
     "name": "stdout",
     "output_type": "stream",
     "text": [
      "Good guess!\n",
      "You guessed the word!\n"
     ]
    }
   ],
   "source": [
    "play_word_guessing_game()"
   ]
  },
  {
   "cell_type": "markdown",
   "metadata": {},
   "source": [
    "## Step 6: Tic-tac-toe\n",
    "\n",
    "**Task**\n",
    "- Construct a tic tac toe game, where the computer you and the computer place X's and O's until someone gets three in a row. \n",
    "- To do this, you'll want to write a function `play_tic_tac_toe()` which will print the board and prompt the player to choose a spot to play.\n",
    "\n",
    "**Things to consider**\n",
    "- How do you want to print the board?\n",
    "- What should happen if the player chooses a position that has already been played?\n",
    "- How should you check if someone has won the game?\n",
    "- Can you make a 2-player version?"
   ]
  },
  {
   "cell_type": "code",
   "execution_count": 43,
   "metadata": {},
   "outputs": [],
   "source": [
    "def print_board(board):\n",
    "    \"\"\"Function to print the Tic Tac Toe board.\"\"\"\n",
    "\n",
    "    # add vertical separators between items in each column and a horizontal separator between rows\n",
    "    print (\"\\n——— ——— ———\\n\".join([\"|\".join(b) for b in board]))\n",
    "    print ()\n",
    "\n",
    "def player_move(board, symbol):\n",
    "    \"\"\"Function to make a move for the player.\"\"\"\n",
    "\n",
    "    # Ask the player for their move\n",
    "    row, col = input(\"Enter the row (0-2) and column (0-2) as r,c:\").split(\",\")\n",
    "    row, col = int(row), int(col)\n",
    "\n",
    "    # Check if the spot is taken\n",
    "    if board[row, col] != \"   \":\n",
    "        print(\"That spot is taken!\")\n",
    "        board = player_move(board, symbol)\n",
    "\n",
    "    # otherwise, upate the board\n",
    "    else:\n",
    "        board[row, col] = symbol\n",
    "    \n",
    "    return(board)\n",
    "\n",
    "def computer_move(board, symbol):\n",
    "    \"\"\"Function to make a random move for the computer.\"\"\"\n",
    "\n",
    "    print (\"Computer's turn!\")\n",
    "\n",
    "    # Find all empty positions\n",
    "    empty_positions = np.argwhere(board == \"   \")\n",
    "\n",
    "    # choose one randomly\n",
    "    row, col = empty_positions[np.random.randint(len(empty_positions))]\n",
    "    \n",
    "    # update the board\n",
    "    board[row, col] = symbol\n",
    "    \n",
    "    return(board)\n",
    "\n",
    "def check_game_won(board, symbol):\n",
    "    \"\"\"Function to check if the game is won.\"\"\"\n",
    "\n",
    "    # three in a row\n",
    "    if np.any([np.all([space == symbol for space in row]) for row in board]):\n",
    "        return(True, symbol)\n",
    "    \n",
    "    # three in a column\n",
    "    if np.any([np.all([space == symbol for space in col]) for col in board.T]):\n",
    "        return(True, symbol)\n",
    "\n",
    "    # three in a diagonal\n",
    "    if np.all([space == symbol for space in np.diag(board)]) or np.all([space == symbol for space in np.diag(np.fliplr(board))]):\n",
    "        return(True, symbol)\n",
    "    \n",
    "    # board is full\n",
    "    if  len(np.argwhere(board == \"   \")) == 0:\n",
    "        return True, \"No one\"\n",
    "    \n",
    "    return False, None\n",
    "    \n",
    "\n",
    "def play_tic_tac_toe():\n",
    "    \"\"\"Function to play a Tic Tac Toe game.\"\"\"\n",
    "\n",
    "    # Initialize the game board\n",
    "    board = np.array([[\"   \" for _ in range(3)] for _ in range(3)])\n",
    "\n",
    "    # Initialize the end game condition\n",
    "    game_won = False\n",
    "\n",
    "    # print the empty board\n",
    "    print_board(board)\n",
    "\n",
    "    turn = 0\n",
    "    symbols = [\" X \", \" O \"]\n",
    "\n",
    "    # Keep playing until the game is won or there are no more moves left\n",
    "    while not game_won:\n",
    "        # Alternate turns between player and computer \n",
    "        turn = turn % 2 # x % y is x modulo y, which gives the remainder of the division of x by y\n",
    "\n",
    "        # if it's the player's turn     \n",
    "        if turn == 0:\n",
    "            board = player_move(board, symbols[turn])\n",
    "        \n",
    "        # if it's the computer's turn\n",
    "        else:\n",
    "            board = computer_move(board, symbols[turn])\n",
    "\n",
    "        # print the current state of the board\n",
    "        print_board(board)\n",
    "        \n",
    "        # check if the game is won\n",
    "        game_won, winner = check_game_won(board, symbols[turn])\n",
    "    \n",
    "        turn +=1 \n",
    "\n",
    "    print (f\"Game over! {winner.strip()} won!\")\n"
   ]
  },
  {
   "cell_type": "code",
   "execution_count": 44,
   "metadata": {},
   "outputs": [
    {
     "name": "stdout",
     "output_type": "stream",
     "text": [
      "   |   |   \n",
      "——— ——— ———\n",
      "   |   |   \n",
      "——— ——— ———\n",
      "   |   |   \n",
      "\n"
     ]
    },
    {
     "name": "stdout",
     "output_type": "stream",
     "text": [
      "Enter the row (0-2) and column (0-2) as r,c: 1,1\n"
     ]
    },
    {
     "name": "stdout",
     "output_type": "stream",
     "text": [
      "   |   |   \n",
      "——— ——— ———\n",
      "   | X |   \n",
      "——— ——— ———\n",
      "   |   |   \n",
      "\n",
      "Computer's turn!\n",
      "   |   |   \n",
      "——— ——— ———\n",
      " O | X |   \n",
      "——— ——— ———\n",
      "   |   |   \n",
      "\n"
     ]
    },
    {
     "name": "stdout",
     "output_type": "stream",
     "text": [
      "Enter the row (0-2) and column (0-2) as r,c: 0,0\n"
     ]
    },
    {
     "name": "stdout",
     "output_type": "stream",
     "text": [
      " X |   |   \n",
      "——— ——— ———\n",
      " O | X |   \n",
      "——— ——— ———\n",
      "   |   |   \n",
      "\n",
      "Computer's turn!\n",
      " X |   |   \n",
      "——— ——— ———\n",
      " O | X | O \n",
      "——— ——— ———\n",
      "   |   |   \n",
      "\n"
     ]
    },
    {
     "name": "stdout",
     "output_type": "stream",
     "text": [
      "Enter the row (0-2) and column (0-2) as r,c: 2,2\n"
     ]
    },
    {
     "name": "stdout",
     "output_type": "stream",
     "text": [
      " X |   |   \n",
      "——— ——— ———\n",
      " O | X | O \n",
      "——— ——— ———\n",
      "   |   | X \n",
      "\n",
      "Game over! X won!\n"
     ]
    }
   ],
   "source": [
    "play_tic_tac_toe()"
   ]
  },
  {
   "cell_type": "code",
   "execution_count": null,
   "metadata": {},
   "outputs": [],
   "source": []
  }
 ],
 "metadata": {
  "kernelspec": {
   "display_name": "desi",
   "language": "python",
   "name": "python3"
  },
  "language_info": {
   "codemirror_mode": {
    "name": "ipython",
    "version": 3
   },
   "file_extension": ".py",
   "mimetype": "text/x-python",
   "name": "python",
   "nbconvert_exporter": "python",
   "pygments_lexer": "ipython3",
   "version": "3.13.0"
  }
 },
 "nbformat": 4,
 "nbformat_minor": 4
}
