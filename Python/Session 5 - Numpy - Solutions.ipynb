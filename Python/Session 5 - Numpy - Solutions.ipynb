{
 "cells": [
  {
   "cell_type": "markdown",
   "metadata": {},
   "source": [
    "# Session 5: From Single to Multiple Values: Arrays and NumPy\n",
    "\n",
    "## Overview\n",
    "This tutorial builds on your knowledge of variables, assignments, and functions by introducing arrays and the NumPy library in Python. By the end of this session, you will understand how to create and manipulate arrays, perform operations on multiple arrays, and use NumPy functions for efficient calculations.\n",
    "\n",
    "## Prerequisites\n",
    "- Basic understanding of Python variables, data types, and functions\n"
   ]
  },
  {
   "cell_type": "markdown",
   "metadata": {},
   "source": [
    "## Part 1: Introduction to NumPy (20 minutes)\n",
    "\n",
    "### What is NumPy?\n",
    "- NumPy is a powerful library for numerical computing in Python.\n",
    "- It provides support for arrays and matrices, along with a collection of mathematical functions to operate on them.\n"
   ]
  },
  {
   "cell_type": "markdown",
   "metadata": {},
   "source": [
    "### Creating Arrays\n",
    "In Python, arrays can be created manually.\n",
    "\n",
    "#### Example: Creating an array manually\n"
   ]
  },
  {
   "cell_type": "code",
   "execution_count": 6,
   "metadata": {},
   "outputs": [
    {
     "name": "stdout",
     "output_type": "stream",
     "text": [
      "[ 1  2 77  4  5]\n"
     ]
    }
   ],
   "source": [
    "import numpy as np # first try without this\n",
    "my_array = np.array([1, 2, 77, 4, 5])\n",
    "print(my_array)"
   ]
  },
  {
   "cell_type": "markdown",
   "metadata": {},
   "source": [
    "They can also be created quickly and automatically using NumPy function`linspace` to generate evenly spaced points in an interval: `np.linspace(start, stop, number of points)`\n",
    "\n",
    "#### Example: Creating arrays using NumPy functions"
   ]
  },
  {
   "cell_type": "code",
   "execution_count": 8,
   "metadata": {},
   "outputs": [
    {
     "name": "stdout",
     "output_type": "stream",
     "text": [
      "[ 0.   2.5  5.   7.5 10. ]\n"
     ]
    }
   ],
   "source": [
    "array2 = np.linspace(0,10,5) # if you know number of points\n",
    "print(array2)"
   ]
  },
  {
   "cell_type": "code",
   "execution_count": 12,
   "metadata": {},
   "outputs": [
    {
     "name": "stdout",
     "output_type": "stream",
     "text": [
      "[ 1.   2.   5.   7.5 10. ]\n"
     ]
    }
   ],
   "source": [
    "array2[[0,1]] = [1,2]\n",
    "print(array2)"
   ]
  },
  {
   "cell_type": "markdown",
   "metadata": {},
   "source": [
    "## Part 2: Operations with NumPy (20 minutes)\n",
    "\n",
    "The real advantage of NumPy is that it speeds up operations by allowing you to do operations on the whole array simultaneously rather than having to loop through and operate on each element one-by-one.\n",
    "\n",
    "### Using NumPy for Mathematical Operations\n",
    "\n",
    "#### Example:\n"
   ]
  },
  {
   "cell_type": "code",
   "execution_count": 7,
   "metadata": {},
   "outputs": [
    {
     "name": "stdout",
     "output_type": "stream",
     "text": [
      "[11 12 13 14 15]\n",
      "[ 2  4  6  8 10]\n"
     ]
    }
   ],
   "source": [
    "arr = np.array([1, 2, 3, 4, 5])\n",
    "print(arr + 10)  # Output: [11 12 13 14 15]\n",
    "print(arr * 2)   # Output: [ 2  4  6  8 10]\n"
   ]
  },
  {
   "cell_type": "markdown",
   "metadata": {},
   "source": [
    "### Practice Problem 1\n",
    "- Create a NumPy array `my_array` with values `[5, 10, 15, 20, 25]`.\n",
    "- Multiply each element by 3 and print the result.\n",
    "\n",
    "#### Solution:\n"
   ]
  },
  {
   "cell_type": "code",
   "execution_count": 172,
   "metadata": {},
   "outputs": [
    {
     "name": "stdout",
     "output_type": "stream",
     "text": [
      "[ 5. 10. 15. 20. 25.]\n",
      "[15. 30. 45. 60. 75.]\n"
     ]
    }
   ],
   "source": [
    "my_array = np.linspace(5,25,5)\n",
    "print(my_array)\n",
    "my_array = my_array * 3\n",
    "print(my_array)"
   ]
  },
  {
   "cell_type": "markdown",
   "metadata": {},
   "source": [
    "### Example: Array Operations"
   ]
  },
  {
   "cell_type": "code",
   "execution_count": 15,
   "metadata": {},
   "outputs": [
    {
     "name": "stdout",
     "output_type": "stream",
     "text": [
      "3.0\n",
      "15\n",
      "5\n",
      "1\n"
     ]
    }
   ],
   "source": [
    "arr = np.array([1, 2, 3, 4, 5])\n",
    "print(np.mean(arr))  # Output: 3.0\n",
    "print(np.sum(arr))   # Output: 15\n",
    "print(np.max(arr))   # Output: 5\n",
    "print(np.min(arr))   # Output: 1\n"
   ]
  },
  {
   "cell_type": "markdown",
   "metadata": {},
   "source": [
    " ### Practice Problem 2\n",
    "\n",
    " Write a function that takes two arrays (they have to be the same size), adds them together, and then returns the mean of the summed array."
   ]
  },
  {
   "cell_type": "code",
   "execution_count": 99,
   "metadata": {},
   "outputs": [
    {
     "name": "stdout",
     "output_type": "stream",
     "text": [
      "[0.80444522 0.79035473 0.19877578 0.57889226]\n",
      "[0.93949715 0.61271477 0.49545719 0.82599524]\n",
      "1.3115330871652564\n"
     ]
    }
   ],
   "source": [
    "def sum_and_average(array1, array2):\n",
    "    summed_array = array1 + array2\n",
    "    return np.mean(summed_array)\n",
    "\n",
    "# test out with two random arrays\n",
    "array1 = np.random.randint((4))\n",
    "print(array1)\n",
    "array2 = np.random.randint((4))\n",
    "print(array2)\n",
    "mean_array = sum_and_average(array1, array2)\n",
    "print(mean_array)"
   ]
  },
  {
   "cell_type": "markdown",
   "metadata": {},
   "source": [
    "### Accessing Elements\n",
    "Elements in an array can be accessed using their index.\n",
    "\n",
    "#### Example: Indexing\n"
   ]
  },
  {
   "cell_type": "code",
   "execution_count": 120,
   "metadata": {},
   "outputs": [
    {
     "name": "stdout",
     "output_type": "stream",
     "text": [
      "1\n",
      "77\n"
     ]
    }
   ],
   "source": [
    "print(my_array[0])  # Output: 1\n",
    "print(my_array[2])  # Output: 77"
   ]
  },
  {
   "cell_type": "markdown",
   "metadata": {},
   "source": [
    "You can also access multiple elements at once using multiple indices.\n",
    "\n",
    "### Example:"
   ]
  },
  {
   "cell_type": "code",
   "execution_count": 124,
   "metadata": {},
   "outputs": [
    {
     "name": "stdout",
     "output_type": "stream",
     "text": [
      "[ 1 10]\n"
     ]
    }
   ],
   "source": [
    "print(my_array[0:2])"
   ]
  },
  {
   "cell_type": "markdown",
   "metadata": {},
   "source": [
    "### Modifying Elements\n",
    "You can modify elements in an array by assigning new values to specific indices.\n",
    "\n",
    "#### Example:\n"
   ]
  },
  {
   "cell_type": "code",
   "execution_count": 122,
   "metadata": {},
   "outputs": [
    {
     "name": "stdout",
     "output_type": "stream",
     "text": [
      "[ 1 10 77  4  5]\n"
     ]
    }
   ],
   "source": [
    "my_array[1] = 10\n",
    "print(my_array)  # Output: [1, 10, 77, 4, 5]\n"
   ]
  },
  {
   "cell_type": "markdown",
   "metadata": {},
   "source": [
    "### Practice Problem 3\n",
    "- Create an array of numbers with the values `[10, 20, 30, 40, 50]`.\n",
    "- Change the second element to 25.\n",
    "- Print the modified array.\n",
    "\n",
    "#### Solution:\n"
   ]
  },
  {
   "cell_type": "code",
   "execution_count": 126,
   "metadata": {},
   "outputs": [
    {
     "name": "stdout",
     "output_type": "stream",
     "text": [
      "[10. 20. 30. 40. 50.]\n",
      "[10. 25. 30. 40. 50.]\n"
     ]
    }
   ],
   "source": [
    "numbers = np.linspace(10,50,5)\n",
    "print(numbers)\n",
    "numbers[1] = 25\n",
    "print(numbers)  # Output: [10, 25, 30, 40, 50]\n"
   ]
  },
  {
   "cell_type": "markdown",
   "metadata": {},
   "source": [
    "### 2D Arrays\n",
    "\n",
    "You can also make 2D (or higher dimensional, but we'll stick to 2D for now) arrays, which you can think of as tables, with rows and columns. Indexing in 2D arrays thus involves specifying which rows and columns you want. Indexing in a 2D array looks like `2D_array[row, column]`.\n",
    "\n",
    "#### Example: Creating and slicing a 2D array"
   ]
  },
  {
   "cell_type": "code",
   "execution_count": 130,
   "metadata": {},
   "outputs": [
    {
     "name": "stdout",
     "output_type": "stream",
     "text": [
      "[[0. 0. 0.]\n",
      " [0. 0. 0.]\n",
      " [0. 0. 0.]]\n",
      "\n",
      "[[0. 0. 3.]\n",
      " [0. 0. 0.]\n",
      " [0. 0. 0.]]\n",
      "\n",
      "[[0. 0. 3.]\n",
      " [1. 1. 1.]\n",
      " [0. 0. 0.]]\n",
      "\n",
      "[[2. 0. 3.]\n",
      " [2. 1. 1.]\n",
      " [2. 0. 0.]]\n",
      "\n"
     ]
    }
   ],
   "source": [
    "# An easy way of creating 2D arrays is making an array of zeros\n",
    "arr_2D = np.zeros((3,3))\n",
    "print(arr_2D)\n",
    "print()\n",
    "\n",
    "# Access an element\n",
    "arr_2D[0,2] = 3\n",
    "print(arr_2D)\n",
    "print()\n",
    "\n",
    "# Set a whole row equal to 1\n",
    "arr_2D[1,:] = 1\n",
    "print(arr_2D)\n",
    "print()\n",
    "\n",
    "# Set a column equal to 2\n",
    "arr_2D[:,0] = 2\n",
    "print(arr_2D)\n",
    "print()"
   ]
  },
  {
   "cell_type": "markdown",
   "metadata": {},
   "source": [
    "### Practice Problem 4\n",
    "\n",
    "Create a 6 by 10 (6 rows and 10 columns) 2D numpy array in which the first row is all 1's, the rest of the second column is all 5's, and the rest of the array is all 0's.\n",
    "\n",
    "### Solution:"
   ]
  },
  {
   "cell_type": "code",
   "execution_count": 139,
   "metadata": {},
   "outputs": [
    {
     "name": "stdout",
     "output_type": "stream",
     "text": [
      "[[1. 1. 1. 1. 1. 1. 1. 1. 1. 1.]\n",
      " [0. 5. 0. 0. 0. 0. 0. 0. 0. 0.]\n",
      " [0. 5. 0. 0. 0. 0. 0. 0. 0. 0.]\n",
      " [0. 5. 0. 0. 0. 0. 0. 0. 0. 0.]\n",
      " [0. 5. 0. 0. 0. 0. 0. 0. 0. 0.]\n",
      " [0. 5. 0. 0. 0. 0. 0. 0. 0. 0.]]\n"
     ]
    }
   ],
   "source": [
    "array = np.zeros((6,10))\n",
    "array[:,1] = 5\n",
    "array[0,:] = 1\n",
    "print(array)"
   ]
  },
  {
   "cell_type": "markdown",
   "metadata": {},
   "source": [
    "## Part 3: Manipulating Arrays (20 minutes)\n",
    "\n",
    "### Boolean Indexing\n",
    "NumPy allows you to quickly access elements of arrays that satisfy a certain condition through boolean indexing.\n",
    "\n",
    "#### Example:\n"
   ]
  },
  {
   "cell_type": "code",
   "execution_count": 54,
   "metadata": {},
   "outputs": [
    {
     "name": "stdout",
     "output_type": "stream",
     "text": [
      "[0 1 2 3 4 5 6 7 8 9]\n",
      "[False False False False False False  True  True  True  True]\n",
      "[6 7 8 9]\n"
     ]
    }
   ],
   "source": [
    "array = np.arange(0,10)\n",
    "print(array)\n",
    "\n",
    "boolean_array = array > 5\n",
    "print(boolean_array)\n",
    "\n",
    "cool_array = array[boolean_array]\n",
    "print(cool_array)"
   ]
  },
  {
   "cell_type": "markdown",
   "metadata": {},
   "source": [
    "### Practice Problem 5\n",
    "\n",
    "Write a function that takes an array and a threshold number, and returns just the values that are greater than that threshold. "
   ]
  },
  {
   "cell_type": "code",
   "execution_count": 159,
   "metadata": {},
   "outputs": [
    {
     "name": "stdout",
     "output_type": "stream",
     "text": [
      "[0.31745358 0.24219495 0.82617009 0.48692649 0.24529277]\n"
     ]
    }
   ],
   "source": [
    "random_array = np.random.rand(5) # creates an array of random values between 0 and 1\n",
    "print(random_array)"
   ]
  },
  {
   "cell_type": "markdown",
   "metadata": {},
   "source": [
    "## Solution:"
   ]
  },
  {
   "cell_type": "code",
   "execution_count": 142,
   "metadata": {},
   "outputs": [
    {
     "name": "stdout",
     "output_type": "stream",
     "text": [
      "[0.51107359 0.47729947 0.91419432 0.4763223  0.18280898]\n",
      "[0.51107359 0.91419432]\n"
     ]
    }
   ],
   "source": [
    "def greater_array(array, threshold):\n",
    "    greater_boolean = array > threshold\n",
    "    array = array[greater_boolean]\n",
    "    return array\n",
    "\n",
    "# test out with an array of random numbers \n",
    "greater_random_array = greater_array(random_array, 0.5)\n",
    "print(greater_random_array)"
   ]
  },
  {
   "cell_type": "markdown",
   "metadata": {},
   "source": [
    "## Conclusion and Q&A (10 minutes)\n",
    "- Review the key concepts covered: creating, indexing in and modifying arrays, element-wise operations, 2D arrays, Booleans arrays and conditional indexing, and using NumPy functions for calculations.\n",
    "- Encourage practice and experimentation.\n",
    "- Open the floor for any questions and further clarifications.\n"
   ]
  },
  {
   "cell_type": "markdown",
   "metadata": {},
   "source": []
  }
 ],
 "metadata": {
  "kernelspec": {
   "display_name": "Python 3 (ipykernel)",
   "language": "python",
   "name": "python3"
  },
  "language_info": {
   "codemirror_mode": {
    "name": "ipython",
    "version": 3
   },
   "file_extension": ".py",
   "mimetype": "text/x-python",
   "name": "python",
   "nbconvert_exporter": "python",
   "pygments_lexer": "ipython3",
   "version": "3.12.7"
  }
 },
 "nbformat": 4,
 "nbformat_minor": 4
}
