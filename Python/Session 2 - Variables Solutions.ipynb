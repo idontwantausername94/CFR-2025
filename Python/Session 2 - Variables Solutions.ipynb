{
 "cells": [
  {
   "cell_type": "markdown",
   "metadata": {},
   "source": [
    "# Session 2: Variables and Assignments\n",
    "\n",
    "## Introduction\n",
    "Understanding variables and assignments is fundamental to learning Python programming. This tutorial will provide a comprehensive guide on how to work with variables and assignments in Python. By the end of this tutorial, you'll be comfortable declaring variables, assigning values, and manipulating these values.\n",
    "\n",
    "### Objectives\n",
    "- Understand what variables are and how they are used in Python.\n",
    "- Learn the rules for naming variables.\n",
    "- Practice assigning values to variables and manipulating these values.\n",
    "\n",
    "### Prerequisites\n",
    "- Basic knowledge of Python syntax and structure.\n",
    "\n",
    "### Estimated Time: 1.5 hours\n",
    "\n",
    "---\n",
    "\n",
    "## Part 1: Introduction to Variables (20 minutes)\n",
    "\n",
    "### What is a Variable?\n",
    "A variable is a name that refers to a value. In Python, you can think of a variable as a container for storing data values. Once a value is stored in a variable, you can use the variable name to refer to that value throughout your code.\n",
    "\n",
    "### Declaring Variables\n",
    "To declare a variable in Python, simply assign a value to a variable name using the equals sign (=).\n"
   ]
  },
  {
   "cell_type": "markdown",
   "metadata": {},
   "source": [
    "### Example 1: Declaring Variables"
   ]
  },
  {
   "cell_type": "code",
   "execution_count": 65,
   "metadata": {},
   "outputs": [
    {
     "name": "stdout",
     "output_type": "stream",
     "text": [
      "Alice\n",
      "30\n",
      "5.5\n"
     ]
    }
   ],
   "source": [
    " # Declaring variables\n",
    "name = \"Alice\"\n",
    "age = 30\n",
    "height_in_feet = 5.5\n",
    "\n",
    "# Printing variables\n",
    "print(name)\n",
    "print(age)\n",
    "print(height_in_feet)"
   ]
  },
  {
   "cell_type": "markdown",
   "metadata": {},
   "source": [
    "### Rules for Naming Variables\n",
    "- Variable names must start with a letter or an underscore (_).\n",
    "- Variable names can contain letters, numbers, and underscores.\n",
    "- Variable names are case-sensitive.\n",
    "- Avoid using Python reserved keywords as variable names (e.g., if, while, for).\n",
    "\n",
    "### Practice Problem 1: Declare Your Own Variables\n",
    "Declare variables for the following information:\n",
    "- A person's name\n",
    "- Their age\n",
    "- Their favorite color\n",
    "\n",
    "### Solution:\n"
   ]
  },
  {
   "cell_type": "code",
   "execution_count": 4,
   "metadata": {},
   "outputs": [
    {
     "name": "stdout",
     "output_type": "stream",
     "text": [
      "Charlie\n",
      "28\n",
      "blue\n"
     ]
    }
   ],
   "source": [
    "# Declaring variables\n",
    "person_name = \"Charlie\"\n",
    "person_age = 28\n",
    "favorite_color = \"blue\"\n",
    "\n",
    "# Printing variables\n",
    "print(person_name)\n",
    "print(person_age)\n",
    "print(favorite_color)"
   ]
  },
  {
   "cell_type": "markdown",
   "metadata": {},
   "source": [
    "## Part 2: Assignments and Operations (40 minutes)\n",
    "\n",
    "### Assigning Values to Variables\n",
    "You can change the value of a variable by assigning a new value to it. This is called reassignment.\n",
    "\n",
    "### Example 2: Reassigning Variables\n"
   ]
  },
  {
   "cell_type": "code",
   "execution_count": 71,
   "metadata": {},
   "outputs": [
    {
     "name": "stdout",
     "output_type": "stream",
     "text": [
      "10\n",
      "20\n"
     ]
    }
   ],
   "source": [
    "# Initial assignment\n",
    "x = 10\n",
    "print(x)\n",
    "\n",
    "# Reassignment\n",
    "x = 20\n",
    "print(x)"
   ]
  },
  {
   "cell_type": "markdown",
   "metadata": {},
   "source": [
    "### Arithmetic Operations\n",
    "You can perform arithmetic operations on variables. The common arithmetic operators are:\n",
    "\n",
    "- `+` (addition)\n",
    "- `-` (subtraction)\n",
    "- `*` (multiplication)\n",
    "- `/` (division)\n",
    "\n",
    "### Example 3: Arithmetic Operations\n"
   ]
  },
  {
   "cell_type": "code",
   "execution_count": 73,
   "metadata": {},
   "outputs": [
    {
     "name": "stdout",
     "output_type": "stream",
     "text": [
      "Sum: 19\n",
      "Difference: 11\n",
      "Product: 60\n",
      "Quotient: 3.75\n",
      "Average: 9.5\n"
     ]
    }
   ],
   "source": [
    "# Variables\n",
    "a = 15\n",
    "b = 4\n",
    "\n",
    "# Addition\n",
    "sum_result = a + b\n",
    "print(\"Sum:\", sum_result)\n",
    "\n",
    "# Subtraction\n",
    "difference_result = a - b\n",
    "print(\"Difference:\", difference_result)\n",
    "\n",
    "# Multiplication\n",
    "product_result = a * b\n",
    "print(\"Product:\", product_result)\n",
    "\n",
    "# Division\n",
    "quotient_result = a / b\n",
    "print(\"Quotient:\", quotient_result)\n",
    "\n",
    "# Average\n",
    "average = (a + b) / 2\n",
    "print(\"Average:\", average)\n"
   ]
  },
  {
   "cell_type": "markdown",
   "metadata": {},
   "source": [
    "### Practice Problem 2.1: Perform Arithmetic Operations\n",
    "Declare two variables x and y with values 12 and 5.\n",
    "Calculate and print the quotient ($x/y$).\n",
    "\n",
    "### Solution:\n"
   ]
  },
  {
   "cell_type": "code",
   "execution_count": 49,
   "metadata": {},
   "outputs": [
    {
     "name": "stdout",
     "output_type": "stream",
     "text": [
      "Quotient: 2.4\n"
     ]
    }
   ],
   "source": [
    "# Variables\n",
    "x = 12\n",
    "y = 5\n",
    "\n",
    "quotient_result = x / y\n",
    "print(\"Quotient:\", quotient_result)"
   ]
  },
  {
   "cell_type": "markdown",
   "metadata": {},
   "source": [
    "### Practice Problem 2.2: Calculate Area of a Rectangle\n",
    "A rectangle has length 8 and width 3. Declare the length and width as variables, and calculate and print the area (length $*$ width).\n",
    "\n",
    "### Solution:\n"
   ]
  },
  {
   "cell_type": "code",
   "execution_count": 56,
   "metadata": {},
   "outputs": [
    {
     "name": "stdout",
     "output_type": "stream",
     "text": [
      "Area: 24\n"
     ]
    }
   ],
   "source": [
    "length = 8\n",
    "width = 3\n",
    "area = length*width\n",
    "print('Area:', area)"
   ]
  },
  {
   "cell_type": "markdown",
   "metadata": {},
   "source": [
    "### Practice Problem 2.3: Calculate Perimeter of a Rectangle\n",
    "\n",
    "Calculate and print the perimeter of the same rectangle.\n",
    "\n",
    "### Solution:"
   ]
  },
  {
   "cell_type": "code",
   "execution_count": 61,
   "metadata": {},
   "outputs": [
    {
     "name": "stdout",
     "output_type": "stream",
     "text": [
      "Perimeter: 22\n"
     ]
    }
   ],
   "source": [
    "perimeter = 2*length + 2*width\n",
    "print('Perimeter:', perimeter)"
   ]
  },
  {
   "cell_type": "markdown",
   "metadata": {},
   "source": [
    "### Practice Problem 3: Swap the values in x and y.\n",
    "\n",
    "### Solution:"
   ]
  },
  {
   "cell_type": "code",
   "execution_count": 10,
   "metadata": {},
   "outputs": [
    {
     "name": "stdout",
     "output_type": "stream",
     "text": [
      "5\n",
      "12\n"
     ]
    }
   ],
   "source": [
    "z = x\n",
    "x = y\n",
    "y = z\n",
    "\n",
    "print(x)\n",
    "print(y)"
   ]
  },
  {
   "cell_type": "markdown",
   "metadata": {},
   "source": [
    "## String Operations\n",
    "\n",
    "Strings are sequences of characters enclosed in quotes (e.g. \"Hello\" would be a string).\n",
    "You can also perform operations on strings, such as concatenation (adding them).\n",
    "\n",
    "### Example 4: String Operations\n"
   ]
  },
  {
   "cell_type": "code",
   "execution_count": 77,
   "metadata": {},
   "outputs": [
    {
     "name": "stdout",
     "output_type": "stream",
     "text": [
      "HelloJohnDoe\n",
      "Hello John Doe\n"
     ]
    }
   ],
   "source": [
    "# Variables\n",
    "first_name = \"John\"\n",
    "last_name = \"Doe\"\n",
    "\n",
    "# Concatenation\n",
    "full_greeting = \"Hello\" + first_name + last_name\n",
    "print(full_greeting)\n",
    "\n",
    "full_greeting = \"Hello \" + first_name + \" \" + last_name\n",
    "print(full_greeting)"
   ]
  },
  {
   "cell_type": "markdown",
   "metadata": {},
   "source": [
    "### Practice Problem 3: Perform String Operations\n",
    "Declare a variable first_name with your first name and last_name with your last name. If you give it James Bond, it should print out: “Hi, my name is Bond, James Bond.”\n",
    "\n",
    "### Solution:\n"
   ]
  },
  {
   "cell_type": "code",
   "execution_count": 79,
   "metadata": {},
   "outputs": [
    {
     "name": "stdout",
     "output_type": "stream",
     "text": [
      "Hi my name is Bond, James Bond\n"
     ]
    }
   ],
   "source": [
    "# Variables\n",
    "first_name = \"James\"\n",
    "last_name = \"Bond\"\n",
    "\n",
    "full_greeting = \"Hi, my name is \" + last_name + \", \" + first_name + \" \" + last_name\n",
    "print(full_greeting)"
   ]
  },
  {
   "cell_type": "markdown",
   "metadata": {},
   "source": [
    "### Bonus: Play around with inputs"
   ]
  },
  {
   "cell_type": "code",
   "execution_count": null,
   "metadata": {},
   "outputs": [],
   "source": [
    "name = input(\"Enter a name: \")"
   ]
  },
  {
   "cell_type": "markdown",
   "metadata": {},
   "source": [
    "## Conclusion\n",
    "In this tutorial, you have learned about:\n",
    "- Declaring variables and understanding variable naming rules.\n",
    "- Assigning and reassigning values to variables.\n",
    "- Performing arithmetic and string operations.\n"
   ]
  }
 ],
 "metadata": {
  "kernelspec": {
   "display_name": "Python 3 (ipykernel)",
   "language": "python",
   "name": "python3"
  },
  "language_info": {
   "codemirror_mode": {
    "name": "ipython",
    "version": 3
   },
   "file_extension": ".py",
   "mimetype": "text/x-python",
   "name": "python",
   "nbconvert_exporter": "python",
   "pygments_lexer": "ipython3",
   "version": "3.11.7"
  }
 },
 "nbformat": 4,
 "nbformat_minor": 4
}
