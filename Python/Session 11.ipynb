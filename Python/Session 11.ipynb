{
 "cells": [
  {
   "cell_type": "code",
   "execution_count": 2,
   "id": "de7288a5-7c64-45f6-a179-54ed27087058",
   "metadata": {},
   "outputs": [
    {
     "name": "stdout",
     "output_type": "stream",
     "text": [
      "17\n"
     ]
    }
   ],
   "source": [
    "def grocery_cost(num_apples, num_oranges):\n",
    "    # takes in the number of apples and oranges and returns the total cost of groceries\n",
    "    price_apples = 3\n",
    "    cost_apples = num_apples*price_apples\n",
    "    price_oranges = 2\n",
    "    cost_oranges = num_oranges*price_oranges\n",
    "    total_cost = cost_apples + cost_oranges\n",
    "    return total_cost\n",
    "\n",
    "#call the function for total cost of 3 apples and 4 oranges\n",
    "print(grocery_cost(3, 4))"
   ]
  },
  {
   "cell_type": "code",
   "execution_count": 3,
   "id": "56dbb4b6-b0b9-468a-a062-fe34d7b8a8b6",
   "metadata": {},
   "outputs": [],
   "source": [
    "def orchard(price_strawberries, price_cherries,weight_strawberries, weight_cherries):\n",
    "    #takes in the price of strawberries and cherries and weight of strawberries and cherries\n",
    "    #returns the total cost of fruit\n",
    "    cost_strawberries = price_strawberries*weight_strawberries\n",
    "    cost_cherries = price_cherries*weight_cherries\n",
    "    total_cost = cost_strawberries + cost_cherries\n",
    "    return total_cost"
   ]
  },
  {
   "cell_type": "code",
   "execution_count": 4,
   "id": "7fca3057-0924-438d-94d3-7a3aa7b50a39",
   "metadata": {},
   "outputs": [
    {
     "name": "stdout",
     "output_type": "stream",
     "text": [
      "212\n"
     ]
    }
   ],
   "source": [
    "'''Scenario 1: Terhune Orchards\n",
    "$7 per lb of strawberries\n",
    "$10 per lb of cherries\n",
    "Gabby: 4 lbs strawberries, 3 lbs cherries\n",
    "Omar: 5 lbs strawberries, 3 lbs cherries\n",
    "Naeem: 7 lbs strawberries, 4 lbs cherries\n",
    "Find the total cost of the purchase at Terhune Orchards.\n",
    "'''\n",
    "\n",
    "gabby = orchard(7, 10, 4, 3)\n",
    "omar = orchard(7, 10, 5, 3)\n",
    "naeem = orchard(7, 10, 7, 4)\n",
    "\n",
    "chris_have_to_pay = gabby+omar+naeem\n",
    "\n",
    "print(chris_have_to_pay)"
   ]
  },
  {
   "cell_type": "code",
   "execution_count": 8,
   "id": "1bd14f25-8c01-4180-8c7f-04cd8ebaff8e",
   "metadata": {},
   "outputs": [
    {
     "name": "stdout",
     "output_type": "stream",
     "text": [
      "588\n"
     ]
    }
   ],
   "source": [
    "'''Scenario 2: Farmer's Market\n",
    "Terhune's cost: $7 per lb of strawberries, $10 per lb of cherries\n",
    "Cherry Grove's cost: $5 per lb of strawberries, $11 per lb of cherries\n",
    "Fruitwood's cost: $3 per lb of strawberries, $9 per lb of cherries\n",
    "\n",
    "Naeem gets 7 lbs strawberries and 4 lbs cherries from Terhune's.\n",
    "Rich gets 6 lbs strawberries and 8 lbs cherries from Terhune's.\n",
    "\n",
    "Belle gets 5 lbs strawberries and 7 lbs cherries from Cherry Grove.\n",
    "W gets 2 lbs strawberries and 2 lbs cherries from Cherry Grove.\n",
    "\n",
    "Gabby gets 10 lbs strawberries and 12 lbs cherries from Fruitwood.\n",
    "Ananya gets 5 lbs strawberries from Fruitwood.\n",
    "Amel gets 10 lbs cherries from Fruitwood.'''\n",
    "\n",
    "naeem = orchard(7, 10, 7, 4)\n",
    "rich = orchard(7, 10, 6, 8)\n",
    "\n",
    "belle = orchard(5, 11, 5, 7)\n",
    "w = orchard(5, 11, 2, 2)\n",
    "\n",
    "gabby = orchard(3, 9, 10, 12)\n",
    "ananya = orchard(3, 9, 5, 0)\n",
    "amel = orchard(3, 9, 0, 10)\n",
    "\n",
    "chris_have_to_pay = naeem + rich + belle + w + gabby + ananya + amel\n",
    "print(chris_have_to_pay)"
   ]
  },
  {
   "cell_type": "code",
   "execution_count": 11,
   "id": "e2cac813-24c9-4f76-82d0-8a03c18e13c4",
   "metadata": {},
   "outputs": [
    {
     "name": "stdout",
     "output_type": "stream",
     "text": [
      "(11, 8.0)\n",
      "11\n",
      "8.0\n",
      "36\n",
      "27.0\n"
     ]
    }
   ],
   "source": [
    "def lunch(price_falafel, amount_falafel, price_lentil, amount_lentil, price_pita, amount_pita):\n",
    "    #takes in the price and amounts of mamouns food and returns the total cost\n",
    "    cost_falafel = price_falafel*amount_falafel\n",
    "    cost_lentil = price_lentil*amount_lentil\n",
    "    cost_pita = price_pita*amount_pita\n",
    "    #special deal: cost of falafel is halved (50% off)\n",
    "    cost_falafel_deal = price_falafel*0.5*amount_falafel\n",
    "    #or we could have said: cost_falafel_deal = cost_falafel/2\n",
    "    cost_lunch = cost_falafel+cost_lentil+cost_pita\n",
    "    cost_lunch_deal = cost_falafel_deal + cost_lentil + cost_pita\n",
    "    return cost_lunch, cost_lunch_deal\n",
    "\n",
    "darius = lunch(3, 2, 2, 2, 1, 1)\n",
    "belle = lunch(3, 1, 2, 1, 1, 4)\n",
    "amel = lunch(3, 3, 2, 2, 1, 3)\n",
    "\n",
    "#darius's lunch without and with a deal\n",
    "print(darius)\n",
    "\n",
    "#darius's lunch without deal\n",
    "print(darius[0])\n",
    "\n",
    "#darius's lunch with deal\n",
    "print(darius[1])\n",
    "\n",
    "#ordering on tuesday (no deal)\n",
    "total_cost = darius[0]+belle[0]+amel[0]\n",
    "print(total_cost)\n",
    "\n",
    "#ordering on wednesday (with deal)\n",
    "total_cost = darius[1]+belle[1]+amel[1]\n",
    "print(total_cost)"
   ]
  },
  {
   "cell_type": "code",
   "execution_count": 15,
   "id": "e55646d4-139f-4370-921f-cfae0f65ef25",
   "metadata": {},
   "outputs": [
    {
     "name": "stdout",
     "output_type": "stream",
     "text": [
      "10\n",
      "[10, 200, 400, 600, 800]\n",
      "200\n",
      "[10, 200, 400, 600, 800]\n",
      "400\n",
      "[10, 200, 400, 600, 800]\n",
      "600\n",
      "[10, 200, 400, 600, 800]\n",
      "800\n",
      "[10, 200, 400, 600, 800]\n"
     ]
    }
   ],
   "source": [
    "cost_array = [10, 200, 400, 600, 800]\n",
    "for i in cost_array:\n",
    "    print(i)\n",
    "    #cost_array[i] = i-50\n",
    "    print(cost_array)"
   ]
  },
  {
   "cell_type": "code",
   "execution_count": 2,
   "id": "7e6d9d5c-db40-470b-b77e-d71309aefb88",
   "metadata": {},
   "outputs": [],
   "source": [
    "import pandas as pd\n",
    "import numpy as np\n",
    "import matplotlib as plt\n"
   ]
  },
  {
   "cell_type": "code",
   "execution_count": 12,
   "id": "03002862-2bb0-4b5c-b6c5-fcc6dfbd90f2",
   "metadata": {},
   "outputs": [
    {
     "name": "stdout",
     "output_type": "stream",
     "text": [
      "29700\n"
     ]
    }
   ],
   "source": [
    "\n",
    "\n",
    "def total_inventory(rshoes, cleets, bshoes):\n",
    "    rshoes_cost = 100\n",
    "    cleets_cost = 120\n",
    "    bshoes_cost = 250\n",
    "    total_rshoes_inv = rshoes * rshoes_cost\n",
    "    total_cleets_inv = cleets * cleets_cost\n",
    "    total_bshoes_inv = bshoes * bshoes_cost\n",
    "    total_inv = total_rshoes_inv + total_cleets_inv + total_bshoes_inv\n",
    "    return total_inv\n",
    "\n",
    "print(total_inventory(100, 60, 50))\n",
    "\n"
   ]
  },
  {
   "cell_type": "code",
   "execution_count": 11,
   "id": "52d08b84-fc1c-4877-8b93-de9a95e96e08",
   "metadata": {},
   "outputs": [
    {
     "name": "stdout",
     "output_type": "stream",
     "text": [
      "27000\n"
     ]
    }
   ],
   "source": [
    "\n",
    "def discount(rshoes, cleets, bshoes):\n",
    "    rshoes_cost = 100\n",
    "    cleets_cost = 120\n",
    "    bshoes_cost = 250\n",
    "    if cleets > bshoes:\n",
    "        cleets_cost = 75\n",
    "    total_rshoes_inv = rshoes * rshoes_cost\n",
    "    total_cleets_inv = cleets * cleets_cost\n",
    "    total_bshoes_inv = bshoes * bshoes_cost\n",
    "    total_inv = total_rshoes_inv + total_cleets_inv + total_bshoes_inv\n",
    "    return total_inv\n",
    "\n",
    "print(discount(100, 60, 50))\n"
   ]
  },
  {
   "cell_type": "code",
   "execution_count": null,
   "id": "3816138d-17d3-445e-a1d2-3cc2cd328ba7",
   "metadata": {},
   "outputs": [],
   "source": []
  }
 ],
 "metadata": {
  "kernelspec": {
   "display_name": "Python 3 (ipykernel)",
   "language": "python",
   "name": "python3"
  },
  "language_info": {
   "codemirror_mode": {
    "name": "ipython",
    "version": 3
   },
   "file_extension": ".py",
   "mimetype": "text/x-python",
   "name": "python",
   "nbconvert_exporter": "python",
   "pygments_lexer": "ipython3",
   "version": "3.12.7"
  }
 },
 "nbformat": 4,
 "nbformat_minor": 5
}
