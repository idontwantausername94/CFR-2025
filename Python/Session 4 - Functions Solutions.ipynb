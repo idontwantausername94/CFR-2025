{
 "cells": [
  {
   "cell_type": "markdown",
   "metadata": {},
   "source": [
    "# Session 4: Functions\n",
    "\n",
    "## Python Functions Tutorial (1.5 Hours)\n",
    "\n",
    "### Overview\n",
    "This tutorial is designed to introduce you to writing and using functions in Python. By the end of this session, you will understand the basics of defining functions, passing arguments, returning values, and some best practices.\n",
    "\n",
    "### Prerequisites\n",
    "- Basic understanding of Python variables and data types\n",
    "- Familiarity with assignments and data type conversions\n"
   ]
  },
  {
   "cell_type": "markdown",
   "metadata": {},
   "source": [
    "## Part 1: Introduction to Functions (15 minutes)\n",
    "\n",
    "### What is a Function?\n",
    "- A function is a block of code that performs a specific task.\n",
    "- Functions help in organizing code, making it more readable and reusable.\n"
   ]
  },
  {
   "cell_type": "markdown",
   "metadata": {},
   "source": [
    "### Defining a Function\n",
    "Functions are defined using the `def` keyword. They typically accept parameters or arguments and return values.\n",
    "\n",
    "#### Example: Calculating Area of a Rectangle (do together)"
   ]
  },
  {
   "cell_type": "code",
   "execution_count": 14,
   "metadata": {},
   "outputs": [
    {
     "name": "stdout",
     "output_type": "stream",
     "text": [
      "16.0\n",
      "18.75\n"
     ]
    }
   ],
   "source": [
    "def calculate_area(length, width):\n",
    "    \"\"\"\n",
    "    Calculate the area of a rectangle.\n",
    "    \n",
    "    Parameters:\n",
    "    length (float): The length of the rectangle.\n",
    "    width (float): The width of the rectangle.\n",
    "    \n",
    "    Returns:\n",
    "    float: The area of the rectangle.\n",
    "    \"\"\"\n",
    "    return length * width\n",
    "\n",
    "area = calculate_area(5.0, 3.2)\n",
    "print(area)\n",
    "\n",
    "area_2 = calculate_area(7.5, 2.5)\n",
    "print(area_2) \n"
   ]
  },
  {
   "cell_type": "markdown",
   "metadata": {},
   "source": [
    "### Best Practices\n",
    "- Use descriptive names for functions and parameters.\n",
    "- Keep functions short and focused on a single task.\n",
    "- Use comments to explain the purpose of the function.\n"
   ]
  },
  {
   "cell_type": "markdown",
   "metadata": {},
   "source": [
    "### Problem 1: Celsius to Fahrenheit Converter\n",
    "Write a function `celsius_to_fahrenheit` that converts Celsius to Fahrenheit.\n",
    "Formula: \n",
    "$F = C \\times \\frac{9}{5} + 32$\n",
    "\n",
    "#### Solution:\n"
   ]
  },
  {
   "cell_type": "code",
   "execution_count": 29,
   "metadata": {},
   "outputs": [
    {
     "name": "stdout",
     "output_type": "stream",
     "text": [
      "32.0\n",
      "212.0\n"
     ]
    }
   ],
   "source": [
    "def celsius_to_fahrenheit(celsius):\n",
    "    return celsius * 9 / 5 + 32\n",
    "\n",
    "print(celsius_to_fahrenheit(0))    # Output: 32.0\n",
    "print(celsius_to_fahrenheit(100))  # Output: 212.0\n"
   ]
  },
  {
   "cell_type": "markdown",
   "metadata": {},
   "source": [
    "### Problem 2: Calculate Average\n",
    "Write a function `average` that takes three numbers and returns the average.\n",
    "\n",
    "#### Solution:\n"
   ]
  },
  {
   "cell_type": "code",
   "execution_count": 17,
   "metadata": {},
   "outputs": [
    {
     "name": "stdout",
     "output_type": "stream",
     "text": [
      "10.0\n"
     ]
    }
   ],
   "source": [
    "def average(a, b, c):\n",
    "    return (a+b+c)/3\n",
    "\n",
    "print(average(5, 10, 15))"
   ]
  },
  {
   "cell_type": "markdown",
   "metadata": {},
   "source": [
    "### Problem 3: Max of two numbers\n",
    "Write a function that takes two numbers and return the larger of them.\n",
    "\n",
    "#### Solution:"
   ]
  },
  {
   "cell_type": "code",
   "execution_count": 33,
   "metadata": {},
   "outputs": [],
   "source": [
    "def max_of_two(x, y):\n",
    "    # Check if x is greater than y\n",
    "    if x > y:\n",
    "        # If x is greater, return x\n",
    "        return x\n",
    "    # If y is greater or equal to x, return y\n",
    "    return y"
   ]
  },
  {
   "cell_type": "markdown",
   "metadata": {},
   "source": [
    "## Part 3: Function Scope and Best Practices (15 minutes)\n",
    "\n",
    "### Variable Scope\n",
    "Variables defined inside a function are local to that function.\n",
    "\n",
    "#### Example:\n"
   ]
  },
  {
   "cell_type": "code",
   "execution_count": 13,
   "metadata": {},
   "outputs": [
    {
     "name": "stdout",
     "output_type": "stream",
     "text": [
      "5\n"
     ]
    }
   ],
   "source": [
    "def test_scope():\n",
    "    x = 5\n",
    "    print(x)\n",
    "\n",
    "test_scope()\n",
    "# print(x)  # This would cause an error\n"
   ]
  },
  {
   "cell_type": "markdown",
   "metadata": {},
   "source": [
    "## Problem 4: Convert and compare temperatures\n",
    "Write code that takes two variables, `temp_in_celsius` and `temp_in_fahrenheit`, and tells you which one is hotter.\n",
    "\n",
    "Hint: You can use the functions you defined earlier.\n",
    "\n",
    "### Solution:"
   ]
  },
  {
   "cell_type": "code",
   "execution_count": 48,
   "metadata": {},
   "outputs": [
    {
     "name": "stdout",
     "output_type": "stream",
     "text": [
      "temp_in_fahrenheit is hotter\n"
     ]
    }
   ],
   "source": [
    "temp_in_celsius = 25\n",
    "temp_in_fahrenheit = 90\n",
    "\n",
    "temp_in_celsius_converted = celsius_to_fahrenheit(temp_in_celsius)\n",
    "larger_temp = max_of_two(temp_in_celsius_converted, temp_in_fahrenheit)\n",
    "\n",
    "if larger_temp == temp_in_celsius_converted:\n",
    "    print(\"temp_in_celsius is hotter\")\n",
    "else:\n",
    "    print(\"temp_in_fahrenheit is hotter\")\n"
   ]
  },
  {
   "cell_type": "markdown",
   "metadata": {},
   "source": [
    "## Conclusion and Q&A (10 minutes)\n",
    "- Review the key concepts covered: defining functions, parameters, return values, scope, and best practices.\n",
    "- Encourage practice and experimentation.\n",
    "- Open the floor for any questions and further clarifications.\n"
   ]
  },
  {
   "cell_type": "markdown",
   "metadata": {},
   "source": []
  }
 ],
 "metadata": {
  "kernelspec": {
   "display_name": "Python 3 (ipykernel)",
   "language": "python",
   "name": "python3"
  },
  "language_info": {
   "codemirror_mode": {
    "name": "ipython",
    "version": 3
   },
   "file_extension": ".py",
   "mimetype": "text/x-python",
   "name": "python",
   "nbconvert_exporter": "python",
   "pygments_lexer": "ipython3",
   "version": "3.11.7"
  }
 },
 "nbformat": 4,
 "nbformat_minor": 4
}
