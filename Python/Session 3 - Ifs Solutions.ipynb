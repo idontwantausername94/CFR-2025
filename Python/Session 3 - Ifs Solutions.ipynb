{
 "cells": [
  {
   "cell_type": "markdown",
   "metadata": {},
   "source": [
    "# Session 3: Conditionals\n",
    "\n",
    "### Introduction\n",
    "In this tutorial, you will learn how to use conditionals, or if-statements, in Python. Conditionals allow you to make decisions in your code.\n",
    "\n",
    "### Objectives\n",
    "- Use conditionals (`if`, `elif`, `else`) to make decisions\n",
    "- Solve practice problems to reinforce your understanding\n",
    "\n",
    "### Prerequisites\n",
    "- Basic knowledge of Python variables\n",
    "- Familiarity with NumPy\n",
    "\n",
    "### Estimated Time: 1.5 hours"
   ]
  },
  {
   "cell_type": "markdown",
   "metadata": {},
   "source": [
    "# 1. Conditionals in Python"
   ]
  },
  {
   "cell_type": "markdown",
   "metadata": {},
   "source": [
    "### 1.1 if, elif, else\n",
    "\n",
    "Conditionals allow you to execute certain pieces of code based on conditions.\n",
    "\n",
    "**Syntax:**\n"
   ]
  },
  {
   "cell_type": "markdown",
   "metadata": {},
   "source": [
    "```python\n",
    "if condition:\n",
    "    # code to execute if condition is true\n",
    "elif another_condition:\n",
    "    # code to execute if another_condition is true\n",
    "else:\n",
    "    # code to execute if none of the above conditions are true\n"
   ]
  },
  {
   "cell_type": "markdown",
   "metadata": {},
   "source": [
    "#### Example: Classify a number as positive, negative, or 0"
   ]
  },
  {
   "cell_type": "code",
   "execution_count": 7,
   "metadata": {},
   "outputs": [
    {
     "name": "stdout",
     "output_type": "stream",
     "text": [
      "x is positive\n"
     ]
    }
   ],
   "source": [
    "x = 10\n",
    "\n",
    "if x > 0:\n",
    "    print(\"x is positive\")\n",
    "elif x < 0:\n",
    "    print(\"x is negative\")\n",
    "else:\n",
    "    print(\"x is zero\")\n"
   ]
  },
  {
   "cell_type": "markdown",
   "metadata": {},
   "source": [
    "### Practice Problem 1: Pass/Fail\n",
    "\n",
    "The variable `score` is a random number between 0 and 100. If the score is below 50, print 'Fail', otherwise print 'Pass'. "
   ]
  },
  {
   "cell_type": "code",
   "execution_count": 23,
   "metadata": {},
   "outputs": [
    {
     "name": "stdout",
     "output_type": "stream",
     "text": [
      "80\n"
     ]
    }
   ],
   "source": [
    "# Run this before running your solution\n",
    "import random\n",
    "score = random.randint(0,100)\n",
    "\n",
    "print(score)"
   ]
  },
  {
   "cell_type": "markdown",
   "metadata": {},
   "source": [
    "**Solution:**"
   ]
  },
  {
   "cell_type": "code",
   "execution_count": 25,
   "metadata": {},
   "outputs": [
    {
     "name": "stdout",
     "output_type": "stream",
     "text": [
      "Pass\n"
     ]
    }
   ],
   "source": [
    "if score < 50:\n",
    "    print('Fail')\n",
    "else:\n",
    "    print('Pass')"
   ]
  },
  {
   "cell_type": "markdown",
   "metadata": {},
   "source": [
    "### Practice Problem 2: Even and Odd numbers\n",
    "\n",
    "Determine if random number `x` is even or odd.\n",
    "\n",
    "Hint: The modulus operator `%` gives you the remainder of a division operation. For example, 3%2 = 1 and 4%2 = 0."
   ]
  },
  {
   "cell_type": "code",
   "execution_count": 42,
   "metadata": {},
   "outputs": [
    {
     "name": "stdout",
     "output_type": "stream",
     "text": [
      "2\n"
     ]
    }
   ],
   "source": [
    "# Run this before running your solution\n",
    "import random\n",
    "x = random.randint(0,100)\n",
    "\n",
    "print(x)"
   ]
  },
  {
   "cell_type": "markdown",
   "metadata": {},
   "source": [
    "**Solution:**"
   ]
  },
  {
   "cell_type": "code",
   "execution_count": 44,
   "metadata": {},
   "outputs": [
    {
     "name": "stdout",
     "output_type": "stream",
     "text": [
      "the number is even\n"
     ]
    }
   ],
   "source": [
    "if x%2==0:\n",
    "    print('the number is even')\n",
    "else:\n",
    "    print('the number is odd')"
   ]
  },
  {
   "cell_type": "markdown",
   "metadata": {},
   "source": [
    "### Practice Problem 3: \n",
    "Suppose the variables `r` and `p` store numbers. Using an if … else statement, write Python code that sets the variable `m` to the smaller of `r` and `p` (naturally, if `r` and `p` are equal, `m` should be set equal to this common value).\n"
   ]
  },
  {
   "cell_type": "code",
   "execution_count": 51,
   "metadata": {},
   "outputs": [
    {
     "name": "stdout",
     "output_type": "stream",
     "text": [
      "1\n"
     ]
    }
   ],
   "source": [
    "r = 3\n",
    "p = 1\n",
    "\n",
    "if r <= p:\n",
    "    m = r\n",
    "else:\n",
    "    m = p\n",
    "\n",
    "print(m)"
   ]
  },
  {
   "cell_type": "markdown",
   "metadata": {},
   "source": [
    "## 2. While Loops\n",
    "The while loop repeats as long as a condition is true.\n",
    "\n",
    "**Syntax:**\n",
    "\n",
    "```python\n",
    "while condition:\n",
    "    # code to execute while the condition is true"
   ]
  },
  {
   "cell_type": "markdown",
   "metadata": {},
   "source": [
    "### Example 1: Running a while loop a fixed number of times"
   ]
  },
  {
   "cell_type": "code",
   "execution_count": 7,
   "metadata": {},
   "outputs": [
    {
     "name": "stdout",
     "output_type": "stream",
     "text": [
      "0\n",
      "1\n",
      "2\n",
      "3\n",
      "4\n",
      "5\n"
     ]
    }
   ],
   "source": [
    "count = 0\n",
    "while count <= 5:\n",
    "    print(count)\n",
    "    count = count + 1"
   ]
  },
  {
   "cell_type": "markdown",
   "metadata": {},
   "source": [
    "### Example 2: Two ways to run a while loop a fixed number of times\n",
    "\n",
    "Write a loop that print 'hi' 5 times."
   ]
  },
  {
   "cell_type": "code",
   "execution_count": null,
   "metadata": {},
   "outputs": [],
   "source": [
    "count = 0\n",
    "while count < 5:\n",
    "    print('hi')\n",
    "    count = count + 1\n",
    "print()"
   ]
  },
  {
   "cell_type": "markdown",
   "metadata": {},
   "source": [
    "### Practice Problem 1\n",
    "Write a loop that counts down from 5 to 1. (It should print 5, then 4, then 3, then 2, then 1.)"
   ]
  },
  {
   "cell_type": "code",
   "execution_count": 129,
   "metadata": {},
   "outputs": [
    {
     "name": "stdout",
     "output_type": "stream",
     "text": [
      "5\n",
      "4\n",
      "3\n",
      "2\n",
      "1\n",
      "\n"
     ]
    }
   ],
   "source": [
    "countdown = 5\n",
    "while countdown > 0:\n",
    "    print(countdown)\n",
    "    countdown = countdown - 1\n",
    "print()"
   ]
  },
  {
   "cell_type": "markdown",
   "metadata": {},
   "source": [
    "### Example 3: Run a while loop based on a condition\n",
    "Print all of the even numbers between 22 and 36, inclusive."
   ]
  },
  {
   "cell_type": "code",
   "execution_count": 86,
   "metadata": {},
   "outputs": [
    {
     "name": "stdout",
     "output_type": "stream",
     "text": [
      "22\n",
      "24\n",
      "26\n",
      "28\n",
      "30\n",
      "32\n",
      "34\n",
      "36\n",
      "\n"
     ]
    }
   ],
   "source": [
    "even_num = 22\n",
    "while even_num <= 36:\n",
    "    print(even_num)\n",
    "    even_num = even_num + 2\n",
    "print()\n"
   ]
  },
  {
   "cell_type": "markdown",
   "metadata": {},
   "source": [
    "### Example 4: Rolling a Die\n",
    "Write a loop that keeps rolling a die (generating a random number `num` between 1 and 6 until `num` is equal to 1."
   ]
  },
  {
   "cell_type": "code",
   "execution_count": 139,
   "metadata": {},
   "outputs": [
    {
     "name": "stdout",
     "output_type": "stream",
     "text": [
      "3\n",
      "5\n",
      "5\n",
      "3\n",
      "6\n",
      "4\n",
      "5\n",
      "1\n"
     ]
    }
   ],
   "source": [
    "import random\n",
    "\n",
    "num = random.randint(1,6)\n",
    "print(num)\n",
    "while num != 1:\n",
    "    num = random.randint(1,6)\n",
    "    print(num)\n",
    "    "
   ]
  },
  {
   "cell_type": "markdown",
   "metadata": {},
   "source": [
    "### Practice Problem 2: Guess a random number\n",
    "`num` is a random integer between 0 and 10. Define a variable `guess=5` and write a loop that compares the guess with `num` and increases it by 1 if the guess is too low, or decreases it by 1 if the guess is too high until the guess is equal to `num`."
   ]
  },
  {
   "cell_type": "code",
   "execution_count": 121,
   "metadata": {},
   "outputs": [
    {
     "name": "stdout",
     "output_type": "stream",
     "text": [
      "5\n"
     ]
    }
   ],
   "source": [
    "# Run this before running your solution\n",
    "import random\n",
    "num = random.randint(0,10)\n",
    "print(num)"
   ]
  },
  {
   "cell_type": "markdown",
   "metadata": {},
   "source": [
    "### Solution"
   ]
  },
  {
   "cell_type": "code",
   "execution_count": 123,
   "metadata": {},
   "outputs": [
    {
     "name": "stdout",
     "output_type": "stream",
     "text": [
      "5\n"
     ]
    }
   ],
   "source": [
    "guess = 5\n",
    "\n",
    "while guess != num:\n",
    "    print(guess)\n",
    "    if guess < num:\n",
    "        guess += 1\n",
    "    else:\n",
    "        guess -= 1\n",
    "print(guess)            "
   ]
  },
  {
   "cell_type": "markdown",
   "metadata": {},
   "source": [
    "## Bonus Problem 1: Find the values of a, b, and c after the following code is run (without running the code!)\n",
    "![Bonus-Problem](If-while-bonus.jpeg)"
   ]
  },
  {
   "cell_type": "markdown",
   "metadata": {},
   "source": [
    "### Solution:\n",
    "a = 0  \n",
    "b = -2  \n",
    "c = 12  "
   ]
  },
  {
   "cell_type": "code",
   "execution_count": null,
   "metadata": {},
   "outputs": [],
   "source": []
  }
 ],
 "metadata": {
  "kernelspec": {
   "display_name": "Python 3 (ipykernel)",
   "language": "python",
   "name": "python3"
  },
  "language_info": {
   "codemirror_mode": {
    "name": "ipython",
    "version": 3
   },
   "file_extension": ".py",
   "mimetype": "text/x-python",
   "name": "python",
   "nbconvert_exporter": "python",
   "pygments_lexer": "ipython3",
   "version": "3.11.7"
  }
 },
 "nbformat": 4,
 "nbformat_minor": 4
}
