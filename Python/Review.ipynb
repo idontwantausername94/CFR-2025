{
 "cells": [
  {
   "cell_type": "code",
   "execution_count": 3,
   "id": "b769a9fd-594a-4e21-8433-bc39c61ed092",
   "metadata": {},
   "outputs": [
    {
     "name": "stdout",
     "output_type": "stream",
     "text": [
      "False\n"
     ]
    }
   ],
   "source": [
    "# boolean variables, True and False have to be capitilized on the first letter\n",
    "isy = True\n",
    "isn = False\n",
    "\n",
    "x = 4\n",
    "if x == 5:\n",
    "    print(isy)\n",
    "else:\n",
    "    print(isn)\n",
    "# for the if statement, put the variable your checking above the problem, exe:\n",
    "#x = 4 <<<<<<YES\n",
    "#if x == 5: ...\n",
    "    \n",
    "# if you put it on the bottom, the if code wont run exe:\n",
    "#x = 4\n",
    "#if x == 5:\n",
    "#    print(isy)\n",
    "#else:\n",
    "#    print(isn)\n",
    "#x = 4 <<<<<<<<<<<<<<<NO"
   ]
  },
  {
   "cell_type": "code",
   "execution_count": 8,
   "id": "e492fbed-354a-42e6-bbe2-0d8c6741267d",
   "metadata": {},
   "outputs": [
    {
     "name": "stdout",
     "output_type": "stream",
     "text": [
      "A\n"
     ]
    }
   ],
   "source": [
    "# example problem\n",
    "\n",
    "g = 90\n",
    "if g >= 90:\n",
    "    print(\"A\")\n",
    "elif g >= 80:\n",
    "    print(\"B\")\n",
    "elif g >= 70:\n",
    "    print(\"C\")\n",
    "else:\n",
    "    print(\"Fail\")\n",
    "    "
   ]
  },
  {
   "cell_type": "code",
   "execution_count": 9,
   "id": "8d016aff-1191-4230-9233-4f5cdaba9ba2",
   "metadata": {},
   "outputs": [],
   "source": [
    "import numpy as np"
   ]
  },
  {
   "cell_type": "code",
   "execution_count": 12,
   "id": "5e38ef46-c852-40bd-9ecb-165e49b69d03",
   "metadata": {},
   "outputs": [
    {
     "name": "stdout",
     "output_type": "stream",
     "text": [
      "mexican\n"
     ]
    }
   ],
   "source": [
    "lunch_today = [\"indian\", \"mexican\", \"deli\", \"breakfast\", \"fast food\"]\n",
    "\n",
    "lunch = np.random.choice(lunch_today)\n",
    "print(lunch)"
   ]
  },
  {
   "cell_type": "code",
   "execution_count": null,
   "id": "2764d06c-fbea-4f3c-93b9-4bc4de26c932",
   "metadata": {},
   "outputs": [],
   "source": []
  }
 ],
 "metadata": {
  "kernelspec": {
   "display_name": "Python 3 (ipykernel)",
   "language": "python",
   "name": "python3"
  },
  "language_info": {
   "codemirror_mode": {
    "name": "ipython",
    "version": 3
   },
   "file_extension": ".py",
   "mimetype": "text/x-python",
   "name": "python",
   "nbconvert_exporter": "python",
   "pygments_lexer": "ipython3",
   "version": "3.12.7"
  }
 },
 "nbformat": 4,
 "nbformat_minor": 5
}
