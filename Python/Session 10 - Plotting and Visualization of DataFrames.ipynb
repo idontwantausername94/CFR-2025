{
 "cells": [
  {
   "cell_type": "markdown",
   "metadata": {},
   "source": [
    "# Session 10: Plotting and Visualization of DataFrames\n",
    "\n",
    "## Introduction\n",
    "Data visualization is a powerful tool for understanding and communicating data. In this tutorial, we will explore how to visualize data using Pandas and Matplotlib in Python. By the end of this tutorial, you will be able to create various types of plots directly from Pandas DataFrames, customize these plots, and perform advanced data visualization techniques.\n",
    "\n",
    "### Objectives\n",
    "- Understand the basics of plotting with Pandas and Matplotlib.\n",
    "- Create and customize various types of plots from DataFrames.\n",
    "- Learn advanced data visualization techniques for effective data analysis.\n",
    "\n",
    "### Prerequisites\n",
    "- Knowledge of Python: functions, variables, arrays.\n",
    "- Basic understanding of Pandas and Matplotlib.\n",
    "\n",
    "**Estimated Time: 1.5 hours**\n",
    "\n",
    "## Introduction to Plotting with Pandas\n",
    "\n",
    "### What is Pandas Plotting?\n",
    "Pandas integrates with Matplotlib to provide a high-level interface for plotting data contained in DataFrames and Series. This makes it easy to create quick and beautiful visualizations directly from Pandas objects.\n",
    "\n",
    "### Importing Required Libraries\n",
    "Before we start, let's import Pandas and Matplotlib:\n"
   ]
  },
  {
   "cell_type": "code",
   "execution_count": 6,
   "metadata": {},
   "outputs": [],
   "source": []
  },
  {
   "cell_type": "markdown",
   "metadata": {},
   "source": [
    "### Creating Sample DataFrame\n",
    "We'll use the following sample DataFrame for our examples:"
   ]
  },
  {
   "cell_type": "code",
   "execution_count": null,
   "metadata": {},
   "outputs": [],
   "source": []
  },
  {
   "cell_type": "markdown",
   "metadata": {},
   "source": [
    "## Part 1: Basic Plotting with Pandas (30 minutes)\n",
    "\n",
    "Pandas makes it easy to create basic plots using the `plot` method. The default plot type is a line plot.\n",
    "\n",
    "#### Example 1: Line Plot\n"
   ]
  },
  {
   "cell_type": "code",
   "execution_count": null,
   "metadata": {},
   "outputs": [],
   "source": []
  },
  {
   "cell_type": "markdown",
   "metadata": {},
   "source": [
    "**Practice Problem 1: Create Your Own Line Plot**\n",
    "\n",
    "Create a line plot for the 'Quantity' vs 'Product' data in the DataFrame.\n",
    "\n",
    "**Solution:**\n"
   ]
  },
  {
   "cell_type": "code",
   "execution_count": null,
   "metadata": {},
   "outputs": [],
   "source": [
    "\n"
   ]
  },
  {
   "cell_type": "markdown",
   "metadata": {},
   "source": [
    "#### Example 2: Customizing Line Plot\n",
    "\n",
    "You can customize your plots by changing colors, adding markers, and more.\n"
   ]
  },
  {
   "cell_type": "code",
   "execution_count": null,
   "metadata": {},
   "outputs": [],
   "source": [
    "\n"
   ]
  },
  {
   "cell_type": "markdown",
   "metadata": {},
   "source": [
    "**Practice Problem 2: Customize Your Line Plot**\n",
    "\n",
    "Customize the line plot you created in Practice Problem 1 by changing the color to blue, adding a dashed line style, and using square markers.\n",
    "\n",
    "**Solution:**\n"
   ]
  },
  {
   "cell_type": "code",
   "execution_count": null,
   "metadata": {},
   "outputs": [],
   "source": []
  },
  {
   "cell_type": "markdown",
   "metadata": {},
   "source": [
    "## Part 2: Common Plot Types (30 minutes)\n",
    "\n",
    "#### Example 3: Bar Plot\n"
   ]
  },
  {
   "cell_type": "code",
   "execution_count": null,
   "metadata": {},
   "outputs": [],
   "source": [
    "\n"
   ]
  },
  {
   "cell_type": "markdown",
   "metadata": {},
   "source": [
    "**Practice Problem 3: Create Your Own Bar Plot**\n",
    "\n",
    "Create a bar plot for the 'Quantity' vs 'Product' data in the DataFrame.\n",
    "\n",
    "**Solution:**\n"
   ]
  },
  {
   "cell_type": "code",
   "execution_count": null,
   "metadata": {},
   "outputs": [],
   "source": [
    "\n"
   ]
  },
  {
   "cell_type": "markdown",
   "metadata": {},
   "source": [
    "#### Example 4: Histogram\n",
    "\n",
    "Histograms are useful for displaying the distribution of a dataset.\n"
   ]
  },
  {
   "cell_type": "code",
   "execution_count": null,
   "metadata": {},
   "outputs": [],
   "source": [
    "\n"
   ]
  },
  {
   "cell_type": "markdown",
   "metadata": {},
   "source": [
    "**Practice Problem 4: Create Your Own Histogram**\n",
    "\n",
    "Create a histogram for a dataset of 100 random values.\n",
    "\n",
    "**Solution:**\n"
   ]
  },
  {
   "cell_type": "code",
   "execution_count": null,
   "metadata": {},
   "outputs": [],
   "source": []
  },
  {
   "cell_type": "markdown",
   "metadata": {},
   "source": [
    "#### Example 5: Scatter Plot\n",
    "\n",
    "Scatter plots are useful for visualizing the relationship between two variables.\n"
   ]
  },
  {
   "cell_type": "code",
   "execution_count": null,
   "metadata": {},
   "outputs": [],
   "source": []
  },
  {
   "cell_type": "markdown",
   "metadata": {},
   "source": [
    "**Practice Problem 5: Create Your Own Scatter Plot**\n",
    "\n",
    "Create a scatter plot for the following data:\n",
    "\n",
    "x: [10, 20, 30, 40, 50]\n",
    "y: [15, 25, 35, 45, 55]\n",
    "\n",
    "**Solution:**\n"
   ]
  },
  {
   "cell_type": "code",
   "execution_count": null,
   "metadata": {},
   "outputs": [],
   "source": [
    "\n"
   ]
  },
  {
   "cell_type": "markdown",
   "metadata": {},
   "source": [
    "## Part 3: Advanced Customization and Subplots (30 minutes)\n",
    "\n",
    "\n",
    "#### Example 6: Creating Subplots\n",
    "\n",
    "Subplots allow you to create multiple plots in a single figure."
   ]
  },
  {
   "cell_type": "code",
   "execution_count": null,
   "metadata": {},
   "outputs": [],
   "source": []
  },
  {
   "cell_type": "markdown",
   "metadata": {},
   "source": [
    "**Practice Problem 6: Create Your Own Subplots**\n",
    "\n",
    "Create a figure with two subplots:\n",
    "- A line plot for the data x: [0, 1, 2, 3, 4], y: [0, 1, 4, 9, 16]\n",
    "- A bar plot for the data categories: ['A', 'B', 'C'], values: [5, 10, 15]\n",
    "\n",
    "**Solution:**\n"
   ]
  },
  {
   "cell_type": "code",
   "execution_count": null,
   "metadata": {},
   "outputs": [],
   "source": []
  },
  {
   "cell_type": "markdown",
   "metadata": {},
   "source": [
    "#### Example 7: Adding Annotations\n"
   ]
  },
  {
   "cell_type": "code",
   "execution_count": null,
   "metadata": {},
   "outputs": [],
   "source": []
  },
  {
   "cell_type": "markdown",
   "metadata": {},
   "source": [
    "**Practice Problem 7: Add Annotations to Your Plot**\n",
    "\n",
    "Add an annotation to the highest point in the line plot from Practice Problem 1.\n",
    "\n",
    "**Solution:**\n"
   ]
  },
  {
   "cell_type": "code",
   "execution_count": null,
   "metadata": {},
   "outputs": [],
   "source": []
  },
  {
   "cell_type": "markdown",
   "metadata": {},
   "source": [
    "## Conclusion\n",
    "\n",
    "In this tutorial, you have learned how to:\n",
    "- Create basic plots using Pandas.\n",
    "- Customize plots with colors, markers, and grid lines.\n",
    "- Create different types of plots such as bar plots, histograms, and scatter plots.\n",
    "- Use subplots to create multiple plots in a single figure.\n",
    "- Add annotations to highlight specific data\n"
   ]
  },
  {
   "cell_type": "markdown",
   "metadata": {},
   "source": []
  }
 ],
 "metadata": {
  "kernelspec": {
   "display_name": "base",
   "language": "python",
   "name": "python3"
  },
  "language_info": {
   "codemirror_mode": {
    "name": "ipython",
    "version": 3
   },
   "file_extension": ".py",
   "mimetype": "text/x-python",
   "name": "python",
   "nbconvert_exporter": "python",
   "pygments_lexer": "ipython3",
   "version": "3.12.2"
  }
 },
 "nbformat": 4,
 "nbformat_minor": 2
}
