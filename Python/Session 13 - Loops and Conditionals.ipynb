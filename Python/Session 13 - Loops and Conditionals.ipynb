{
 "cells": [
  {
   "cell_type": "markdown",
   "metadata": {},
   "source": [
    "# Practical (Loops and Conditionals on Datasets)\n",
    "\n",
    "## Practical: Using Loops and Conditionals to Analyze Earth’s Temperature Data\n",
    "\n",
    "### Introduction\n",
    "\n",
    "In this practical, you will learn how to use loops and conditionals to process and analyze a dataset containing Earth’s global average surface temperature anomalies ([dataset link](https://berkeley-earth-temperature.s3.us-west-1.amazonaws.com/Global/Land_and_Ocean_complete.txt) from [Berkeley Earth](https://berkeleyearth.org/data/)). You will handle data efficiently and perform operations such as filtering, summing, and averaging data using loops and arrays.\n",
    "\n",
    "### Objectives\n",
    "\n",
    "- Understand and create arrays from datasets\n",
    "- Use for and while loops to iterate over arrays\n",
    "- Use conditionals within loops to process data\n",
    "- Perform data processing tasks on large datasets\n",
    "- Solve practice problems to reinforce your understanding\n",
    "\n",
    "### Prerequisites\n",
    "\n",
    "Basic knowledge of Python variables, functions, conditionals, arrays, and NumPy\n",
    "\n",
    "### Estimated Time: 1.5 hours\n",
    "\n",
    "1. **Working with NumPy Arrays**\n",
    "\n",
    "   1.1 **Creating Arrays from a Dataset**\n",
    "\n",
    "   We will use a sample dataset containing Earth’s temperature anomalies. The dataset includes monthly, annual, five-year, ten-year, and twenty-year anomalies along with their uncertainties.\n"
   ]
  },
  {
   "cell_type": "code",
   "execution_count": null,
   "metadata": {},
   "outputs": [],
   "source": []
  },
  {
   "cell_type": "markdown",
   "metadata": {},
   "source": [
    "### Explanation:\n",
    "\n",
    "**Step 1:** Strip any leading or trailing whitespace from the dataset.\n",
    "**Step 2:** Split the dataset into individual lines.\n",
    "**Step 3:** Split each line into individual elements and store them in a NumPy array.\n",
    "\n",
    "*Hint:* Use the `strip()` and `split()` methods to process the data.\n",
    "\n",
    "### Practice Problem 1: Data Parsing (10 minutes)\n",
    "\n",
    "Write a function `parse_data` that takes a multiline string dataset and returns a NumPy array where each row represents a line of data.\n",
    "\n",
    "\n",
    "**Solution:**"
   ]
  },
  {
   "cell_type": "code",
   "execution_count": null,
   "metadata": {},
   "outputs": [],
   "source": []
  },
  {
   "cell_type": "markdown",
   "metadata": {},
   "source": [
    "# 2. Using Loops with Arrays\n",
    "\n",
    "## 2.1 for Loop with Arrays\n",
    "\n",
    "The for loop is used to iterate over each element in an array.\n",
    "\n",
    "**Example:**\n"
   ]
  },
  {
   "cell_type": "code",
   "execution_count": null,
   "metadata": {},
   "outputs": [],
   "source": []
  },
  {
   "cell_type": "markdown",
   "metadata": {},
   "source": [
    "**Hint:** Use the for loop to go through each element in the `parsed_data` array. Extract and print specific elements from each entry.\n",
    "\n",
    "### Practice Problem 2: Extracting Monthly Anomalies\n",
    "\n",
    "Write a function `extract_monthly_anomalies` that takes the parsed data and returns a NumPy array of monthly anomalies.\n",
    "\n",
    "**Hints:**\n",
    "- Initialize an empty list to store the anomalies.\n",
    "- Use a for loop to iterate over the parsed data.\n",
    "- Extract the monthly anomaly (convert it to a float) and append it to the list.\n",
    "- Convert the list to a NumPy array at the end.\n",
    "\n",
    "**Solution:**\n",
    "\n"
   ]
  },
  {
   "cell_type": "code",
   "execution_count": null,
   "metadata": {},
   "outputs": [],
   "source": []
  },
  {
   "cell_type": "markdown",
   "metadata": {},
   "source": [
    "## 2.2 while Loop with Arrays\n",
    "\n",
    "The while loop can be used to iterate over arrays when the number of iterations is not known beforehand.\n",
    "\n",
    "**Example:**\n"
   ]
  },
  {
   "cell_type": "code",
   "execution_count": null,
   "metadata": {},
   "outputs": [],
   "source": []
  },
  {
   "cell_type": "markdown",
   "metadata": {},
   "source": [
    "**Hint:** Use a variable to keep track of the current index and increment it in each iteration.\n",
    "\n",
    "### Practice Problem 3: Summing Monthly Anomalies\n",
    "\n",
    "Write a function `sum_monthly_anomalies` that takes a NumPy array of monthly anomalies and returns their sum using a while loop.\n",
    "\n",
    "**Hints:**\n",
    "- Initialize a variable to hold the total sum.\n",
    "- Use a while loop to iterate over the array.\n",
    "- Add each element to the total sum.\n",
    "\n",
    "**Solution:**\n",
    "\n"
   ]
  },
  {
   "cell_type": "code",
   "execution_count": null,
   "metadata": {},
   "outputs": [],
   "source": []
  },
  {
   "cell_type": "markdown",
   "metadata": {},
   "source": [
    "# 3. Performing Data Analysis with Loops and Arrays\n",
    "\n",
    "## 3.1 Summing Elements in an Array\n",
    "\n",
    "Write a function `sum_array` that takes a NumPy array of numbers and returns the sum of its elements.\n",
    "\n",
    "**Hints:**\n",
    "- Initialize a variable to hold the total sum.\n",
    "- Use a for loop to iterate over the array and add each element to the total sum.\n",
    "\n",
    "**Solution:**"
   ]
  },
  {
   "cell_type": "code",
   "execution_count": null,
   "metadata": {},
   "outputs": [],
   "source": []
  },
  {
   "cell_type": "markdown",
   "metadata": {},
   "source": [
    "### 3.2 Finding the Average of an Array\n",
    "\n",
    "Write a function `average_array` that takes a NumPy array of numbers and returns the average.\n",
    "\n",
    "**Hints:**\n",
    "- Use the `sum_array` function to get the total sum of the array.\n",
    "- Divide the total sum by the number of elements in the array.\n",
    "\n",
    "**Solution:**"
   ]
  },
  {
   "cell_type": "code",
   "execution_count": null,
   "metadata": {},
   "outputs": [],
   "source": []
  },
  {
   "cell_type": "markdown",
   "metadata": {},
   "source": [
    "### 3.3 Filtering Data\n",
    "\n",
    "Write a function `filter_negative_anomalies` that takes a NumPy array of anomalies and returns a NumPy array of only the negative anomalies.\n",
    "\n",
    "**Hints:**\n",
    "- Initialize an empty list to store the negative anomalies.\n",
    "- Use a for loop to iterate over the anomalies.\n",
    "- Use an if condition to check if an anomaly is negative, and if so, append it to the list.\n",
    "- Convert the list to a NumPy array at the end.\n",
    "\n",
    "**Solution:**"
   ]
  },
  {
   "cell_type": "code",
   "execution_count": null,
   "metadata": {},
   "outputs": [],
   "source": [
    "\n"
   ]
  },
  {
   "cell_type": "markdown",
   "metadata": {},
   "source": [
    "### 3.4 Counting Occurrences of Anomalies\n",
    "\n",
    "Write a function `count_anomalies` that takes a NumPy array of anomalies and returns the number of occurrences of each unique anomaly using just basic structures.\n",
    "\n",
    "**Hints:**\n",
    "- Initialize an empty list for unique anomalies.\n",
    "- Initialize an empty list for counts.\n",
    "- Use a for loop to iterate over the anomalies.\n",
    "- Use another for loop to check if the anomaly is already in the list of unique anomalies.\n",
    "- If it is, increment the corresponding count.\n",
    "- If it isn’t, append it to the list of unique anomalies and add a count of 1.\n",
    "\n",
    "**Solution:**"
   ]
  },
  {
   "cell_type": "code",
   "execution_count": null,
   "metadata": {},
   "outputs": [],
   "source": [
    "\n"
   ]
  },
  {
   "cell_type": "markdown",
   "metadata": {},
   "source": [
    "## Summary\n",
    "\n",
    "In this practical, you learned how to:\n",
    "- Parse a multiline string dataset into a NumPy array.\n",
    "- Use for and while loops to iterate over arrays.\n",
    "- Perform various data processing tasks such as summing, averaging, and filtering data using loops and arrays.\n",
    "\n",
    "By working through these examples and practice problems, you have gained a deeper understanding of how to handle and analyze datasets using basic Python constructs.\n",
    "\n",
    "## Practice Problems for Further Learning\n",
    "\n",
    "### Finding Maximum and Minimum Anomalies\n",
    "Write a function `find_max_min_anomalies` that returns the maximum and minimum monthly anomalies from the dataset.\n",
    "\n",
    "**Solution:**"
   ]
  },
  {
   "cell_type": "code",
   "execution_count": null,
   "metadata": {},
   "outputs": [],
   "source": []
  },
  {
   "cell_type": "markdown",
   "metadata": {},
   "source": [
    "### Calculating Standard Deviation\n",
    "Write a function `calculate_std_deviation` that calculates the standard deviation of the monthly anomalies.\n",
    "\n",
    "**Solution:**"
   ]
  },
  {
   "cell_type": "code",
   "execution_count": null,
   "metadata": {},
   "outputs": [],
   "source": []
  },
  {
   "cell_type": "markdown",
   "metadata": {},
   "source": [
    "### Normalizing Anomalies\n",
    "Write a function `normalize_anomalies` that normalizes the anomalies to a range of 0 to 1.\n",
    "\n",
    "**Solution:**"
   ]
  },
  {
   "cell_type": "code",
   "execution_count": null,
   "metadata": {},
   "outputs": [],
   "source": []
  },
  {
   "cell_type": "markdown",
   "metadata": {},
   "source": []
  }
 ],
 "metadata": {
  "kernelspec": {
   "display_name": "Python 3 (ipykernel)",
   "language": "python",
   "name": "python3"
  },
  "language_info": {
   "codemirror_mode": {
    "name": "ipython",
    "version": 3
   },
   "file_extension": ".py",
   "mimetype": "text/x-python",
   "name": "python",
   "nbconvert_exporter": "python",
   "pygments_lexer": "ipython3",
   "version": "3.12.7"
  }
 },
 "nbformat": 4,
 "nbformat_minor": 4
}
