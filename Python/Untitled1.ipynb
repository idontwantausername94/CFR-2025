{
 "cells": [
  {
   "cell_type": "code",
   "execution_count": 1,
   "id": "5e46131d-8f4c-4ab8-a457-f1b72c47fb64",
   "metadata": {},
   "outputs": [
    {
     "name": "stdout",
     "output_type": "stream",
     "text": [
      "5\n"
     ]
    }
   ],
   "source": [
    "n1 = 1\n",
    "n2 = 5\n",
    "n3 = 4\n",
    "\n",
    "Big = max(n1, n2, n3)\n",
    "print(Big)"
   ]
  },
  {
   "cell_type": "code",
   "execution_count": 3,
   "id": "2480ab73-9e9d-4e41-ba75-c38949de195f",
   "metadata": {},
   "outputs": [
    {
     "name": "stdout",
     "output_type": "stream",
     "text": [
      "1\n"
     ]
    }
   ],
   "source": [
    "n1 = 1\n",
    "n2 = -5\n",
    "n3 = 4\n",
    "\n",
    "little = min(n1, n2, n3)\n",
    "print(little)"
   ]
  },
  {
   "cell_type": "code",
   "execution_count": 4,
   "id": "b25989cd-ce40-4f12-99a8-2cf8f0decc48",
   "metadata": {},
   "outputs": [
    {
     "data": {
      "text/plain": [
       "4"
      ]
     },
     "execution_count": 4,
     "metadata": {},
     "output_type": "execute_result"
    }
   ],
   "source": [
    "abs(n3)"
   ]
  },
  {
   "cell_type": "code",
   "execution_count": 6,
   "id": "28b22be2-002f-4fd4-bdf1-a72d3b828ffd",
   "metadata": {},
   "outputs": [
    {
     "name": "stdout",
     "output_type": "stream",
     "text": [
      "5\n",
      "1\n"
     ]
    }
   ],
   "source": [
    "print(max(n1, n2, n3))\n",
    "print(min(n1, n2, n3))"
   ]
  },
  {
   "cell_type": "code",
   "execution_count": 9,
   "id": "7a146f1f-a60b-4d03-bb46-5ce920c88c47",
   "metadata": {},
   "outputs": [
    {
     "name": "stdout",
     "output_type": "stream",
     "text": [
      "5\n"
     ]
    }
   ],
   "source": [
    "a_n1 = abs(n1)\n",
    "a_n2 = abs(n2)\n",
    "a_n3 = abs(n3)\n",
    "\n",
    "print(max(a_n1, a_n2, a_n3))"
   ]
  },
  {
   "cell_type": "code",
   "execution_count": null,
   "id": "88f82767-162c-42bc-8fcd-99cdd14e7a2a",
   "metadata": {},
   "outputs": [],
   "source": [
    "def f(a, b):\n",
    "    x = 1\n",
    "    if a > 0:\n",
    "        if b < 0:\n",
    "            x = x + 5\n",
    "        elif a > 5:\n",
    "            x = x + 4\n",
    "        elif a > 10:\n",
    "            x = x + 3\n",
    "    else:\n",
    "        x = x + 2\n",
    "    return x\n",
    "\n",
    "f(5, 5)\n",
    "# x = 1\n",
    "f(0, -5)\n",
    "# x = 3"
   ]
  }
 ],
 "metadata": {
  "kernelspec": {
   "display_name": "Python 3 (ipykernel)",
   "language": "python",
   "name": "python3"
  },
  "language_info": {
   "codemirror_mode": {
    "name": "ipython",
    "version": 3
   },
   "file_extension": ".py",
   "mimetype": "text/x-python",
   "name": "python",
   "nbconvert_exporter": "python",
   "pygments_lexer": "ipython3",
   "version": "3.12.7"
  }
 },
 "nbformat": 4,
 "nbformat_minor": 5
}
