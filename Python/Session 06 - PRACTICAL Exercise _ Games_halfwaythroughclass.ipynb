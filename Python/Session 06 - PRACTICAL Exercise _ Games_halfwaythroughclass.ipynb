{
 "cells": [
  {
   "cell_type": "markdown",
   "metadata": {},
   "source": [
    "# Practical Exercise: Game time!\n",
    "\n",
    "### Scenario\n",
    "- You are opening a mini arcade and want to put together some fun games for your customers! :)\n",
    "\n",
    "### Objectives\n",
    "- Write some fun games that make use of your python knowledge. Practicing using:\n",
    "    - functions\n",
    "    - conditional statements\n",
    "    - loops\n",
    "    - numpy arrays\n",
    "- Learn how to generate random numbers!"
   ]
  },
  {
   "cell_type": "markdown",
   "metadata": {},
   "source": [
    "### Things to know:\n",
    "- The function `np.random.randint(a, b)` returns a random integer between `a` and `b`.\n",
    "- The function `np.random.choice(list)` returns a value randomly selected from `list`.\n",
    "- The function `input(prompt)` will ask the user for an answer to prompt and return the answer as a string.\n",
    "\n"
   ]
  },
  {
   "cell_type": "markdown",
   "metadata": {},
   "source": [
    "## Step 0: Function demo\n",
    "**Let's demo these new functions together!**"
   ]
  },
  {
   "cell_type": "code",
   "execution_count": 3,
   "metadata": {},
   "outputs": [],
   "source": [
    "# import numpy as always\n",
    "import numpy as np"
   ]
  },
  {
   "cell_type": "markdown",
   "metadata": {},
   "source": [
    "The `numpy` package includes a module to generate random numbers called `numpy.random`. There are several useful functions within the module including `np.random.randint()` and `np.random.choice()`.\n"
   ]
  },
  {
   "cell_type": "markdown",
   "metadata": {},
   "source": [
    "### `np.random.randint`\n",
    "`np.random.randint(a,b)` will return a random integer between the integers `a` and `b`. For example:"
   ]
  },
  {
   "cell_type": "code",
   "execution_count": 15,
   "metadata": {},
   "outputs": [
    {
     "data": {
      "text/plain": [
       "4"
      ]
     },
     "execution_count": 15,
     "metadata": {},
     "output_type": "execute_result"
    }
   ],
   "source": [
    "# print a random number between 0 and 5\n",
    "np.random.randint(0, 10)"
   ]
  },
  {
   "cell_type": "code",
   "execution_count": 22,
   "metadata": {},
   "outputs": [],
   "source": [
    "# we can store the random number in a variable too\n",
    "rand_num = np.random.randint(0, 10)"
   ]
  },
  {
   "cell_type": "code",
   "execution_count": 26,
   "metadata": {},
   "outputs": [
    {
     "data": {
      "text/plain": [
       "4"
      ]
     },
     "execution_count": 26,
     "metadata": {},
     "output_type": "execute_result"
    }
   ],
   "source": [
    "rand_num"
   ]
  },
  {
   "cell_type": "markdown",
   "metadata": {},
   "source": [
    "Try running the above cells more than once to see that you get different numbers!"
   ]
  },
  {
   "cell_type": "markdown",
   "metadata": {},
   "source": [
    "***Your turn:***\n",
    "Try to generate a random number between -5 and 20."
   ]
  },
  {
   "cell_type": "code",
   "execution_count": 36,
   "metadata": {},
   "outputs": [
    {
     "data": {
      "text/plain": [
       "-3"
      ]
     },
     "execution_count": 36,
     "metadata": {},
     "output_type": "execute_result"
    }
   ],
   "source": [
    "# print a random number between -5 and 20\n",
    "np.random.randint(-5, 21)"
   ]
  },
  {
   "cell_type": "markdown",
   "metadata": {},
   "source": [
    "### `np.random.choice`\n",
    "`np.random.choice(list)` will return a random item from `list`. Note that this works for lists and numpy arrays!"
   ]
  },
  {
   "cell_type": "code",
   "execution_count": 44,
   "metadata": {},
   "outputs": [
    {
     "data": {
      "text/plain": [
       "1"
      ]
     },
     "execution_count": 44,
     "metadata": {},
     "output_type": "execute_result"
    }
   ],
   "source": [
    "# You can feed it the list (or array) directly:\n",
    "np.random.choice([0,1,2,3,4])\n"
   ]
  },
  {
   "cell_type": "code",
   "execution_count": 49,
   "metadata": {},
   "outputs": [
    {
     "data": {
      "text/plain": [
       "'how are you?'"
      ]
     },
     "execution_count": 49,
     "metadata": {},
     "output_type": "execute_result"
    }
   ],
   "source": [
    "np.random.choice([\"hi\", \"hello\", \"how are you?\"])\n"
   ]
  },
  {
   "cell_type": "code",
   "execution_count": 4,
   "metadata": {},
   "outputs": [
    {
     "data": {
      "text/plain": [
       "'aloha'"
      ]
     },
     "execution_count": 4,
     "metadata": {},
     "output_type": "execute_result"
    }
   ],
   "source": [
    "# Or you can save it as a variable first and then feed it to the function:\n",
    "choices = [\"hi\", \"hello\", \"how are you?\", \"aloha\"]\n",
    "np.random.choice(choices)"
   ]
  },
  {
   "cell_type": "code",
   "execution_count": 5,
   "metadata": {},
   "outputs": [],
   "source": [
    "# And just like with the previous function, we can also store the output as a variable:\n",
    "\n",
    "r_c = np.random.choice(choices)"
   ]
  },
  {
   "cell_type": "code",
   "execution_count": 6,
   "metadata": {},
   "outputs": [
    {
     "name": "stdout",
     "output_type": "stream",
     "text": [
      "aloha\n"
     ]
    }
   ],
   "source": [
    "print(r_c)"
   ]
  },
  {
   "cell_type": "markdown",
   "metadata": {},
   "source": [
    "***Your turn:***\n",
    "Choose a random color from a list of choices."
   ]
  },
  {
   "cell_type": "code",
   "execution_count": 7,
   "metadata": {},
   "outputs": [
    {
     "name": "stdout",
     "output_type": "stream",
     "text": [
      "blue\n"
     ]
    }
   ],
   "source": [
    "# Choose a random color from a list of colors:\n",
    "choices = ['green', 'orange', 'blue', 'mauve']\n",
    "print(np.random.choice(choices))"
   ]
  },
  {
   "cell_type": "markdown",
   "metadata": {},
   "source": [
    "### `input`\n",
    "\n",
    "We'll also be using a built-in python function called `input`, which will prompt the user to enter text and store the text as a string."
   ]
  },
  {
   "cell_type": "code",
   "execution_count": 8,
   "metadata": {},
   "outputs": [
    {
     "name": "stdin",
     "output_type": "stream",
     "text": [
      "Enter a number:  50\n"
     ]
    },
    {
     "name": "stdout",
     "output_type": "stream",
     "text": [
      "50\n"
     ]
    }
   ],
   "source": [
    "# Ask the user for a number and print it:\n",
    "print(input(\"Enter a number: \"))"
   ]
  },
  {
   "cell_type": "code",
   "execution_count": 32,
   "metadata": {
    "scrolled": true
   },
   "outputs": [
    {
     "name": "stdin",
     "output_type": "stream",
     "text": [
      "Enter a number:  100\n"
     ]
    }
   ],
   "source": [
    "# Ask the user for a number, storethe answer as a variable, and print it:\n",
    "str_num1 = input(\"Enter a number: \")"
   ]
  },
  {
   "cell_type": "code",
   "execution_count": 33,
   "metadata": {},
   "outputs": [
    {
     "name": "stdout",
     "output_type": "stream",
     "text": [
      "100\n"
     ]
    }
   ],
   "source": [
    "print(str_num1)"
   ]
  },
  {
   "cell_type": "code",
   "execution_count": 34,
   "metadata": {},
   "outputs": [
    {
     "data": {
      "text/plain": [
       "str"
      ]
     },
     "execution_count": 34,
     "metadata": {},
     "output_type": "execute_result"
    }
   ],
   "source": [
    "type(str_num1)"
   ]
  },
  {
   "cell_type": "code",
   "execution_count": 35,
   "metadata": {},
   "outputs": [
    {
     "data": {
      "text/plain": [
       "100"
      ]
     },
     "execution_count": 35,
     "metadata": {},
     "output_type": "execute_result"
    }
   ],
   "source": [
    "abs(int(str_num1))"
   ]
  },
  {
   "cell_type": "code",
   "execution_count": 102,
   "metadata": {},
   "outputs": [
    {
     "name": "stdin",
     "output_type": "stream",
     "text": [
      "Enter a number:  500\n"
     ]
    }
   ],
   "source": [
    "# Remember that by default, the answer is stored as a *string*:\n",
    "answer = input(\"Enter a number: \")"
   ]
  },
  {
   "cell_type": "code",
   "execution_count": 36,
   "metadata": {},
   "outputs": [
    {
     "name": "stdout",
     "output_type": "stream",
     "text": [
      "<class 'str'>\n"
     ]
    }
   ],
   "source": [
    "print(type(str_num1))"
   ]
  },
  {
   "cell_type": "code",
   "execution_count": 104,
   "metadata": {},
   "outputs": [
    {
     "ename": "TypeError",
     "evalue": "can only concatenate str (not \"int\") to str",
     "output_type": "error",
     "traceback": [
      "\u001b[1;31m---------------------------------------------------------------------------\u001b[0m",
      "\u001b[1;31mTypeError\u001b[0m                                 Traceback (most recent call last)",
      "Cell \u001b[1;32mIn[104], line 1\u001b[0m\n\u001b[1;32m----> 1\u001b[0m answer\u001b[38;5;241m+\u001b[39m\u001b[38;5;241m20\u001b[39m\n",
      "\u001b[1;31mTypeError\u001b[0m: can only concatenate str (not \"int\") to str"
     ]
    }
   ],
   "source": [
    "answer+20"
   ]
  },
  {
   "cell_type": "code",
   "execution_count": 105,
   "metadata": {},
   "outputs": [
    {
     "name": "stdout",
     "output_type": "stream",
     "text": [
      "<class 'int'>\n"
     ]
    }
   ],
   "source": [
    "# We might want to convert it to an integer:\n",
    "answer = int(answer)\n",
    "print(type(answer))"
   ]
  },
  {
   "cell_type": "code",
   "execution_count": 106,
   "metadata": {},
   "outputs": [
    {
     "data": {
      "text/plain": [
       "520"
      ]
     },
     "execution_count": 106,
     "metadata": {},
     "output_type": "execute_result"
    }
   ],
   "source": [
    "answer+20"
   ]
  },
  {
   "cell_type": "markdown",
   "metadata": {},
   "source": [
    "***Your turn:*** Ask the user for their name and print the response."
   ]
  },
  {
   "cell_type": "code",
   "execution_count": 109,
   "metadata": {},
   "outputs": [
    {
     "name": "stdin",
     "output_type": "stream",
     "text": [
      "Enter your name:  Gabby\n"
     ]
    },
    {
     "name": "stdout",
     "output_type": "stream",
     "text": [
      "Hello Gabby!\n"
     ]
    }
   ],
   "source": [
    "# Ask the user for their name and print the response\n",
    "name = input('Enter your name: ')\n",
    "print(f'Hello {name}!')"
   ]
  },
  {
   "cell_type": "markdown",
   "metadata": {},
   "source": [
    "Great! Now we've learned some new `numpy` and `python` functions and we can use them to build some fun functions."
   ]
  },
  {
   "cell_type": "markdown",
   "metadata": {},
   "source": [
    "---"
   ]
  },
  {
   "cell_type": "markdown",
   "metadata": {},
   "source": [
    "## Step 1: What's for lunch? (*together*)"
   ]
  },
  {
   "cell_type": "markdown",
   "metadata": {},
   "source": [
    "\n",
    "Sometimes it's hard to choose what to eat for lunch and we might want a suggestion. Let's make a list of options and ask the computer to pick something for us!"
   ]
  },
  {
   "cell_type": "code",
   "execution_count": 119,
   "metadata": {},
   "outputs": [
    {
     "data": {
      "text/plain": [
       "'sandwich'"
      ]
     },
     "execution_count": 119,
     "metadata": {},
     "output_type": "execute_result"
    }
   ],
   "source": [
    "# Define a list of some lunch options\n",
    "lunch_options = ['sandwich', 'pizza', 'salad', 'tuna']\n",
    "#print(lunch_options)\n",
    "\n",
    "# Choose one!\n",
    "np.random.choice(lunch_options)"
   ]
  },
  {
   "cell_type": "markdown",
   "metadata": {},
   "source": [
    "For convenience, we can make this into a function:"
   ]
  },
  {
   "cell_type": "code",
   "execution_count": 129,
   "metadata": {},
   "outputs": [],
   "source": [
    "def what_should_i_eat():\n",
    "    \"\"\"Function to suggest a random lunch option from a predefined list.\"\"\"\n",
    "\n",
    "    # Define a list of lunch options\n",
    "    lunch_options = ['pizza', 'soup', 'sushi', 'dosa', '711']\n",
    "\n",
    "    # Choose a random lunch option\n",
    "    random_lunch = np.random.choice(lunch_options)\n",
    "\n",
    "    # Print the choice\n",
    "    print(f\"You should eat {random_lunch} for lunch today!\")"
   ]
  },
  {
   "cell_type": "code",
   "execution_count": 139,
   "metadata": {},
   "outputs": [
    {
     "name": "stdout",
     "output_type": "stream",
     "text": [
      "You should eat 711 for lunch today!\n"
     ]
    }
   ],
   "source": [
    "what_should_i_eat()"
   ]
  },
  {
   "cell_type": "markdown",
   "metadata": {},
   "source": [
    "Maybe we have two categories of foods, for days we want to eat meat and days we want to be vegeterian. We can make our function a little more complicated:"
   ]
  },
  {
   "cell_type": "code",
   "execution_count": 140,
   "metadata": {},
   "outputs": [],
   "source": [
    "def what_should_i_eat_vegeterian(vegeterian = False):\n",
    "    \"\"\"Function to suggest a random lunch option from a predefined list.\n",
    "    \n",
    "    input:\n",
    "    vegeterian: bool, if True, suggests only vegetarian options\n",
    "    \"\"\"\n",
    "    if vegeterian:\n",
    "        lunch_options = ['pizza', 'dosa', 'sushi', 'salad']\n",
    "    else:\n",
    "        lunch_options = ['chicken', 'hamburger', 'steak', 'turkey']\n",
    "\n",
    "    # Choose a random lunch option\n",
    "    random_lunch = np.random.choice(lunch_options)\n",
    "\n",
    "    # Print the choice\n",
    "    print(f\"You should eat {random_lunch} for lunch today! It's {'vegetarian' if vegeterian else 'not vegetarian'}.\")"
   ]
  },
  {
   "cell_type": "code",
   "execution_count": 152,
   "metadata": {},
   "outputs": [
    {
     "name": "stdout",
     "output_type": "stream",
     "text": [
      "You should eat chicken for lunch today! It's not vegetarian.\n"
     ]
    }
   ],
   "source": [
    "what_should_i_eat_vegeterian(vegeterian=False)"
   ]
  },
  {
   "cell_type": "markdown",
   "metadata": {},
   "source": [
    "We can also make a version that asks the user instead of requiring an arguement:"
   ]
  },
  {
   "cell_type": "code",
   "execution_count": 153,
   "metadata": {},
   "outputs": [],
   "source": [
    "def what_should_i_eat_vegeterian_user():\n",
    "    \"\"\"Function to suggest a random lunch option from a predefined list.\n",
    "    \n",
    "    input:\n",
    "    vegeterian: bool, if True, suggests only vegetarian options\n",
    "    \"\"\"\n",
    "\n",
    "    vegeterian = input(\"Do you want to be vegeterian today? (yes or no):\")\n",
    "\n",
    "    if vegeterian == \"yes\":\n",
    "        lunch_options = ['pizza', 'dosa', 'sushi', 'salad']\n",
    "    else:\n",
    "        lunch_options = ['chicken', 'hamburger', 'steak', 'turkey']\n",
    "\n",
    "    # Choose a random lunch option\n",
    "    random_lunch = np.random.choice(lunch_options)\n",
    "\n",
    "    # Print the choice\n",
    "    print(f\"You should eat {random_lunch} for lunch today! It's {'vegetarian' if vegeterian == 'yes' else 'not vegetarian'}.\")"
   ]
  },
  {
   "cell_type": "code",
   "execution_count": 160,
   "metadata": {},
   "outputs": [
    {
     "name": "stdin",
     "output_type": "stream",
     "text": [
      "Do you want to be vegeterian today? (yes or no): yes\n"
     ]
    },
    {
     "name": "stdout",
     "output_type": "stream",
     "text": [
      "You should eat dosa for lunch today! It's vegetarian.\n"
     ]
    }
   ],
   "source": [
    "what_should_i_eat_vegeterian_user()"
   ]
  },
  {
   "cell_type": "markdown",
   "metadata": {},
   "source": [
    "## Step 2: Magic eight ball (*your turn*)"
   ]
  },
  {
   "cell_type": "markdown",
   "metadata": {},
   "source": [
    "\n",
    "**Task**\n",
    "\n",
    "- Construct a magic 8 ball where the computer picks a random answer to your question.\n",
    "- To do this, you'll want to write a function `magic_eight_ball()` which will prompt the user for a question and return its answer.\n",
    "\n",
    "**Hints**\n",
    "\n",
    "- Think of the steps required to make the game happen. Try writing them out in words before you write them out in code!"
   ]
  },
  {
   "cell_type": "code",
   "execution_count": 85,
   "metadata": {},
   "outputs": [],
   "source": [
    "def magic_eight_ball():\n",
    "    input(\"Ask your question.\")\n",
    "    choices = [\n",
    "   \"\"\"your code here\"\"\""
   ]
  },
  {
   "cell_type": "code",
   "execution_count": null,
   "metadata": {},
   "outputs": [],
   "source": [
    "magic_eight_ball()"
   ]
  },
  {
   "cell_type": "markdown",
   "metadata": {},
   "source": [
    "## Step 3: Math quiz (*together*)\n"
   ]
  },
  {
   "cell_type": "markdown",
   "metadata": {},
   "source": [
    "A game for the nerds! Let's make a function to randomly generate a little math problem and quiz us. \n",
    "\n",
    "First let's play around with our random numbers outside of the function:"
   ]
  },
  {
   "cell_type": "code",
   "execution_count": null,
   "metadata": {},
   "outputs": [],
   "source": [
    "# Generate two random numbers\n",
    "num1 = \n",
    "num2 = \n",
    "\n",
    "# Print the sum of the two numbers as an equation\n"
   ]
  },
  {
   "cell_type": "markdown",
   "metadata": {},
   "source": [
    "Now let's make our function"
   ]
  },
  {
   "cell_type": "code",
   "execution_count": null,
   "metadata": {},
   "outputs": [],
   "source": [
    "def math_quiz():\n",
    "    \"\"\"Function to ask a simple math question and check the answer.\"\"\"\n",
    "    \n",
    "    # Generate two random numbers\n",
    "    num1 = \n",
    "    num2 = \n",
    "    \n",
    "    # Calculate the correct answer\n",
    "    correct_answer = \n",
    "    \n",
    "    # Ask the user for their answer\n",
    "    user_answer = \n",
    "    \n",
    "    # Check if the user's answer is correct\n",
    "\n"
   ]
  },
  {
   "cell_type": "code",
   "execution_count": null,
   "metadata": {},
   "outputs": [],
   "source": [
    "math_quiz()"
   ]
  },
  {
   "cell_type": "markdown",
   "metadata": {},
   "source": [
    "Maybe we want the user to keep guessing until they get it correct. For that, we can use `while` loop, which will keep repeating the same code until a specified condition is met. For example:"
   ]
  },
  {
   "cell_type": "code",
   "execution_count": null,
   "metadata": {},
   "outputs": [],
   "source": [
    "# Keep adding 1 to i and printing it until i is equal to 5\n",
    "i = 0\n",
    "while i < 5:\n",
    "    print(i)\n",
    "    i += 1\n",
    "print(\"Loop finished!\")"
   ]
  },
  {
   "cell_type": "code",
   "execution_count": null,
   "metadata": {},
   "outputs": [],
   "source": [
    "def math_quiz_loop():\n",
    "    \"\"\"Function to ask a simple math question and check the answer.\"\"\"\n",
    "    \n",
    "    # Generate two random numbers\n",
    "    num1 = np.random.randint(1, 10)\n",
    "    num2 = np.random.randint(1, 10)\n",
    "    \n",
    "    # Calculate the correct answer\n",
    "    correct_answer = num1 + num2\n",
    "\n",
    "    # Initialize our termination condition\n",
    "    user_correct = False\n",
    "\n",
    "    # keep asking the user until they get the answer right\n",
    "\n"
   ]
  },
  {
   "cell_type": "code",
   "execution_count": null,
   "metadata": {},
   "outputs": [],
   "source": [
    "math_quiz_loop()"
   ]
  },
  {
   "cell_type": "markdown",
   "metadata": {},
   "source": [
    "## Step 4: Guessing the number! (*your turn*)"
   ]
  },
  {
   "cell_type": "markdown",
   "metadata": {},
   "source": [
    "\n",
    "**Task**\n",
    "\n",
    "- Construct a game where the computer chooses a random number, and you (the player) try to guess the number. \n",
    "- To do this, you'll want to write a function `play_number_guessing_game()` which will prompt the user to guess until they pick the right number.\n",
    "\n",
    "**Hints**\n",
    "\n",
    "- Think of the steps required to make the game happen before you start coding. \n",
    "- Try to write smaller functions that take care of different tasks.\n",
    "    - You might want to write a function `check_guess(answer, guess)` that returns `True` if the guess is correct (`answer == guess`) and False otherwise. Maybe you want to tell the player if their number is too high or too low?\n",
    "\n",
    "**Things to consider**\n",
    "- Do you want your player to keep guessing forever until they get the number or have a finite number of chances?\n",
    "- Do you want the computer to give feedback on the guesses? \n",
    "- How hard do you want the game to be? "
   ]
  },
  {
   "cell_type": "code",
   "execution_count": null,
   "metadata": {},
   "outputs": [],
   "source": [
    "def check_guess(answer, guess):\n",
    "    \"\"\"Function to check if the user's guess is correct.\"\"\"\n",
    "\n",
    "\n",
    "def play_number_guessing_game():\n",
    "    \"\"\"Function to play a number guessing game.\"\"\"\n"
   ]
  },
  {
   "cell_type": "code",
   "execution_count": null,
   "metadata": {},
   "outputs": [],
   "source": [
    "play_number_guessing_game()"
   ]
  },
  {
   "cell_type": "markdown",
   "metadata": {},
   "source": [
    "# Bonus\n",
    "\n",
    "Here are some other things you can do that use only basic python like functions, loops, conditionals, and arrays. Feel free to give them a try from scratch, make some modifications to the provided solutions, or just play the games!"
   ]
  },
  {
   "cell_type": "markdown",
   "metadata": {},
   "source": [
    "## Step 5: Guess the word!\n",
    "\n",
    "**Task**\n",
    "- Construct a hangman-like game, where the computer thinks of a word and the user tries to guess the letters. \n",
    "- To do this, you'll want to write a function `play_word_guessing_game()` which will prompt the user to guess until they pick the right number.\n",
    "\n",
    "**Things to consider**\n",
    "- How many words do you want the computer to draw from? \n",
    "- How should the player be updated on their progress?\n",
    "- How many guess should the player have?\n",
    "- What should you do if a player guesses the same letter twice?"
   ]
  },
  {
   "cell_type": "code",
   "execution_count": null,
   "metadata": {},
   "outputs": [],
   "source": [
    "def play_word_guessing_game():\n",
    "    \"\"\"Function to play a word guessing game.\"\"\"\n",
    "\n"
   ]
  },
  {
   "cell_type": "code",
   "execution_count": null,
   "metadata": {},
   "outputs": [],
   "source": [
    "play_word_guessing_game()"
   ]
  },
  {
   "cell_type": "markdown",
   "metadata": {},
   "source": [
    "## Step 6: Tic-tac-toe\n",
    "\n",
    "**Task**\n",
    "- Construct a tic tac toe game, where the computer you and the computer place X's and O's until someone gets three in a row. \n",
    "- To do this, you'll want to write a function `play_tic_tac_toe()` which will print the board and prompt the player to choose a spot to play.\n",
    "\n",
    "**Things to consider**\n",
    "- How do you want to print the board?\n",
    "- What should happen if the player chooses a position that has already been played?\n",
    "- How should you check if someone has won the game?\n",
    "- Can you make a 2-player version?"
   ]
  },
  {
   "cell_type": "code",
   "execution_count": null,
   "metadata": {},
   "outputs": [],
   "source": [
    "def play_tic_tac_toe():\n",
    "    \"\"\"Function to play a Tic Tac Toe game.\"\"\"\n"
   ]
  },
  {
   "cell_type": "code",
   "execution_count": null,
   "metadata": {},
   "outputs": [],
   "source": [
    "play_tic_tac_toe()"
   ]
  },
  {
   "cell_type": "code",
   "execution_count": null,
   "metadata": {},
   "outputs": [],
   "source": []
  }
 ],
 "metadata": {
  "kernelspec": {
   "display_name": "Python 3 (ipykernel)",
   "language": "python",
   "name": "python3"
  },
  "language_info": {
   "codemirror_mode": {
    "name": "ipython",
    "version": 3
   },
   "file_extension": ".py",
   "mimetype": "text/x-python",
   "name": "python",
   "nbconvert_exporter": "python",
   "pygments_lexer": "ipython3",
   "version": "3.12.7"
  }
 },
 "nbformat": 4,
 "nbformat_minor": 4
}
