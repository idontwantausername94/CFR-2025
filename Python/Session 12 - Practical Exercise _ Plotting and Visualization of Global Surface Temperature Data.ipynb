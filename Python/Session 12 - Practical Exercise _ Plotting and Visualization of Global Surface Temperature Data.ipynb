{
 "cells": [
  {
   "cell_type": "markdown",
   "metadata": {},
   "source": [
    "# Practical: Plotting and Visualization of Global Surface Temperature Data\n",
    "\n",
    "## Introduction\n",
    "In this practical, we will use the monthly average of the Earth’s surface temperature data from Jan 1850 to Dec 2023. We will explore various plotting techniques using Pandas and Matplotlib to analyze the data and extract meaningful insights.\n",
    "\n",
    "## Objectives\n",
    "- Plot the entire temperature record with meaningful labels and correct units.\n",
    "- Visualize the seasonal cycle by plotting the last 5 years of the record.\n",
    "- Create a bar chart showing average temperatures from three different 20-year periods.\n",
    "- Calculate and plot the average temperature for each year.\n",
    "\n",
    "## Prerequisites\n",
    "- Knowledge of Python: functions, variables, lists, conditionals, loops, arrays.\n",
    "- Basic understanding of Pandas and Matplotlib.\n",
    "\n",
    "**Estimated Time: 1.5 hours**\n",
    "\n",
    "## Background:\n",
    "This dataset is the monthly average of the Earth’s surface (land and ocean/sea ice) temperature from Jan 1850 to Dec 2023 produced by Berkeley Earth. This record charts Earth’s unprecedented warming over the past century and is used extensively in international governmental reports to shape climate policies and ground truth climate model output.\n",
    "\n",
    "If you simply plot the time series, however, it will be challenging to discern the steady warming signal by eye. What you’ll notice is a record with a lot of wiggles, or what might be characterized as ‘noise’ when the signal of interest is Earth’s warming trend. Those persistent ups and downs in the signal are due to the asymmetry in the distribution of land between Earth’s two hemispheres, with the Northern hemisphere having more land cover than the Southern hemisphere. Given the same incoming solar radiation, the surface temperature of land will warm more than if that area is ocean. This asymmetry, in combination with the annual changes in incoming solar radiation due to the tilt of Earth’s axis (seasons!), means that the monthly average temperature of the Earth also changes over the year. This is called a seasonal cycle. The seasonal cycle of the global average surface temperature of the Earth follows the Northern Hemisphere, warmest in July and coldest in January. This seasonal cycle is a natural cycle for Earth’s climate due to Earth’s rotation around the sun, the tilt of Earth’s axis, and the distribution of land over the surface of the Earth. \n",
    "\n",
    "In climate science, there are lots of different natural cycles that imprint on observed quantities like the average global surface temperature or the average amount of carbon dioxide in the atmosphere. Scientists often quantify these natural cycles by calculating what are called climatologies. A climatology is simply an average of a natural cycle of a quantity taken over a period of time that is understood to be representative of that natural cycle. Sometimes that period is described as the baseline. To calculate the seasonal climatology for Earth’s monthly global average surface temperature, you would average all the January’s in the record to find the climatological January, and then average all the February’s in the record, and so on. The end result is a typical (average) year in global average surface temperature on Earth. The period of time to include in this calculation will depend on your scientific interests and questions.\n",
    "\n",
    "While these natural cycles are interesting, researchers are most interested in the way the climate system deviates from this natural cycle. The deviations of a quantity from its average cycle (climatology) is called an anomaly. Anomalies are very interesting. They tell us how a particular data point compares to other data points which should be very similar to it because of the presence of natural cycles. It’s the way we know if this June is hot compared to all the other previous June’s in our records. This is how we quantify exactly how much our Earth has warmed in the past century.\n",
    "\n",
    "## Step 1: Importing Required Libraries\n",
    "\n",
    "### Task\n",
    "Before we start, let's import Pandas and Matplotlib. These libraries are essential for data manipulation and visualization.\n",
    "\n",
    "### Hints\n",
    "- Use `import pandas as pd` to import Pandas.\n",
    "- Use `import matplotlib.pyplot as plt` to import Matplotlib's plotting module."
   ]
  },
  {
   "cell_type": "code",
   "execution_count": null,
   "metadata": {},
   "outputs": [],
   "source": []
  },
  {
   "cell_type": "markdown",
   "metadata": {},
   "source": [
    "## Step 2: Loading and Preparing the Data\n",
    "\n",
    "### Task\n",
    "Load the data into a Pandas DataFrame and display the first few rows to understand its structure.\n",
    "\n",
    "### Hints\n",
    "- Use `pd.read_csv` to load the dataset.\n",
    "- Use `df.head()` to display the first few rows of the DataFrame."
   ]
  },
  {
   "cell_type": "code",
   "execution_count": null,
   "metadata": {},
   "outputs": [],
   "source": []
  },
  {
   "cell_type": "markdown",
   "metadata": {},
   "source": [
    "## Step 3: Plotting the Entire Temperature Record\n",
    "\n",
    "### Task\n",
    "Plot the entire temperature record from 1850 to 2023.\n",
    "\n",
    "### Hints\n",
    "- Convert the 'Year' and 'Month' columns to a datetime object. \n",
    "    - `pd.to_datetime` may come in handy.\n",
    "- Use `plt.plot` to create the plot.\n",
    "- Label the axes and add a title."
   ]
  },
  {
   "cell_type": "code",
   "execution_count": null,
   "metadata": {},
   "outputs": [],
   "source": []
  },
  {
   "cell_type": "markdown",
   "metadata": {},
   "source": [
    "## Step 4: Plotting the Last 5 Years to See the Seasonal Cycle\n",
    "\n",
    "### Task\n",
    "Filter the data for the last 5 years and plot the temperature record to observe the seasonal cycle.\n",
    "\n",
    "### Hints\n",
    "- Use boolean indexing to filter the DataFrame for the years 2018 to 2023.\n",
    "- Plot the filtered DataFrame using `plt.plot`.\n"
   ]
  },
  {
   "cell_type": "code",
   "execution_count": null,
   "metadata": {},
   "outputs": [],
   "source": []
  },
  {
   "cell_type": "markdown",
   "metadata": {},
   "source": [
    "## Step 5: Creating a Bar Chart for Average Temperatures of Different 20-Year Periods\n",
    "\n",
    "### Task\n",
    "Calculate and plot the average temperature for three different 20-year periods.\n",
    "\n",
    "### Hints\n",
    "- Choose three 20-year periods (e.g., 1850-1869, 1950-1969, 2000-2019).\n",
    "- Use boolean indexing to filter the DataFrame for each period.\n",
    "- Use `df.mean()` to calculate the average temperature for each period.\n",
    "- Use `plt.bar` to create the bar chart."
   ]
  },
  {
   "cell_type": "code",
   "execution_count": null,
   "metadata": {},
   "outputs": [],
   "source": []
  },
  {
   "cell_type": "markdown",
   "metadata": {},
   "source": [
    "## Step 6: Calculating and Plotting Yearly Average Temperature\n",
    "\n",
    "### Task\n",
    "Calculate the yearly average temperature and plot it.\n",
    "\n",
    "### Hints\n",
    "- Use `groupby` to group the data by year.\n",
    "- Calculate the weighted average temperature for each year, considering the number of days in each month.\n",
    "    - `df['Date'].dt.days_in_month` will return the number of days in each month\n",
    "    - you might need to write a function to apply to your grouped data frame!\n",
    "- Plot the yearly average temperatures using `plt.plot`."
   ]
  },
  {
   "cell_type": "code",
   "execution_count": null,
   "metadata": {},
   "outputs": [],
   "source": []
  },
  {
   "cell_type": "markdown",
   "metadata": {},
   "source": [
    "## Step 7: Calculating and Plotting Temperature Anomalies\n",
    "\n",
    "### Task\n",
    "Calculate the seasonal climatology for the period 1951-1980, and then remove it from the entire record to get anomalies. Plot the anomalies.\n",
    "\n",
    "### Hints\n",
    "- Filter the data for the baseline period (1951-1980).\n",
    "- Use `groupby` to calculate the average temperature for each month.\n",
    "- Subtract the monthly average (climatology) from the corresponding months in the entire record.\n",
    "- Plot the anomalies using `plt.plot`."
   ]
  },
  {
   "cell_type": "code",
   "execution_count": null,
   "metadata": {},
   "outputs": [],
   "source": []
  }
 ],
 "metadata": {
  "kernelspec": {
   "display_name": "desi",
   "language": "python",
   "name": "python3"
  },
  "language_info": {
   "codemirror_mode": {
    "name": "ipython",
    "version": 3
   },
   "file_extension": ".py",
   "mimetype": "text/x-python",
   "name": "python",
   "nbconvert_exporter": "python",
   "pygments_lexer": "ipython3",
   "version": "3.13.0"
  }
 },
 "nbformat": 4,
 "nbformat_minor": 2
}
