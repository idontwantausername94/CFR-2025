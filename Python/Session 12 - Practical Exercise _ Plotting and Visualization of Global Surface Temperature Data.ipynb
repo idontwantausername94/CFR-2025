{
 "cells": [
  {
   "cell_type": "markdown",
   "metadata": {},
   "source": [
    "# Practical: Plotting and Visualization of Global Surface Temperature Data\n",
    "\n",
    "## Introduction\n",
    "In this practical, we will use the monthly average of the Earth’s surface temperature data from Jan 1850 to Dec 2023. We will explore various plotting techniques using Pandas and Matplotlib to analyze the data and extract meaningful insights.\n",
    "\n",
    "## Objectives\n",
    "- Plot the entire temperature record with meaningful labels and correct units.\n",
    "- Visualize the seasonal cycle by plotting the last 5 years of the record.\n",
    "- Create a bar chart showing average temperatures from three different 20-year periods.\n",
    "- Calculate and plot the average temperature for each year.\n",
    "\n",
    "## Prerequisites\n",
    "- Knowledge of Python: functions, variables, lists, conditionals, loops, arrays.\n",
    "- Basic understanding of Pandas and Matplotlib.\n",
    "\n",
    "**Estimated Time: 1.5 hours**\n",
    "\n",
    "## Background:\n",
    "This dataset is the monthly average of the Earth’s surface (land and ocean/sea ice) temperature from Jan 1850 to Dec 2023 produced by Berkeley Earth. This record charts Earth’s unprecedented warming over the past century and is used extensively in international governmental reports to shape climate policies and ground truth climate model output.\n",
    "\n",
    "If you simply plot the time series, however, it will be challenging to discern the steady warming signal by eye. What you’ll notice is a record with a lot of wiggles, or what might be characterized as ‘noise’ when the signal of interest is Earth’s warming trend. Those persistent ups and downs in the signal are due to the asymmetry in the distribution of land between Earth’s two hemispheres, with the Northern hemisphere having more land cover than the Southern hemisphere. Given the same incoming solar radiation, the surface temperature of land will warm more than if that area is ocean. This asymmetry, in combination with the annual changes in incoming solar radiation due to the tilt of Earth’s axis (seasons!), means that the monthly average temperature of the Earth also changes over the year. This is called a seasonal cycle. The seasonal cycle of the global average surface temperature of the Earth follows the Northern Hemisphere, warmest in July and coldest in January. This seasonal cycle is a natural cycle for Earth’s climate due to Earth’s rotation around the sun, the tilt of Earth’s axis, and the distribution of land over the surface of the Earth. \n",
    "\n",
    "In climate science, there are lots of different natural cycles that imprint on observed quantities like the average global surface temperature or the average amount of carbon dioxide in the atmosphere. Scientists often quantify these natural cycles by calculating what are called climatologies. A climatology is simply an average of a natural cycle of a quantity taken over a period of time that is understood to be representative of that natural cycle. Sometimes that period is described as the baseline. To calculate the seasonal climatology for Earth’s monthly global average surface temperature, you would average all the January’s in the record to find the climatological January, and then average all the February’s in the record, and so on. The end result is a typical (average) year in global average surface temperature on Earth. The period of time to include in this calculation will depend on your scientific interests and questions.\n",
    "\n",
    "While these natural cycles are interesting, researchers are most interested in the way the climate system deviates from this natural cycle. The deviations of a quantity from its average cycle (climatology) is called an anomaly. Anomalies are very interesting. They tell us how a particular data point compares to other data points which should be very similar to it because of the presence of natural cycles. It’s the way we know if this June is hot compared to all the other previous June’s in our records. This is how we quantify exactly how much our Earth has warmed in the past century.\n",
    "\n",
    "## Step 1: Importing Required Libraries\n",
    "\n",
    "### Task\n",
    "Before we start, let's import Pandas and Matplotlib. These libraries are essential for data manipulation and visualization.\n",
    "\n",
    "### Hints\n",
    "- Use `import pandas as pd` to import Pandas.\n",
    "- Use `import matplotlib.pyplot as plt` to import Matplotlib's plotting module."
   ]
  },
  {
   "cell_type": "code",
   "execution_count": 2,
   "metadata": {},
   "outputs": [],
   "source": [
    "import pandas as pd\n",
    "import matplotlib.pyplot as plt"
   ]
  },
  {
   "cell_type": "markdown",
   "metadata": {},
   "source": [
    "## Step 2: Loading and Preparing the Data\n",
    "\n",
    "### Task\n",
    "Load the data into a Pandas DataFrame and display the first few rows to understand its structure.\n",
    "\n",
    "### Hints\n",
    "- Use `pd.read_csv` to load the dataset.\n",
    "- Use `df.head()` to display the first few rows of the DataFrame."
   ]
  },
  {
   "cell_type": "code",
   "execution_count": 10,
   "metadata": {},
   "outputs": [
    {
     "data": {
      "text/plain": [
       "'C:\\\\Users\\\\hs0018\\\\Documents\\\\GitHub\\\\CFR-2025\\\\Python'"
      ]
     },
     "execution_count": 10,
     "metadata": {},
     "output_type": "execute_result"
    }
   ],
   "source": [
    "pwd"
   ]
  },
  {
   "cell_type": "code",
   "execution_count": 11,
   "metadata": {},
   "outputs": [
    {
     "name": "stdout",
     "output_type": "stream",
     "text": [
      " Volume in drive C has no label.\n",
      " Volume Serial Number is AEB3-CFD3\n",
      "\n",
      " Directory of C:\\Users\\hs0018\\Documents\\GitHub\\CFR-2025\\Python\n",
      "\n",
      "06/18/2025  09:45 AM    <DIR>          .\n",
      "06/16/2025  01:36 PM    <DIR>          ..\n",
      "06/18/2025  09:39 AM    <DIR>          .ipynb_checkpoints\n",
      "06/16/2025  04:17 PM                86 data_tech_order.csv\n",
      "06/13/2025  10:52 AM             3,349 Functions_pt2.ipynb\n",
      "06/09/2025  09:52 AM            49,807 GAST_BerkeleyEarth_1850-2023.csv\n",
      "06/11/2025  09:51 AM             3,488 Ifs-supplement.ipynb\n",
      "06/11/2025  09:26 AM            19,779 if-while-bonus.jpeg\n",
      "06/10/2025  10:58 AM         2,064,763 Python Session 01.pptx\n",
      "06/10/2025  10:58 AM             8,098 Session 01 - Getting Started with Python.ipynb\n",
      "06/16/2025  01:36 PM            38,319 Session 06 - PRACTICAL Exercise _ Games SOLUTIONS.ipynb\n",
      "06/16/2025  01:36 PM            29,588 Session 06 - PRACTICAL Exercise _ Games.ipynb\n",
      "06/16/2025  09:14 AM            25,333 Session 06 - PRACTICAL Exercise _ Games_halfwaythroughclass.ipynb\n",
      "06/16/2025  01:36 PM           394,067 Session 08 - Plotting data and visualization SOLUTIONS.ipynb\n",
      "06/18/2025  09:34 AM           246,288 Session 08 - Plotting data and visualization.ipynb\n",
      "06/16/2025  01:36 PM           193,821 Session 08 - Plotting data and visualization_instructor-copy.ipynb\n",
      "06/18/2025  09:34 AM            27,047 Session 09 - Intro to pandas.ipynb\n",
      "06/18/2025  09:34 AM           390,946 Session 10 - Plotting and Visualization of DataFrames SOLUTIONS.ipynb\n",
      "06/18/2025  09:31 AM           244,077 Session 10 - Plotting and Visualization of DataFrames.ipynb\n",
      "06/18/2025  09:34 AM           200,918 Session 10 - Plotting and Visualization of DataFrames_instructor-copy.ipynb\n",
      "06/09/2025  09:52 AM            10,293 Session 11 - Loops and Conditionals.ipynb\n",
      "06/18/2025  09:45 AM            18,059 Session 12 - Practical Exercise _ Plotting and Visualization of Global Surface Temperature Data.ipynb\n",
      "06/09/2025  09:52 AM            10,335 Session 13 - Loops and Conditionals.ipynb\n",
      "06/11/2025  09:26 AM            10,731 Session 2 - Variables Solutions.ipynb\n",
      "06/12/2025  09:03 AM             3,755 Session 2 - Variables.ipynb\n",
      "06/11/2025  09:26 AM            10,812 Session 3 - Ifs Solutions.ipynb\n",
      "06/13/2025  10:13 AM             6,635 Session 3 - Ifs.ipynb\n",
      "06/13/2025  10:12 AM             7,083 Session 4 - Functions Solutions.ipynb\n",
      "06/13/2025  10:13 AM             4,531 Session 4 - Functions.ipynb\n",
      "06/13/2025  10:51 AM            14,017 Session 5 - Numpy - Solutions.ipynb\n",
      "06/13/2025  10:52 AM            10,061 Session 5 - Numpy.ipynb\n",
      "06/13/2025  10:12 AM             3,440 Session 5 - Numpy-Demo.ipynb\n",
      "06/17/2025  11:13 AM            20,658 session_10_W\n",
      "06/17/2025  11:30 AM            20,624 session_10_W.csv\n",
      "06/11/2025  01:59 PM                72 Untitled.ipynb\n",
      "06/12/2025  09:58 AM             2,829 Untitled1.ipynb\n",
      "06/16/2025  09:14 AM             1,067 Untitled2.ipynb\n",
      "06/16/2025  01:29 PM             1,269 Untitled3.ipynb\n",
      "06/16/2025  11:50 AM             2,396 W_annotated_plot.png\n",
      "              36 File(s)      4,098,441 bytes\n",
      "               3 Dir(s)  1,913,349,464,064 bytes free\n"
     ]
    }
   ],
   "source": [
    "ls"
   ]
  },
  {
   "cell_type": "code",
   "execution_count": 24,
   "metadata": {},
   "outputs": [
    {
     "data": {
      "text/html": [
       "<div>\n",
       "<style scoped>\n",
       "    .dataframe tbody tr th:only-of-type {\n",
       "        vertical-align: middle;\n",
       "    }\n",
       "\n",
       "    .dataframe tbody tr th {\n",
       "        vertical-align: top;\n",
       "    }\n",
       "\n",
       "    .dataframe thead th {\n",
       "        text-align: right;\n",
       "    }\n",
       "</style>\n",
       "<table border=\"1\" class=\"dataframe\">\n",
       "  <thead>\n",
       "    <tr style=\"text-align: right;\">\n",
       "      <th></th>\n",
       "      <th>Year</th>\n",
       "      <th>Month</th>\n",
       "      <th>Monthly Average</th>\n",
       "      <th>Monthly Anomaly Uncertainty</th>\n",
       "    </tr>\n",
       "  </thead>\n",
       "  <tbody>\n",
       "    <tr>\n",
       "      <th>0</th>\n",
       "      <td>1850</td>\n",
       "      <td>1</td>\n",
       "      <td>11.440</td>\n",
       "      <td>0.404</td>\n",
       "    </tr>\n",
       "    <tr>\n",
       "      <th>1</th>\n",
       "      <td>1850</td>\n",
       "      <td>2</td>\n",
       "      <td>12.197</td>\n",
       "      <td>0.524</td>\n",
       "    </tr>\n",
       "    <tr>\n",
       "      <th>2</th>\n",
       "      <td>1850</td>\n",
       "      <td>3</td>\n",
       "      <td>12.666</td>\n",
       "      <td>0.449</td>\n",
       "    </tr>\n",
       "    <tr>\n",
       "      <th>3</th>\n",
       "      <td>1850</td>\n",
       "      <td>4</td>\n",
       "      <td>13.345</td>\n",
       "      <td>0.304</td>\n",
       "    </tr>\n",
       "    <tr>\n",
       "      <th>4</th>\n",
       "      <td>1850</td>\n",
       "      <td>5</td>\n",
       "      <td>14.288</td>\n",
       "      <td>0.249</td>\n",
       "    </tr>\n",
       "  </tbody>\n",
       "</table>\n",
       "</div>"
      ],
      "text/plain": [
       "   Year  Month  Monthly Average  Monthly Anomaly Uncertainty\n",
       "0  1850      1           11.440                        0.404\n",
       "1  1850      2           12.197                        0.524\n",
       "2  1850      3           12.666                        0.449\n",
       "3  1850      4           13.345                        0.304\n",
       "4  1850      5           14.288                        0.249"
      ]
     },
     "execution_count": 24,
     "metadata": {},
     "output_type": "execute_result"
    }
   ],
   "source": [
    "df1 = pd.read_csv(\"GAST_BerkeleyEarth_1850-2023.csv\")\n",
    "# use \" ls \" to list everything in your current directory/subdirectory. This makes copying and pasting easier.\n",
    "df1.head()"
   ]
  },
  {
   "cell_type": "markdown",
   "metadata": {},
   "source": [
    "## Step 3: Plotting the Entire Temperature Record\n",
    "\n",
    "### Task\n",
    "Plot the entire temperature record from 1850 to 2023.\n",
    "\n",
    "### Hints\n",
    "- Convert the 'Year' and 'Month' columns to a datetime object. \n",
    "    - `pd.to_datetime` may come in handy.\n",
    "- Use `plt.plot` to create the plot.\n",
    "- Label the axes and add a title."
   ]
  },
  {
   "cell_type": "code",
   "execution_count": 25,
   "metadata": {},
   "outputs": [
    {
     "data": {
      "text/html": [
       "<div>\n",
       "<style scoped>\n",
       "    .dataframe tbody tr th:only-of-type {\n",
       "        vertical-align: middle;\n",
       "    }\n",
       "\n",
       "    .dataframe tbody tr th {\n",
       "        vertical-align: top;\n",
       "    }\n",
       "\n",
       "    .dataframe thead th {\n",
       "        text-align: right;\n",
       "    }\n",
       "</style>\n",
       "<table border=\"1\" class=\"dataframe\">\n",
       "  <thead>\n",
       "    <tr style=\"text-align: right;\">\n",
       "      <th></th>\n",
       "      <th>Year</th>\n",
       "      <th>Month</th>\n",
       "      <th>Monthly Average</th>\n",
       "      <th>Monthly Anomaly Uncertainty</th>\n",
       "      <th>Day</th>\n",
       "      <th>Date</th>\n",
       "    </tr>\n",
       "  </thead>\n",
       "  <tbody>\n",
       "    <tr>\n",
       "      <th>0</th>\n",
       "      <td>1850</td>\n",
       "      <td>1</td>\n",
       "      <td>11.440</td>\n",
       "      <td>0.404</td>\n",
       "      <td>1</td>\n",
       "      <td>1850-01-01</td>\n",
       "    </tr>\n",
       "    <tr>\n",
       "      <th>1</th>\n",
       "      <td>1850</td>\n",
       "      <td>2</td>\n",
       "      <td>12.197</td>\n",
       "      <td>0.524</td>\n",
       "      <td>1</td>\n",
       "      <td>1850-02-01</td>\n",
       "    </tr>\n",
       "    <tr>\n",
       "      <th>2</th>\n",
       "      <td>1850</td>\n",
       "      <td>3</td>\n",
       "      <td>12.666</td>\n",
       "      <td>0.449</td>\n",
       "      <td>1</td>\n",
       "      <td>1850-03-01</td>\n",
       "    </tr>\n",
       "    <tr>\n",
       "      <th>3</th>\n",
       "      <td>1850</td>\n",
       "      <td>4</td>\n",
       "      <td>13.345</td>\n",
       "      <td>0.304</td>\n",
       "      <td>1</td>\n",
       "      <td>1850-04-01</td>\n",
       "    </tr>\n",
       "    <tr>\n",
       "      <th>4</th>\n",
       "      <td>1850</td>\n",
       "      <td>5</td>\n",
       "      <td>14.288</td>\n",
       "      <td>0.249</td>\n",
       "      <td>1</td>\n",
       "      <td>1850-05-01</td>\n",
       "    </tr>\n",
       "  </tbody>\n",
       "</table>\n",
       "</div>"
      ],
      "text/plain": [
       "   Year  Month  Monthly Average  Monthly Anomaly Uncertainty  Day       Date\n",
       "0  1850      1           11.440                        0.404    1 1850-01-01\n",
       "1  1850      2           12.197                        0.524    1 1850-02-01\n",
       "2  1850      3           12.666                        0.449    1 1850-03-01\n",
       "3  1850      4           13.345                        0.304    1 1850-04-01\n",
       "4  1850      5           14.288                        0.249    1 1850-05-01"
      ]
     },
     "execution_count": 25,
     "metadata": {},
     "output_type": "execute_result"
    }
   ],
   "source": [
    "df1[\"Day\"] = 1\n",
    "df1[\"Date\"] = pd.to_datetime(df1[[\"Year\", \"Month\", \"Day\"]])\n",
    "df1.head()"
   ]
  },
  {
   "cell_type": "markdown",
   "metadata": {},
   "source": [
    "## Step 4: Plotting the Last 5 Years to See the Seasonal Cycle\n",
    "\n",
    "### Task\n",
    "Filter the data for the last 5 years and plot the temperature record to observe the seasonal cycle.\n",
    "\n",
    "### Hints\n",
    "- Use boolean indexing to filter the DataFrame for the years 2018 to 2023.\n",
    "- Plot the filtered DataFrame using `plt.plot`.\n"
   ]
  },
  {
   "cell_type": "code",
   "execution_count": 48,
   "metadata": {},
   "outputs": [
    {
     "name": "stdout",
     "output_type": "stream",
     "text": [
      "      Year  Month  Monthly Average  Monthly Anomaly Uncertainty  Day  \\\n",
      "2016  2018      1           13.109                        0.036    1   \n",
      "2017  2018      2           13.361                        0.042    1   \n",
      "2018  2018      3           13.986                        0.041    1   \n",
      "2019  2018      4           14.963                        0.039    1   \n",
      "2020  2018      5           15.797                        0.036    1   \n",
      "...    ...    ...              ...                          ...  ...   \n",
      "2083  2023      8           17.092                        0.047    1   \n",
      "2084  2023      9           16.736                        0.040    1   \n",
      "2085  2023     10           15.644                        0.046    1   \n",
      "2086  2023     11           14.642                        0.050    1   \n",
      "2087  2023     12           13.929                        0.045    1   \n",
      "\n",
      "           Date  \n",
      "2016 2018-01-01  \n",
      "2017 2018-02-01  \n",
      "2018 2018-03-01  \n",
      "2019 2018-04-01  \n",
      "2020 2018-05-01  \n",
      "...         ...  \n",
      "2083 2023-08-01  \n",
      "2084 2023-09-01  \n",
      "2085 2023-10-01  \n",
      "2086 2023-11-01  \n",
      "2087 2023-12-01  \n",
      "\n",
      "[72 rows x 6 columns]\n",
      "\n"
     ]
    },
    {
     "data": {
      "text/plain": [
       "Text(0, 0.5, 'Average Montly Temp')"
      ]
     },
     "execution_count": 48,
     "metadata": {},
     "output_type": "execute_result"
    },
    {
     "data": {
      "image/png": "[encoded data removed]",
      "text/plain": [
       "<Figure size 640x480 with 1 Axes>"
      ]
     },
     "metadata": {},
     "output_type": "display_data"
    }
   ],
   "source": [
    "# df1_winter_months = df1[df1[\"Month\"]<=3]\n",
    "df1_2018_2023 = df1[df1[\"Year\"]>=2018]\n",
    "print(df1_2018_2023)\n",
    "print()\n",
    "\n",
    "plt.plot(df1_2018_2023[\"Date\"], df1_2018_2023[\"Monthly Average\"])\n",
    "plt.xlabel(\"Year\")\n",
    "plt.ylabel(\"Average Montly Temp\")"
   ]
  },
  {
   "cell_type": "markdown",
   "metadata": {},
   "source": [
    "## Step 5: Creating a Bar Chart for Average Temperatures of Different 20-Year Periods\n",
    "\n",
    "### Task\n",
    "Calculate and plot the average temperature for three different 20-year periods.\n",
    "\n",
    "### Hints\n",
    "- Choose three 20-year periods (e.g., 1850-1869, 1950-1969, 2000-2019).\n",
    "- Use boolean indexing to filter the DataFrame for each period.\n",
    "- Use `df.mean()` to calculate the average temperature for each period.\n",
    "- Use `plt.bar` to create the bar chart."
   ]
  },
  {
   "cell_type": "code",
   "execution_count": 60,
   "metadata": {},
   "outputs": [
    {
     "name": "stdout",
     "output_type": "stream",
     "text": [
      "\n",
      "\n"
     ]
    },
    {
     "data": {
      "text/plain": [
       "Text(0, 0.5, 'Average Temp')"
      ]
     },
     "execution_count": 60,
     "metadata": {},
     "output_type": "execute_result"
    },
    {
     "data": {
      "image/png": "[encoded data removed]",
      "text/plain": [
       "<Figure size 640x480 with 1 Axes>"
      ]
     },
     "metadata": {},
     "output_type": "display_data"
    }
   ],
   "source": [
    "df1_1980_2000 = df1[(df1[\"Year\"]>=1980)& (df1[\"Year\"]<=1999)]\n",
    "\n",
    "print()\n",
    "\n",
    "MEAN_df1_1980_2000 = df1_1980_2000[\"Monthly Average\"].mean()\n",
    "\n",
    "print()\n",
    "\n",
    "plt.bar(\"test\", MEAN_df1_1980_2000)\n",
    "plt.title(\"1980 - 2000\")\n",
    "plt.xlabel(\"Year\")\n",
    "plt.ylabel(\"Average Temp\")"
   ]
  },
  {
   "cell_type": "code",
   "execution_count": 55,
   "metadata": {},
   "outputs": [
    {
     "name": "stdout",
     "output_type": "stream",
     "text": [
      "     Year  Month  Monthly Average  Monthly Anomaly Uncertainty  Day       Date\n",
      "0    1850      1           11.440                        0.404    1 1850-01-01\n",
      "1    1850      2           12.197                        0.524    1 1850-02-01\n",
      "2    1850      3           12.666                        0.449    1 1850-03-01\n",
      "3    1850      4           13.345                        0.304    1 1850-04-01\n",
      "4    1850      5           14.288                        0.249    1 1850-05-01\n",
      "..    ...    ...              ...                          ...  ...        ...\n",
      "247  1870      8           15.490                        0.205    1 1870-08-01\n",
      "248  1870      9           14.981                        0.186    1 1870-09-01\n",
      "249  1870     10           13.913                        0.194    1 1870-10-01\n",
      "250  1870     11           12.893                        0.252    1 1870-11-01\n",
      "251  1870     12           11.903                        0.254    1 1870-12-01\n",
      "\n",
      "[252 rows x 6 columns]\n",
      "\n"
     ]
    },
    {
     "data": {
      "text/plain": [
       "Text(0, 0.5, 'Average Montly Temp')"
      ]
     },
     "execution_count": 55,
     "metadata": {},
     "output_type": "execute_result"
    },
    {
     "data": {
      "image/png": "[encoded data removed]",
      "text/plain": [
       "<Figure size 640x480 with 1 Axes>"
      ]
     },
     "metadata": {},
     "output_type": "display_data"
    }
   ],
   "source": [
    "df1_1850_1870 = df1[df1[\"Year\"]<=1870]\n",
    "print(df1_1850_1870)\n",
    "print()\n",
    "plt.bar(df1_1850_1870[\"Date\"], df1_1850_1870[\"Monthly Average\"])\n",
    "plt.xlabel(\"Year\")\n",
    "plt.ylabel(\"Average Montly Temp\")\n",
    "1850"
   ]
  },
  {
   "cell_type": "code",
   "execution_count": null,
   "metadata": {},
   "outputs": [],
   "source": [
    "df1_1980_2000 = df1[(df1[\"Year\"]>=1980)& (df1[\"Year\"]<=1999)]\n",
    "\n",
    "print()\n",
    "\n",
    "MEAN_df1_1980_2000 = df1_1980_2000[\"Monthly Average\"].mean()\n",
    "\n",
    "print()\n",
    "\n",
    "plt.bar(\"test\", MEAN_df1_1980_2000)\n",
    "plt.title(\"1980 - 2000\")\n",
    "plt.xlabel(\"Year\")\n",
    "plt.ylabel(\"Average Temp\")"
   ]
  },
  {
   "cell_type": "markdown",
   "metadata": {},
   "source": [
    "## Step 6: Calculating and Plotting Yearly Average Temperature\n",
    "\n",
    "### Task\n",
    "Calculate the yearly average temperature and plot it.\n",
    "\n",
    "### Hints\n",
    "- Use `groupby` to group the data by year.\n",
    "- Calculate the weighted average temperature for each year, considering the number of days in each month.\n",
    "    - `df['Date'].dt.days_in_month` will return the number of days in each month\n",
    "    - you might need to write a function to apply to your grouped data frame!\n",
    "- Plot the yearly average temperatures using `plt.plot`."
   ]
  },
  {
   "cell_type": "code",
   "execution_count": null,
   "metadata": {},
   "outputs": [],
   "source": []
  },
  {
   "cell_type": "markdown",
   "metadata": {},
   "source": [
    "## Step 7: Calculating and Plotting Temperature Anomalies\n",
    "\n",
    "### Task\n",
    "Calculate the seasonal climatology for the period 1951-1980, and then remove it from the entire record to get anomalies. Plot the anomalies.\n",
    "\n",
    "### Hints\n",
    "- Filter the data for the baseline period (1951-1980).\n",
    "- Use `groupby` to calculate the average temperature for each month.\n",
    "- Subtract the monthly average (climatology) from the corresponding months in the entire record.\n",
    "- Plot the anomalies using `plt.plot`."
   ]
  },
  {
   "cell_type": "code",
   "execution_count": null,
   "metadata": {},
   "outputs": [],
   "source": []
  }
 ],
 "metadata": {
  "kernelspec": {
   "display_name": "Python 3 (ipykernel)",
   "language": "python",
   "name": "python3"
  },
  "language_info": {
   "codemirror_mode": {
    "name": "ipython",
    "version": 3
   },
   "file_extension": ".py",
   "mimetype": "text/x-python",
   "name": "python",
   "nbconvert_exporter": "python",
   "pygments_lexer": "ipython3",
   "version": "3.12.7"
  }
 },
 "nbformat": 4,
 "nbformat_minor": 4
}
