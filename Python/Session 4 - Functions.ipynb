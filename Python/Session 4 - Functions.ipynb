{
 "cells": [
  {
   "cell_type": "markdown",
   "metadata": {},
   "source": [
    "# Session 4: Functions\n"
   ]
  },
  {
   "cell_type": "markdown",
   "metadata": {},
   "source": [
    "## Part 1: Introduction to Functions "
   ]
  },
  {
   "cell_type": "markdown",
   "metadata": {},
   "source": [
    "### Example: Calculating Area of a Rectangle (do together)"
   ]
  },
  {
   "cell_type": "code",
   "execution_count": 2,
   "metadata": {},
   "outputs": [
    {
     "name": "stdout",
     "output_type": "stream",
     "text": [
      "8\n"
     ]
    }
   ],
   "source": [
    "l = 2\n",
    "w = 4\n",
    "x = 5\n",
    "y = 7\n",
    "area = l * w\n",
    "\n",
    "def rec(length, width):\n",
    "    area = length * width\n",
    "    return area\n",
    "\n",
    "area = rec(l, w)\n",
    "print(area)\n"
   ]
  },
  {
   "cell_type": "markdown",
   "metadata": {},
   "source": [
    "### Problem 1: Celsius to Fahrenheit Converter\n",
    "Write a function `celsius_to_fahrenheit` that converts Celsius to Fahrenheit.\n",
    "Formula: \n",
    "$F = C \\times \\frac{9}{5} + 32$\n",
    "\n",
    "#### Solution:\n"
   ]
  },
  {
   "cell_type": "markdown",
   "metadata": {},
   "source": [
    "### Problem 2: Calculate Average\n",
    "Write a function `average` that takes three numbers and returns the average.\n",
    "\n",
    "#### Solution:\n"
   ]
  },
  {
   "cell_type": "code",
   "execution_count": 12,
   "metadata": {},
   "outputs": [
    {
     "name": "stdout",
     "output_type": "stream",
     "text": [
      "95.0\n"
     ]
    }
   ],
   "source": [
    "def c_to_f(c):\n",
    "    f = c * 9/5 + 32\n",
    "    return f\n",
    "    \n",
    "c = 35\n",
    "\n",
    "c_f = c_to_f(c)\n",
    "print(c_f)"
   ]
  },
  {
   "cell_type": "code",
   "execution_count": null,
   "metadata": {},
   "outputs": [],
   "source": []
  },
  {
   "cell_type": "markdown",
   "metadata": {},
   "source": [
    "### Problem 3: Max of two numbers\n",
    "Write a function that takes two numbers and return the larger of them.\n",
    "\n",
    "#### Solution:"
   ]
  },
  {
   "cell_type": "code",
   "execution_count": 7,
   "metadata": {},
   "outputs": [
    {
     "name": "stdout",
     "output_type": "stream",
     "text": [
      "3\n"
     ]
    }
   ],
   "source": [
    "def max_of_2(a, b):\n",
    "    if a > b:\n",
    "        result = a\n",
    "    else:\n",
    "        result = b\n",
    "    return result \n",
    "\n",
    "x = 1\n",
    "y = 3\n",
    "\n",
    "Big = max_of_2(x, y)\n",
    "print(Big)"
   ]
  },
  {
   "cell_type": "markdown",
   "metadata": {},
   "source": [
    "## Part 4: Function Scope and Best Practices (30 minutes)"
   ]
  },
  {
   "cell_type": "markdown",
   "metadata": {},
   "source": [
    "## Problem 4: Convert and compare temperatures\n",
    "Write code that takes two variables, `temp_in_celsius` and `temp_in_fahrenheit`, and tells you which one is hotter.\n",
    "\n",
    "Hint: You can use the functions you defined earlier.\n",
    "\n",
    "### Solution:"
   ]
  },
  {
   "cell_type": "code",
   "execution_count": null,
   "metadata": {},
   "outputs": [],
   "source": []
  },
  {
   "cell_type": "markdown",
   "metadata": {},
   "source": [
    "## Conclusion and Q&A (10 minutes)\n",
    "- Review the key concepts covered: defining functions, parameters, return values, scope, and best practices.\n",
    "- Encourage practice and experimentation.\n",
    "- Open the floor for any questions and further clarifications.\n"
   ]
  },
  {
   "cell_type": "markdown",
   "metadata": {},
   "source": []
  }
 ],
 "metadata": {
  "kernelspec": {
   "display_name": "Python 3 (ipykernel)",
   "language": "python",
   "name": "python3"
  },
  "language_info": {
   "codemirror_mode": {
    "name": "ipython",
    "version": 3
   },
   "file_extension": ".py",
   "mimetype": "text/x-python",
   "name": "python",
   "nbconvert_exporter": "python",
   "pygments_lexer": "ipython3",
   "version": "3.12.7"
  }
 },
 "nbformat": 4,
 "nbformat_minor": 4
}
