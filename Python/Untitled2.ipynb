{
 "cells": [
  {
   "cell_type": "code",
   "execution_count": 7,
   "id": "c1c3da36-1e42-441f-9296-f59aad8e5b34",
   "metadata": {},
   "outputs": [],
   "source": [
    "def count_up():\n",
    "    x1 = 2\n",
    "    x2 = 1\n",
    "   \n",
    "    \n",
    "\n",
    "    while x1 != 9 && x2 != 9:\n",
    "        x1 = x1 + 1\n",
    "        x2 = x2 + 1\n",
    "    return ()\n",
    "    "
   ]
  },
  {
   "cell_type": "code",
   "execution_count": null,
   "id": "5aa3f3d9-47c4-4765-9737-a92e6378b029",
   "metadata": {},
   "outputs": [],
   "source": []
  }
 ],
 "metadata": {
  "kernelspec": {
   "display_name": "Python 3 (ipykernel)",
   "language": "python",
   "name": "python3"
  },
  "language_info": {
   "codemirror_mode": {
    "name": "ipython",
    "version": 3
   },
   "file_extension": ".py",
   "mimetype": "text/x-python",
   "name": "python",
   "nbconvert_exporter": "python",
   "pygments_lexer": "ipython3",
   "version": "3.12.7"
  }
 },
 "nbformat": 4,
 "nbformat_minor": 5
}
