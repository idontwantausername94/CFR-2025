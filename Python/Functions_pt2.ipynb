{
 "cells": [
  {
   "cell_type": "markdown",
   "id": "34634210-aafb-4961-97e7-12eb67453c5d",
   "metadata": {},
   "source": [
    "# Functions Part 2"
   ]
  },
  {
   "cell_type": "markdown",
   "id": "339fcaec-473f-40c2-92c2-2791ee7289df",
   "metadata": {},
   "source": [
    "## Built-in Functions\n",
    "\n",
    "* `max(n1, n2, n3, ...)` returns the largest of n values\n",
    "* `min(n1, n2, n3, ...)`returns the smallest of n values\n",
    "* `abs(n)` returns the absolute value of a number"
   ]
  },
  {
   "cell_type": "markdown",
   "id": "e046fd5e-c56d-4b16-97ba-05050b81d4d6",
   "metadata": {},
   "source": [
    "## Problem 1: Find max and min\n",
    "Define and assign numbers to three variables `n1`, `n2`, and `n3`. Use the `max` and `min` functions to find the largest and smallest of the 3 numbers."
   ]
  },
  {
   "cell_type": "code",
   "execution_count": null,
   "id": "5ce1962c-c8f0-4a30-872a-bbb5f933815f",
   "metadata": {},
   "outputs": [],
   "source": []
  },
  {
   "cell_type": "markdown",
   "id": "e65e658f-1103-45d4-af36-c52fefba3b93",
   "metadata": {},
   "source": [
    "## Problem 2: Compare magnitudes\n",
    "Do the same thing as Problem 1, except now, use the `abs` function to first take the absolute value function first."
   ]
  },
  {
   "cell_type": "code",
   "execution_count": null,
   "id": "fd9311d2-7773-4e32-a8a0-fa313452738d",
   "metadata": {},
   "outputs": [],
   "source": []
  },
  {
   "cell_type": "markdown",
   "id": "36543796-1f3b-472f-80f7-c95205863b49",
   "metadata": {},
   "source": [
    "## Problem 3: Whiteboard Problem (DO NOT RUN!)\n",
    "\n",
    "```\n",
    "def f(a, b):\n",
    "    x = 1    \n",
    "    if a > 0:\n",
    "        if b < 0:\n",
    "            x = x + 5\n",
    "        elif a > 5:\n",
    "            x = x + 4\n",
    "        elif a > 10:\n",
    "            x = x + 3\n",
    "    else:\n",
    "        x = x + 2\n",
    "    return x) \n",
    "```\n",
    "\n",
    "What will f(5,5) return?\n",
    "What will f(0,-5) return?\n"
   ]
  },
  {
   "cell_type": "code",
   "execution_count": null,
   "id": "32f26097-bacd-4460-bb14-d124f8e71798",
   "metadata": {},
   "outputs": [],
   "source": []
  }
 ],
 "metadata": {
  "kernelspec": {
   "display_name": "Python 3 (ipykernel)",
   "language": "python",
   "name": "python3"
  },
  "language_info": {
   "codemirror_mode": {
    "name": "ipython",
    "version": 3
   },
   "file_extension": ".py",
   "mimetype": "text/x-python",
   "name": "python",
   "nbconvert_exporter": "python",
   "pygments_lexer": "ipython3",
   "version": "3.11.7"
  }
 },
 "nbformat": 4,
 "nbformat_minor": 5
}
