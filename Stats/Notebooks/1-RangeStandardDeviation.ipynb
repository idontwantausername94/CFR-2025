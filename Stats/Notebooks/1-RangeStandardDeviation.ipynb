{
 "cells": [
  {
   "cell_type": "markdown",
   "id": "9020e3db",
   "metadata": {},
   "source": [
    "# 1 - Introduction to Statistics: Distributions, Range, Standard Deviation, and Confidence Intervals"
   ]
  },
  {
   "cell_type": "markdown",
   "id": "16970ff9",
   "metadata": {},
   "source": [
    "## 1. Measures of Central Variance (Range, Standard Deviation)"
   ]
  },
  {
   "cell_type": "markdown",
   "id": "e38b6cb7",
   "metadata": {},
   "source": [
    "First, let's import the libraries we'll need:"
   ]
  },
  {
   "cell_type": "code",
   "execution_count": 6,
   "id": "6ffd645f",
   "metadata": {},
   "outputs": [],
   "source": [
    "import numpy as np\n",
    "import matplotlib.pyplot as plt\n",
    "from scipy import stats\n",
    "import pandas as pd"
   ]
  },
  {
   "cell_type": "markdown",
   "id": "51d902ed",
   "metadata": {},
   "source": [
    "## 1. Range\n",
    "\n",
    "The range is the difference in maximum and minimum values in a dataset. It gives us a rough estimate about the spread of the data. \n",
    "\n",
    "# $R = \\rm{max} - \\rm{min}$"
   ]
  },
  {
   "cell_type": "markdown",
   "id": "1790f750",
   "metadata": {},
   "source": [
    "Here we import our dataset for NBA player stats in the 2021-2022 regular season. We list some important information, including a sample of the data so that we get a sense of what we are dealing with, and all of the column names"
   ]
  },
  {
   "cell_type": "code",
   "execution_count": 7,
   "id": "f19db1d0",
   "metadata": {},
   "outputs": [
    {
     "name": "stdout",
     "output_type": "stream",
     "text": [
      "['Rk' 'Player' 'Pos' 'Age' 'Tm' 'G' 'GS' 'MP' 'FG' 'FGA' 'FG%' '3P' '3PA'\n",
      " '3P%' '2P' '2PA' '2P%' 'eFG%' 'FT' 'FTA' 'FT%' 'ORB' 'DRB' 'TRB' 'AST'\n",
      " 'STL' 'BLK' 'TOV' 'PF' 'PTS'] 30\n"
     ]
    },
    {
     "data": {
      "text/html": [
       "<div>\n",
       "<style scoped>\n",
       "    .dataframe tbody tr th:only-of-type {\n",
       "        vertical-align: middle;\n",
       "    }\n",
       "\n",
       "    .dataframe tbody tr th {\n",
       "        vertical-align: top;\n",
       "    }\n",
       "\n",
       "    .dataframe thead th {\n",
       "        text-align: right;\n",
       "    }\n",
       "</style>\n",
       "<table border=\"1\" class=\"dataframe\">\n",
       "  <thead>\n",
       "    <tr style=\"text-align: right;\">\n",
       "      <th></th>\n",
       "      <th>Rk</th>\n",
       "      <th>Player</th>\n",
       "      <th>Pos</th>\n",
       "      <th>Age</th>\n",
       "      <th>Tm</th>\n",
       "      <th>G</th>\n",
       "      <th>GS</th>\n",
       "      <th>MP</th>\n",
       "      <th>FG</th>\n",
       "      <th>FGA</th>\n",
       "      <th>...</th>\n",
       "      <th>FT%</th>\n",
       "      <th>ORB</th>\n",
       "      <th>DRB</th>\n",
       "      <th>TRB</th>\n",
       "      <th>AST</th>\n",
       "      <th>STL</th>\n",
       "      <th>BLK</th>\n",
       "      <th>TOV</th>\n",
       "      <th>PF</th>\n",
       "      <th>PTS</th>\n",
       "    </tr>\n",
       "  </thead>\n",
       "  <tbody>\n",
       "    <tr>\n",
       "      <th>0</th>\n",
       "      <td>1</td>\n",
       "      <td>Precious Achiuwa</td>\n",
       "      <td>C</td>\n",
       "      <td>22</td>\n",
       "      <td>TOR</td>\n",
       "      <td>73</td>\n",
       "      <td>28</td>\n",
       "      <td>23.6</td>\n",
       "      <td>3.6</td>\n",
       "      <td>8.3</td>\n",
       "      <td>...</td>\n",
       "      <td>0.595</td>\n",
       "      <td>2.0</td>\n",
       "      <td>4.5</td>\n",
       "      <td>6.5</td>\n",
       "      <td>1.1</td>\n",
       "      <td>0.5</td>\n",
       "      <td>0.6</td>\n",
       "      <td>1.2</td>\n",
       "      <td>2.1</td>\n",
       "      <td>9.1</td>\n",
       "    </tr>\n",
       "    <tr>\n",
       "      <th>1</th>\n",
       "      <td>2</td>\n",
       "      <td>Steven Adams</td>\n",
       "      <td>C</td>\n",
       "      <td>28</td>\n",
       "      <td>MEM</td>\n",
       "      <td>76</td>\n",
       "      <td>75</td>\n",
       "      <td>26.3</td>\n",
       "      <td>2.8</td>\n",
       "      <td>5.1</td>\n",
       "      <td>...</td>\n",
       "      <td>0.543</td>\n",
       "      <td>4.6</td>\n",
       "      <td>5.4</td>\n",
       "      <td>10.0</td>\n",
       "      <td>3.4</td>\n",
       "      <td>0.9</td>\n",
       "      <td>0.8</td>\n",
       "      <td>1.5</td>\n",
       "      <td>2.0</td>\n",
       "      <td>6.9</td>\n",
       "    </tr>\n",
       "    <tr>\n",
       "      <th>2</th>\n",
       "      <td>3</td>\n",
       "      <td>Bam Adebayo</td>\n",
       "      <td>C</td>\n",
       "      <td>24</td>\n",
       "      <td>MIA</td>\n",
       "      <td>56</td>\n",
       "      <td>56</td>\n",
       "      <td>32.6</td>\n",
       "      <td>7.3</td>\n",
       "      <td>13.0</td>\n",
       "      <td>...</td>\n",
       "      <td>0.753</td>\n",
       "      <td>2.4</td>\n",
       "      <td>7.6</td>\n",
       "      <td>10.1</td>\n",
       "      <td>3.4</td>\n",
       "      <td>1.4</td>\n",
       "      <td>0.8</td>\n",
       "      <td>2.6</td>\n",
       "      <td>3.1</td>\n",
       "      <td>19.1</td>\n",
       "    </tr>\n",
       "    <tr>\n",
       "      <th>3</th>\n",
       "      <td>4</td>\n",
       "      <td>Santi Aldama</td>\n",
       "      <td>PF</td>\n",
       "      <td>21</td>\n",
       "      <td>MEM</td>\n",
       "      <td>32</td>\n",
       "      <td>0</td>\n",
       "      <td>11.3</td>\n",
       "      <td>1.7</td>\n",
       "      <td>4.1</td>\n",
       "      <td>...</td>\n",
       "      <td>0.625</td>\n",
       "      <td>1.0</td>\n",
       "      <td>1.7</td>\n",
       "      <td>2.7</td>\n",
       "      <td>0.7</td>\n",
       "      <td>0.2</td>\n",
       "      <td>0.3</td>\n",
       "      <td>0.5</td>\n",
       "      <td>1.1</td>\n",
       "      <td>4.1</td>\n",
       "    </tr>\n",
       "    <tr>\n",
       "      <th>4</th>\n",
       "      <td>5</td>\n",
       "      <td>LaMarcus Aldridge</td>\n",
       "      <td>C</td>\n",
       "      <td>36</td>\n",
       "      <td>BRK</td>\n",
       "      <td>47</td>\n",
       "      <td>12</td>\n",
       "      <td>22.3</td>\n",
       "      <td>5.4</td>\n",
       "      <td>9.7</td>\n",
       "      <td>...</td>\n",
       "      <td>0.873</td>\n",
       "      <td>1.6</td>\n",
       "      <td>3.9</td>\n",
       "      <td>5.5</td>\n",
       "      <td>0.9</td>\n",
       "      <td>0.3</td>\n",
       "      <td>1.0</td>\n",
       "      <td>0.9</td>\n",
       "      <td>1.7</td>\n",
       "      <td>12.9</td>\n",
       "    </tr>\n",
       "    <tr>\n",
       "      <th>...</th>\n",
       "      <td>...</td>\n",
       "      <td>...</td>\n",
       "      <td>...</td>\n",
       "      <td>...</td>\n",
       "      <td>...</td>\n",
       "      <td>...</td>\n",
       "      <td>...</td>\n",
       "      <td>...</td>\n",
       "      <td>...</td>\n",
       "      <td>...</td>\n",
       "      <td>...</td>\n",
       "      <td>...</td>\n",
       "      <td>...</td>\n",
       "      <td>...</td>\n",
       "      <td>...</td>\n",
       "      <td>...</td>\n",
       "      <td>...</td>\n",
       "      <td>...</td>\n",
       "      <td>...</td>\n",
       "      <td>...</td>\n",
       "      <td>...</td>\n",
       "    </tr>\n",
       "    <tr>\n",
       "      <th>807</th>\n",
       "      <td>601</td>\n",
       "      <td>Thaddeus Young</td>\n",
       "      <td>PF</td>\n",
       "      <td>33</td>\n",
       "      <td>TOR</td>\n",
       "      <td>26</td>\n",
       "      <td>0</td>\n",
       "      <td>18.3</td>\n",
       "      <td>2.6</td>\n",
       "      <td>5.5</td>\n",
       "      <td>...</td>\n",
       "      <td>0.481</td>\n",
       "      <td>1.5</td>\n",
       "      <td>2.9</td>\n",
       "      <td>4.4</td>\n",
       "      <td>1.7</td>\n",
       "      <td>1.2</td>\n",
       "      <td>0.4</td>\n",
       "      <td>0.8</td>\n",
       "      <td>1.7</td>\n",
       "      <td>6.3</td>\n",
       "    </tr>\n",
       "    <tr>\n",
       "      <th>808</th>\n",
       "      <td>602</td>\n",
       "      <td>Trae Young</td>\n",
       "      <td>PG</td>\n",
       "      <td>23</td>\n",
       "      <td>ATL</td>\n",
       "      <td>76</td>\n",
       "      <td>76</td>\n",
       "      <td>34.9</td>\n",
       "      <td>9.4</td>\n",
       "      <td>20.3</td>\n",
       "      <td>...</td>\n",
       "      <td>0.904</td>\n",
       "      <td>0.7</td>\n",
       "      <td>3.1</td>\n",
       "      <td>3.7</td>\n",
       "      <td>9.7</td>\n",
       "      <td>0.9</td>\n",
       "      <td>0.1</td>\n",
       "      <td>4.0</td>\n",
       "      <td>1.7</td>\n",
       "      <td>28.4</td>\n",
       "    </tr>\n",
       "    <tr>\n",
       "      <th>809</th>\n",
       "      <td>603</td>\n",
       "      <td>Omer Yurtseven</td>\n",
       "      <td>C</td>\n",
       "      <td>23</td>\n",
       "      <td>MIA</td>\n",
       "      <td>56</td>\n",
       "      <td>12</td>\n",
       "      <td>12.6</td>\n",
       "      <td>2.3</td>\n",
       "      <td>4.4</td>\n",
       "      <td>...</td>\n",
       "      <td>0.623</td>\n",
       "      <td>1.5</td>\n",
       "      <td>3.7</td>\n",
       "      <td>5.3</td>\n",
       "      <td>0.9</td>\n",
       "      <td>0.3</td>\n",
       "      <td>0.4</td>\n",
       "      <td>0.7</td>\n",
       "      <td>1.5</td>\n",
       "      <td>5.3</td>\n",
       "    </tr>\n",
       "    <tr>\n",
       "      <th>810</th>\n",
       "      <td>604</td>\n",
       "      <td>Cody Zeller</td>\n",
       "      <td>C</td>\n",
       "      <td>29</td>\n",
       "      <td>POR</td>\n",
       "      <td>27</td>\n",
       "      <td>0</td>\n",
       "      <td>13.1</td>\n",
       "      <td>1.9</td>\n",
       "      <td>3.3</td>\n",
       "      <td>...</td>\n",
       "      <td>0.776</td>\n",
       "      <td>1.9</td>\n",
       "      <td>2.8</td>\n",
       "      <td>4.6</td>\n",
       "      <td>0.8</td>\n",
       "      <td>0.3</td>\n",
       "      <td>0.2</td>\n",
       "      <td>0.7</td>\n",
       "      <td>2.1</td>\n",
       "      <td>5.2</td>\n",
       "    </tr>\n",
       "    <tr>\n",
       "      <th>811</th>\n",
       "      <td>605</td>\n",
       "      <td>Ivica Zubac</td>\n",
       "      <td>C</td>\n",
       "      <td>24</td>\n",
       "      <td>LAC</td>\n",
       "      <td>76</td>\n",
       "      <td>76</td>\n",
       "      <td>24.4</td>\n",
       "      <td>4.1</td>\n",
       "      <td>6.5</td>\n",
       "      <td>...</td>\n",
       "      <td>0.727</td>\n",
       "      <td>2.9</td>\n",
       "      <td>5.6</td>\n",
       "      <td>8.5</td>\n",
       "      <td>1.6</td>\n",
       "      <td>0.5</td>\n",
       "      <td>1.0</td>\n",
       "      <td>1.5</td>\n",
       "      <td>2.7</td>\n",
       "      <td>10.3</td>\n",
       "    </tr>\n",
       "  </tbody>\n",
       "</table>\n",
       "<p>812 rows × 30 columns</p>\n",
       "</div>"
      ],
      "text/plain": [
       "      Rk             Player Pos  Age   Tm   G  GS    MP   FG   FGA  ...  \\\n",
       "0      1   Precious Achiuwa   C   22  TOR  73  28  23.6  3.6   8.3  ...   \n",
       "1      2       Steven Adams   C   28  MEM  76  75  26.3  2.8   5.1  ...   \n",
       "2      3        Bam Adebayo   C   24  MIA  56  56  32.6  7.3  13.0  ...   \n",
       "3      4       Santi Aldama  PF   21  MEM  32   0  11.3  1.7   4.1  ...   \n",
       "4      5  LaMarcus Aldridge   C   36  BRK  47  12  22.3  5.4   9.7  ...   \n",
       "..   ...                ...  ..  ...  ...  ..  ..   ...  ...   ...  ...   \n",
       "807  601     Thaddeus Young  PF   33  TOR  26   0  18.3  2.6   5.5  ...   \n",
       "808  602         Trae Young  PG   23  ATL  76  76  34.9  9.4  20.3  ...   \n",
       "809  603     Omer Yurtseven   C   23  MIA  56  12  12.6  2.3   4.4  ...   \n",
       "810  604        Cody Zeller   C   29  POR  27   0  13.1  1.9   3.3  ...   \n",
       "811  605        Ivica Zubac   C   24  LAC  76  76  24.4  4.1   6.5  ...   \n",
       "\n",
       "       FT%  ORB  DRB   TRB  AST  STL  BLK  TOV   PF   PTS  \n",
       "0    0.595  2.0  4.5   6.5  1.1  0.5  0.6  1.2  2.1   9.1  \n",
       "1    0.543  4.6  5.4  10.0  3.4  0.9  0.8  1.5  2.0   6.9  \n",
       "2    0.753  2.4  7.6  10.1  3.4  1.4  0.8  2.6  3.1  19.1  \n",
       "3    0.625  1.0  1.7   2.7  0.7  0.2  0.3  0.5  1.1   4.1  \n",
       "4    0.873  1.6  3.9   5.5  0.9  0.3  1.0  0.9  1.7  12.9  \n",
       "..     ...  ...  ...   ...  ...  ...  ...  ...  ...   ...  \n",
       "807  0.481  1.5  2.9   4.4  1.7  1.2  0.4  0.8  1.7   6.3  \n",
       "808  0.904  0.7  3.1   3.7  9.7  0.9  0.1  4.0  1.7  28.4  \n",
       "809  0.623  1.5  3.7   5.3  0.9  0.3  0.4  0.7  1.5   5.3  \n",
       "810  0.776  1.9  2.8   4.6  0.8  0.3  0.2  0.7  2.1   5.2  \n",
       "811  0.727  2.9  5.6   8.5  1.6  0.5  1.0  1.5  2.7  10.3  \n",
       "\n",
       "[812 rows x 30 columns]"
      ]
     },
     "metadata": {},
     "output_type": "display_data"
    }
   ],
   "source": [
    "NBA_regular_2021 = pd.read_csv('../Data/NBA_2021-2022_stats_Regular.csv', engine='python', delimiter=';', encoding='latin-1')\n",
    "\n",
    "print(np.asarray(NBA_regular_2021.columns), len(NBA_regular_2021.columns))\n",
    "\n",
    "display(NBA_regular_2021)"
   ]
  },
  {
   "cell_type": "markdown",
   "id": "fc0e18dd",
   "metadata": {},
   "source": [
    "### column meanings\n",
    "\n",
    "In case you're not very familiar with NBA stats, here are the meanings of each column:\n",
    "\n",
    "#### Rk: ID\n",
    "#### Player: player name\n",
    "#### Pos: position\n",
    "#### Age: player age\n",
    "#### Tm: team\n",
    "#### G: games\n",
    "#### GS: games started\n",
    "#### MP: minutes played\n",
    "#### FG: field goals made - the combined total number of two-point and three-point baskets scored by a player or team (not the same as points scored)\n",
    "#### FGA: field goals attempted\n",
    "#### FG%: field goal percentage\n",
    "#### 3P: 3-pointers made - the total number of 3-point shots made\n",
    "#### 3PA: 3-pointers attempted\n",
    "#### 3P%: 3-point percentage\n",
    "#### 2P: 2-pointers made - the total number of 2-point shots made\n",
    "#### 2PA: 2-pointers attempted\n",
    "#### 2P%: 2-point percentage\n",
    "#### eFG%: effective Field Goal Percentage; the formula is (FG + 0.5 * 3P) / FGA. This statistic adjusts for the fact that a 3-point field goal is worth one more point than a 2-point field goal.\n",
    "#### FT: free-throws made - the total number of free-throws made\n",
    "#### FTA: free-throws attempted\n",
    "#### FT%: free-throw precentage\n",
    "#### ORB: offensive rebounds - the total number of rebounds collected by a player or team while playing offense\n",
    "#### DRB: defensive rebounds - the total number of rebounds collected by a player or team while playing defense\n",
    "#### TRB: total rebounds\n",
    "#### AST: assists\n",
    "#### STL: steals\n",
    "#### BLK: blocks\n",
    "#### TOV: turnovers (losing the ball to the other team before making a shot)\n",
    "#### PF: personal fouls - the total number of personal fouls commited by the player\n",
    "#### PTS: points scored"
   ]
  },
  {
   "cell_type": "markdown",
   "id": "6bd682b3",
   "metadata": {},
   "source": [
    "### Example: Find the range of ages in NBA players"
   ]
  },
  {
   "cell_type": "code",
   "execution_count": 8,
   "id": "632dd994",
   "metadata": {},
   "outputs": [
    {
     "name": "stdout",
     "output_type": "stream",
     "text": [
      "Range of Ages of NBA players (2021):  22\n"
     ]
    }
   ],
   "source": [
    "MaxAge=np.max(NBA_regular_2021['Age'])\n",
    "MinAge=np.min(NBA_regular_2021['Age'])\n",
    "\n",
    "AgeRange = MaxAge - MinAge\n",
    "\n",
    "print(\"Range of Ages of NBA players (2021): \", AgeRange)"
   ]
  },
  {
   "cell_type": "markdown",
   "id": "167c2978",
   "metadata": {},
   "source": [
    "### Example: Find the player with the max and min ages"
   ]
  },
  {
   "cell_type": "markdown",
   "id": "64544e8d",
   "metadata": {},
   "source": [
    "You can also find the player with the lowest and highest Age for this season using the pandas `.idxmin()` and `.idxmax()` functions along with the `.loc` function which locates the entries in the datafram with those indexes"
   ]
  },
  {
   "cell_type": "code",
   "execution_count": 27,
   "id": "6f758b20",
   "metadata": {},
   "outputs": [
    {
     "name": "stdout",
     "output_type": "stream",
     "text": [
      "Youngest player in NBA regular season (2021): Usman Garuba, Age: 19\n",
      "Oldest player in NBA regular season (2021): Udonis Haslem, Age: 41\n"
     ]
    }
   ],
   "source": [
    "#First, find the index corresponding to the youngest and oldest player(s)\n",
    "youngest_index = NBA_regular_2021['Age'].idxmin()\n",
    "oldest_index = NBA_regular_2021['Age'].idxmax()\n",
    "\n",
    "#Then, use .loc to locate the players with that index in the dataframe\n",
    "#This creates new (small) dataframes for the youngest and oldest players, \n",
    "#which you can access like regular dataframes\n",
    "youngest_player = NBA_regular_2021.loc[youngest_index]\n",
    "oldest_player = NBA_regular_2021.loc[oldest_index]\n",
    "\n",
    "#Print the information about the youngest and oldest player - the 'Player' key gives us their names\n",
    "print(\"Youngest player in NBA regular season (2021): %s, Age: %s\" %(youngest_player['Player'], youngest_player['Age']))\n",
    "print(\"Oldest player in NBA regular season (2021): %s, Age: %s\" %(oldest_player['Player'], oldest_player['Age']))"
   ]
  },
  {
   "cell_type": "markdown",
   "id": "fbcb8e58",
   "metadata": {},
   "source": [
    "## 2. Standard Deviation\n",
    "The standard deviation tells us how spread out the numbers in a dataset are from the average (mean). We calculate it with the forumlae:\n",
    "\n",
    "### for an entire population\n",
    "## $\\sigma = \\sqrt{ \\frac{1}{N} \\sum_{i=1}^{N} (x_i - \\mu)^2 }$\n",
    "\n",
    "### for a sample of a population\n",
    "## $s = \\sqrt{ \\frac{1}{n - 1} \\sum_{i=1}^{n} (x_i - \\bar{x})^2 }$\n"
   ]
  },
  {
   "cell_type": "markdown",
   "id": "919f58b5",
   "metadata": {},
   "source": [
    "We can use the std() function in pandas to find the standard deviation. By default it assumes that you are finding the standard deviation of a sample of a population, which is the safer bet if you are looking at a smaller number of players in the NBA. If you want to change it, you can change the `ddof` value, which controls how much we subtract from the denominator."
   ]
  },
  {
   "cell_type": "code",
   "execution_count": 18,
   "id": "54419439",
   "metadata": {},
   "outputs": [
    {
     "name": "stdout",
     "output_type": "stream",
     "text": [
      "Standard deviation of NBA player ages (2021):  4.05713923852108\n"
     ]
    }
   ],
   "source": [
    "#Use pandas to find the standard deviation of the ages in NBA Player Ages for the regular season \n",
    "#We set ddof=0 to use the formula for an entire population!\n",
    "Age_sigma=NBA_regular_2021['Age'].std(ddof=0)\n",
    "\n",
    "print(\"Standard deviation of NBA player ages (2021): \", Age_sigma)"
   ]
  },
  {
   "cell_type": "markdown",
   "id": "79239915",
   "metadata": {},
   "source": [
    "Let's visualize this distribution along with the mean"
   ]
  },
  {
   "cell_type": "code",
   "execution_count": 19,
   "id": "faa1d52f",
   "metadata": {},
   "outputs": [
    {
     "data": {
      "image/png": "[encoded data removed]",
      "text/plain": [
       "<Figure size 864x432 with 1 Axes>"
      ]
     },
     "metadata": {
      "needs_background": "light"
     },
     "output_type": "display_data"
    }
   ],
   "source": [
    "plt.figure(figsize=(12, 6))\n",
    "plt.xlabel('Age (years)')\n",
    "plt.title('Distribution of NBA Player Ages (2021)')\n",
    "\n",
    "AverageAge=np.mean(NBA_regular_2021['Age'])\n",
    "\n",
    "plt.hist(NBA_regular_2021['Age'], bins=23)\n",
    "plt.axvline(AverageAge, color='black', dashes=[3,1])\n",
    "plt.show()"
   ]
  },
  {
   "cell_type": "markdown",
   "id": "4090e34a",
   "metadata": {},
   "source": [
    "## 3. Confidence intervals"
   ]
  },
  {
   "cell_type": "markdown",
   "id": "502bd7b2",
   "metadata": {},
   "source": [
    "Confidence intervals give us a range where we think the true average is.\n",
    "\n",
    "For data that falls in a **normal distribution**, the standard deviation can inform us about how much data falls within each confidence interval\n",
    "- First confidence interval: 68% of the data falls within 1 standard deviation of the mean\n",
    "- Second confidence interval: 95% of the data falls within 2 standard deviations of the mean\n",
    "- Third confidence interval: 99.7% of the data falls within 3 standard deviations of the mean"
   ]
  },
  {
   "cell_type": "markdown",
   "id": "90a8fb5b",
   "metadata": {},
   "source": [
    "Now let's visualize the standard deviation and confidence intervals, to get a sense of the spread in the data"
   ]
  },
  {
   "cell_type": "code",
   "execution_count": 20,
   "id": "0cbd4bcd",
   "metadata": {},
   "outputs": [
    {
     "data": {
      "image/png": "[encoded data removed]",
      "text/plain": [
       "<Figure size 864x432 with 1 Axes>"
      ]
     },
     "metadata": {
      "needs_background": "light"
     },
     "output_type": "display_data"
    }
   ],
   "source": [
    "plt.figure(figsize=(12, 6))\n",
    "plt.xlabel('Age (years)')\n",
    "plt.title('Distribution of NBA Player Ages (2021)')\n",
    "\n",
    "AverageAge=np.mean(NBA_regular_2021['Age'])\n",
    "\n",
    "plt.hist(NBA_regular_2021['Age'], bins=23, edgecolor='black')\n",
    "plt.axvline(AverageAge, color='black', dashes=[3,1])\n",
    "\n",
    "plt.axvspan(AverageAge-2*Age_sigma, AverageAge+2*Age_sigma, 0, color='red', alpha=0.1, label='±2σ (95%)')\n",
    "plt.axvspan(AverageAge-Age_sigma, AverageAge+Age_sigma, 0, color='green', alpha=0.1, label='±σ (68%)')\n",
    "\n",
    "plt.legend()\n",
    "\n",
    "plt.show()"
   ]
  },
  {
   "cell_type": "markdown",
   "id": "dda2e7d8",
   "metadata": {},
   "source": [
    "### 🔍 EXERCISE 1: Find the range of NBA player Ages for the 2022 and 2023 regular seasons and playoff seasons. \n",
    "\n",
    "### Do the ranges change much? \n",
    "\n",
    "### If there is a difference in Age Ranges between years and regular vs playoff season, why do you think that is?"
   ]
  },
  {
   "cell_type": "code",
   "execution_count": null,
   "id": "c948a012",
   "metadata": {},
   "outputs": [],
   "source": []
  },
  {
   "cell_type": "markdown",
   "id": "db1e2905",
   "metadata": {},
   "source": [
    "### 🔍 EXERCISE 2: Find the standard deviation for NBA Player Ages in the 2022 Regular and Playoff seasons.\n",
    "\n",
    "### What value of `ddof` should you use depending on the kind of season you are looking at?"
   ]
  },
  {
   "cell_type": "code",
   "execution_count": null,
   "id": "7cc3c477",
   "metadata": {},
   "outputs": [],
   "source": []
  },
  {
   "cell_type": "markdown",
   "id": "d17c3536",
   "metadata": {},
   "source": [
    "### 🔍 EXERCISE 3: Play around with and visualize different stats for the 2021 Regular season NBA dataset (make histograms for different stats) \n",
    "\n",
    "### look for variables that have something close to a normal distribution - which ones can you find that fit this criterion. Why do you think that is?"
   ]
  },
  {
   "cell_type": "code",
   "execution_count": null,
   "id": "37acecb8",
   "metadata": {},
   "outputs": [],
   "source": []
  },
  {
   "cell_type": "markdown",
   "id": "7680f389",
   "metadata": {},
   "source": [
    "### 🔍 EXERCISE 4: Find the standard deviation of the data you chose"
   ]
  },
  {
   "cell_type": "code",
   "execution_count": null,
   "id": "5ce3932f",
   "metadata": {},
   "outputs": [],
   "source": []
  },
  {
   "cell_type": "markdown",
   "id": "008a3359",
   "metadata": {},
   "source": [
    "### 🔍 EXERCISE 5: On your histogram, visualize the mean of the population with a vertical line"
   ]
  },
  {
   "cell_type": "code",
   "execution_count": null,
   "id": "6ab481bc",
   "metadata": {},
   "outputs": [],
   "source": []
  },
  {
   "cell_type": "markdown",
   "id": "7d2b3a33",
   "metadata": {},
   "source": [
    "### 🔍 EXERCISE 6: visualize the 1$\\sigma$ and 2$\\sigma$ confidence intervals on this histogram - what can you say about the confidence intervals? What percentage of the data can you expect to find within each interval?"
   ]
  },
  {
   "cell_type": "code",
   "execution_count": null,
   "id": "8f81437d",
   "metadata": {},
   "outputs": [],
   "source": []
  },
  {
   "cell_type": "markdown",
   "id": "ef9b2f40",
   "metadata": {},
   "source": [
    "### BONUS CONTENT"
   ]
  },
  {
   "cell_type": "markdown",
   "id": "2acd5552",
   "metadata": {},
   "source": [
    "### 🔍 EXERCISE 7: Choose three NBA stats of interest. Find the player in each season (including playoff seasons) with the lowest and highest value in that stat\n",
    "\n",
    "### Search the internet for the MVP of each season. Does he appear in your list of players for the stats you considered?\n",
    "\n",
    "### What other information can you show about these players?"
   ]
  },
  {
   "cell_type": "code",
   "execution_count": null,
   "id": "cb65dcd7",
   "metadata": {},
   "outputs": [],
   "source": []
  },
  {
   "cell_type": "markdown",
   "id": "bb640cc0",
   "metadata": {},
   "source": [
    "### 🔍 EXERCISE 8: Choose a single NBA stat and find the mean and standard deviation for it for a single season. \n",
    "\n",
    "### Which players fall outside of the 2$\\sigma$ confidence interval (in other words, which players have stats lower or higher than $\\bar{x} \\pm 2\\sigma$)?\n",
    "\n",
    "### What percentage of the data do these players represent? (remember that everyone *inside* of the 2$\\sigma$ interval represent 95% of the data - these players fall *outside* of that). Can we consider these players outliers? Why?"
   ]
  },
  {
   "cell_type": "code",
   "execution_count": null,
   "id": "336b5883",
   "metadata": {},
   "outputs": [],
   "source": []
  }
 ],
 "metadata": {
  "kernelspec": {
   "display_name": "Python 3",
   "language": "python",
   "name": "python3"
  },
  "language_info": {
   "codemirror_mode": {
    "name": "ipython",
    "version": 3
   },
   "file_extension": ".py",
   "mimetype": "text/x-python",
   "name": "python",
   "nbconvert_exporter": "python",
   "pygments_lexer": "ipython3",
   "version": "3.6.8"
  }
 },
 "nbformat": 4,
 "nbformat_minor": 5
}
