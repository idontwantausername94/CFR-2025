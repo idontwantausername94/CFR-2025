{
 "cells": [
  {
   "cell_type": "code",
   "execution_count": null,
   "metadata": {},
   "outputs": [],
   "source": [
    "# copy and paste your lines of code from the previous notebook where you read in the data\n",
    "\n"
   ]
  },
  {
   "cell_type": "markdown",
   "metadata": {},
   "source": [
    "**Copy and paste the table with the column explanations you started in the last notebook**\n",
    "\n"
   ]
  },
  {
   "cell_type": "markdown",
   "metadata": {},
   "source": [
    "## Density of Stars\n",
    "\n",
    "Let's now explore the densities of stars. If you recall from STP, density is the amount of stuff something has (the mass) in a given space (the volume). **Looking at the data table, what variables might be helpful for us to calculate the density of stars?** \n",
    "\n",
    "**Answer:**"
   ]
  },
  {
   "cell_type": "markdown",
   "metadata": {},
   "source": [
    "The equation for density is $\\ \\rm D = \\frac{Mass}{Volume}$. Stars are spheres whose volumes can be calculated using the equation $\\ \\rm V = \\frac{4}{3}\\pi r^3$, where r is the radius and $\\pi$ is 3.14"
   ]
  },
  {
   "cell_type": "code",
   "execution_count": null,
   "metadata": {},
   "outputs": [],
   "source": [
    "# create variables for the mass and radius\n",
    "\n"
   ]
  },
  {
   "cell_type": "code",
   "execution_count": null,
   "metadata": {},
   "outputs": [],
   "source": [
    "# calculate the volume of the stars below. try doing so with a function!\n",
    "# the resulting units will be (Ro)^3\n",
    "\n"
   ]
  },
  {
   "cell_type": "code",
   "execution_count": null,
   "metadata": {},
   "outputs": [],
   "source": [
    "# let's make a mass vs volume plot, just like you did for STP!\n",
    "\n",
    "# import our graphing package\n",
    "\n",
    "\n",
    "#the below is optional but makes the font a size I can read more easily\n",
    "import matplotlib\n",
    "matplotlib.rc('font', **{'family':'sans-serif', 'size':16}) "
   ]
  },
  {
   "cell_type": "code",
   "execution_count": null,
   "metadata": {},
   "outputs": [],
   "source": [
    "# create a scatter plot where mass is on the y axis and volume is on the x axis\n",
    "# don't forget to label both axes\n"
   ]
  },
  {
   "cell_type": "markdown",
   "metadata": {},
   "source": [
    "**What range of masses does your graph show?**\n",
    "\n",
    "**Answer:**\n",
    "\n",
    "**What range of volumes does your graph show?**\n",
    "\n",
    "**Answer:** "
   ]
  },
  {
   "cell_type": "code",
   "execution_count": null,
   "metadata": {},
   "outputs": [],
   "source": [
    "# the scatter plot has some mess in it! let's get rid of it by zooming in\n",
    "# zoom in on a volume range of (0, 15)\n",
    "\n"
   ]
  },
  {
   "cell_type": "markdown",
   "metadata": {},
   "source": [
    "**According to your graph set up...**\n",
    "\n",
    "**What is the independent variable**\n",
    "\n",
    "**Answer:?**\n",
    "\n",
    "\n",
    "**What is the dependent variable?**\n",
    "\n",
    "**Answer:?**\n",
    "\n",
    "\n",
    "**What could a control variable be?**\n",
    "\n",
    "**Answer:?**\n"
   ]
  },
  {
   "cell_type": "markdown",
   "metadata": {},
   "source": [
    "**Describe any pattern/trend (or lack of one) you see**\n",
    "\n",
    "**Answer:** "
   ]
  },
  {
   "cell_type": "markdown",
   "metadata": {},
   "source": [
    "## Check in \n",
    "\n",
    "**Could a directly proportional model describe the data? Add notes from our class discussion below**\n",
    "\n",
    "**Notes:** "
   ]
  },
  {
   "cell_type": "code",
   "execution_count": null,
   "metadata": {},
   "outputs": [],
   "source": [
    "# add the sun to your zoomed in plot with a red star marker\n",
    "# remember the Sun's mass is 1 Mo and its radius is 1 Ro\n",
    "# label it \"The Sun\"\n",
    "\n"
   ]
  },
  {
   "cell_type": "code",
   "execution_count": null,
   "metadata": {},
   "outputs": [],
   "source": [
    "# let's change our units to match the units in your mass vs volume STP lab\n",
    "# create two functions to convert the mass and the volume\n",
    "\n",
    "# 1) convert mass to grams (g) with a function\n",
    "# you need to multiply the masses you have by 1.989^30 and by 1,000\n",
    "\n",
    "# 2) convert volume to militers (mL) with a function\n",
    "# you need to multiply the volume by (695700)^3 and 100,000^3\n"
   ]
  },
  {
   "cell_type": "code",
   "execution_count": null,
   "metadata": {},
   "outputs": [],
   "source": [
    "# make a new scatter plot showing mass vs volume for gaia and for the sun with our new units (mL and g)\n",
    "# (it will be the same as your last plot but the units will change)\n",
    "# you will need to change the xlim to be in your new units. make sure the scale matches your first one\n",
    "\n"
   ]
  },
  {
   "cell_type": "markdown",
   "metadata": {},
   "source": [
    "**What range of volumes does your graph show?**\n",
    "\n",
    "**Answer:** \n",
    "\n",
    "**What range of masses does your graph show?**\n",
    "\n",
    "**Answer:** "
   ]
  },
  {
   "cell_type": "markdown",
   "metadata": {},
   "source": [
    "## Sun Density\n",
    "\n",
    "Since a directly proportional model won't describe the data well, let's calculate the density of the Sun. Remember density is $\\ \\rm D = \\frac{Mass}{Volume}$  . Make sure your density is g/mL"
   ]
  },
  {
   "cell_type": "code",
   "execution_count": null,
   "metadata": {},
   "outputs": [],
   "source": [
    "# calculate the density of the Sun below in g/mL\n",
    "\n"
   ]
  },
  {
   "cell_type": "markdown",
   "metadata": {},
   "source": [
    "## Deliverable\n",
    "\n",
    "Make a line plot showing the density of the Sun compared to the density of the 3 liquids you measured for STP. (So you should have a graph with 3 lines on it.) Customize and label the lines so that your graph is clear. Make sure we can easily read the fonts. Be ready to explain your plot and the choices you made to us. "
   ]
  },
  {
   "cell_type": "code",
   "execution_count": null,
   "metadata": {
    "scrolled": true
   },
   "outputs": [],
   "source": [
    "# create your line plot below\n",
    "\n",
    "# fill in the volumes you measured for STP in the list below\n",
    "# this will be your array for the x axis for each liquid and for the sun\n",
    "volumes = [] #mL\n",
    "\n",
    "# the below function will calculate the masses based on the density you put in, you don't need to edit it\n",
    "def masses(density): #g/mL\n",
    "    mass = [a * density for a in volumes]\n",
    "    return mass\n",
    "\n",
    "# you will need to use this function for each object below\n",
    "water_mass = \n",
    "oil_mass =\n",
    "karo_mass =\n",
    "sun_mass =\n",
    "\n",
    "#plot a line for the four substances above on the same graph. change the colors for each line and label them\n",
    "#remember a line for a directly proportional model is A * x. What did A and x represent in this lab?"
   ]
  },
  {
   "cell_type": "markdown",
   "metadata": {},
   "source": [
    "**Which liquid from your STP lab has the closest density to the Sun?**\n",
    "\n",
    "**Answer:**"
   ]
  }
 ],
 "metadata": {
  "kernelspec": {
   "display_name": "Python [conda env:base] *",
   "language": "python",
   "name": "conda-base-py"
  },
  "language_info": {
   "codemirror_mode": {
    "name": "ipython",
    "version": 3
   },
   "file_extension": ".py",
   "mimetype": "text/x-python",
   "name": "python",
   "nbconvert_exporter": "python",
   "pygments_lexer": "ipython3",
   "version": "3.12.7"
  }
 },
 "nbformat": 4,
 "nbformat_minor": 4
}
